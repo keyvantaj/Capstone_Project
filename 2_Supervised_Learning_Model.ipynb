{
 "cells": [
  {
   "cell_type": "code",
   "execution_count": 1,
   "metadata": {},
   "outputs": [],
   "source": [
    "# import libraries here; add more as necessary\n",
    "import numpy as np\n",
    "import pandas as pd\n",
    "import matplotlib.pyplot as plt\n",
    "import seaborn as sns\n",
    "import pickle\n",
    "# magic word for producing visualizations in notebook\n",
    "%matplotlib inline"
   ]
  },
  {
   "cell_type": "markdown",
   "metadata": {},
   "source": [
    "## Part 2: Supervised Learning Model\n",
    "\n",
    "Now that you've found which parts of the population are more likely to be customers of the mail-order company, it's time to build a prediction model. Each of the rows in the \"MAILOUT\" data files represents an individual that was targeted for a mailout campaign. Ideally, we should be able to use the demographic information from each individual to decide whether or not it will be worth it to include that person in the campaign.\n",
    "\n",
    "The \"MAILOUT\" data has been split into two approximately equal parts, each with almost 43 000 data rows. In this part, you can verify your model with the \"TRAIN\" partition, which includes a column, \"RESPONSE\", that states whether or not a person became a customer of the company following the campaign. In the next part, you'll need to create predictions on the \"TEST\" partition, where the \"RESPONSE\" column has been withheld."
   ]
  },
  {
   "cell_type": "code",
   "execution_count": 109,
   "metadata": {},
   "outputs": [
    {
     "name": "stderr",
     "output_type": "stream",
     "text": [
      "/opt/conda/lib/python3.6/site-packages/IPython/core/interactiveshell.py:2785: DtypeWarning: Columns (18,19) have mixed types. Specify dtype option on import or set low_memory=False.\n",
      "  interactivity=interactivity, compiler=compiler, result=result)\n"
     ]
    }
   ],
   "source": [
    "mailout_train = pd.read_csv('../../data/Term2/capstone/arvato_data/Udacity_MAILOUT_052018_TRAIN.csv', sep=';')"
   ]
  },
  {
   "cell_type": "code",
   "execution_count": 110,
   "metadata": {},
   "outputs": [
    {
     "name": "stderr",
     "output_type": "stream",
     "text": [
      "/opt/conda/lib/python3.6/site-packages/IPython/core/interactiveshell.py:2785: DtypeWarning: Columns (18,19) have mixed types. Specify dtype option on import or set low_memory=False.\n",
      "  interactivity=interactivity, compiler=compiler, result=result)\n"
     ]
    }
   ],
   "source": [
    "mailout_test = pd.read_csv('../../data/Term2/capstone/arvato_data/Udacity_MAILOUT_052018_TEST.csv', sep=';')"
   ]
  },
  {
   "cell_type": "code",
   "execution_count": 111,
   "metadata": {},
   "outputs": [
    {
     "data": {
      "text/plain": [
       "(42962, 367)"
      ]
     },
     "execution_count": 111,
     "metadata": {},
     "output_type": "execute_result"
    }
   ],
   "source": [
    "mailout_train.shape"
   ]
  },
  {
   "cell_type": "code",
   "execution_count": 112,
   "metadata": {},
   "outputs": [
    {
     "data": {
      "text/plain": [
       "(42833, 366)"
      ]
     },
     "execution_count": 112,
     "metadata": {},
     "output_type": "execute_result"
    }
   ],
   "source": [
    "mailout_test.shape"
   ]
  },
  {
   "cell_type": "markdown",
   "metadata": {},
   "source": [
    "## 1- Clean the data"
   ]
  },
  {
   "cell_type": "code",
   "execution_count": 113,
   "metadata": {},
   "outputs": [],
   "source": [
    "mailout_train_raw = mailout_train.drop(labels='RESPONSE',axis=1)"
   ]
  },
  {
   "cell_type": "code",
   "execution_count": 114,
   "metadata": {},
   "outputs": [],
   "source": [
    "mailout_train_raw = mailout_train_raw.sort_values('LNR')\n",
    "mailout_test_raw = mailout_test.sort_values('LNR')"
   ]
  },
  {
   "cell_type": "code",
   "execution_count": 115,
   "metadata": {},
   "outputs": [],
   "source": [
    "# Set LNR columns as index\n",
    "mailout_train_raw = mailout_train_raw.set_index('LNR')\n",
    "mailout_test_raw = mailout_test_raw.set_index('LNR')"
   ]
  },
  {
   "cell_type": "code",
   "execution_count": 116,
   "metadata": {},
   "outputs": [],
   "source": [
    "mailout_train_raw['D19_LETZTER_KAUF_BRANCHE'] = mailout_train_raw['D19_LETZTER_KAUF_BRANCHE'].fillna('nan')\n",
    "mailout_test_raw['D19_LETZTER_KAUF_BRANCHE'] = mailout_test_raw['D19_LETZTER_KAUF_BRANCHE'].fillna('nan')"
   ]
  },
  {
   "cell_type": "code",
   "execution_count": 117,
   "metadata": {},
   "outputs": [],
   "source": [
    "kf = {'D19_BANKEN_DIREKT':0,\n",
    " 'D19_BANKEN_GROSS':1,\n",
    " 'D19_BANKEN_LOKAL':2,\n",
    " 'D19_BANKEN_REST':3,\n",
    " 'D19_BEKLEIDUNG_GEH':4,\n",
    " 'D19_BEKLEIDUNG_REST':5,\n",
    " 'D19_BILDUNG':6,\n",
    " 'D19_BIO_OEKO':7,\n",
    " 'D19_BUCH_CD':8,\n",
    " 'D19_DIGIT_SERV':9,\n",
    " 'D19_DROGERIEARTIKEL':10,\n",
    " 'D19_ENERGIE':11,\n",
    " 'D19_FREIZEIT':12,\n",
    " 'D19_GARTEN':13,\n",
    " 'D19_HANDWERK':14,\n",
    " 'D19_HAUS_DEKO':15,\n",
    " 'D19_KINDERARTIKEL':16,\n",
    " 'D19_KOSMETIK':17,\n",
    " 'D19_LEBENSMITTEL':18,\n",
    " 'D19_LOTTO':19,\n",
    " 'D19_NAHRUNGSERGAENZUNG':20,\n",
    " 'D19_RATGEBER':21,\n",
    " 'D19_REISEN':22,\n",
    " 'D19_SAMMELARTIKEL':23,\n",
    " 'D19_SCHUHE':24,\n",
    " 'D19_SONSTIGE':25,\n",
    " 'D19_TECHNIK':26,\n",
    " 'D19_TELKO_MOBILE':27,\n",
    " 'D19_TELKO_REST':28,\n",
    " 'D19_TIERARTIKEL':29,\n",
    " 'D19_UNBEKANNT':30,\n",
    " 'D19_VERSAND_REST':31,\n",
    " 'D19_VERSICHERUNGEN':32,\n",
    " 'D19_VOLLSORTIMENT':33,\n",
    " 'D19_WEIN_FEINKOST':34,\n",
    "'nan':-1}"
   ]
  },
  {
   "cell_type": "markdown",
   "metadata": {},
   "source": [
    "##### VII. Creating CAMEO_DEU_2015 dictionary:"
   ]
  },
  {
   "cell_type": "code",
   "execution_count": 118,
   "metadata": {},
   "outputs": [
    {
     "name": "stdout",
     "output_type": "stream",
     "text": [
      "The CAMEO_DEU_2015  of customers dataframe are as follows:\n",
      "\n"
     ]
    },
    {
     "data": {
      "text/plain": [
       "{'1A',\n",
       " '1B',\n",
       " '1C',\n",
       " '1D',\n",
       " '1E',\n",
       " '2A',\n",
       " '2B',\n",
       " '2C',\n",
       " '2D',\n",
       " '3A',\n",
       " '3B',\n",
       " '3C',\n",
       " '3D',\n",
       " '4A',\n",
       " '4B',\n",
       " '4C',\n",
       " '4D',\n",
       " '4E',\n",
       " '5A',\n",
       " '5B',\n",
       " '5C',\n",
       " '5D',\n",
       " '5E',\n",
       " '5F',\n",
       " '6A',\n",
       " '6B',\n",
       " '6C',\n",
       " '6D',\n",
       " '6E',\n",
       " '6F',\n",
       " '7A',\n",
       " '7B',\n",
       " '7C',\n",
       " '7D',\n",
       " '7E',\n",
       " '8A',\n",
       " '8B',\n",
       " '8C',\n",
       " '8D',\n",
       " '9A',\n",
       " '9B',\n",
       " '9C',\n",
       " '9D',\n",
       " '9E',\n",
       " 'XX',\n",
       " nan}"
      ]
     },
     "execution_count": 118,
     "metadata": {},
     "output_type": "execute_result"
    }
   ],
   "source": [
    "print ('The CAMEO_DEU_2015  of customers dataframe are as follows:\\n')\n",
    "set(mailout_train_raw['CAMEO_DEU_2015'])"
   ]
  },
  {
   "cell_type": "code",
   "execution_count": 119,
   "metadata": {},
   "outputs": [],
   "source": [
    "#Replacing NaNs with string NaNs\n",
    "mailout_train_raw['CAMEO_DEU_2015'] = mailout_train_raw['CAMEO_DEU_2015'].fillna('nan')\n",
    "mailout_test_raw['CAMEO_DEU_2015'] = mailout_test_raw['CAMEO_DEU_2015'].fillna('nan')"
   ]
  },
  {
   "cell_type": "code",
   "execution_count": 120,
   "metadata": {},
   "outputs": [],
   "source": [
    "# Defining a dictionary to convert string values to integer\n",
    "cam = {'1A':1,\n",
    " '1B':2,\n",
    " '1C':3,\n",
    " '1D':4,\n",
    " '1E':5,\n",
    " '2A':6,\n",
    " '2B':7,\n",
    " '2C':8,\n",
    " '2D':9,\n",
    " '3A':10,\n",
    " '3B':11,\n",
    " '3C':12,\n",
    " '3D':13,\n",
    " '4A':14,\n",
    " '4B':15,\n",
    " '4C':16,\n",
    " '4D':17,\n",
    " '4E':18,\n",
    " '5A':19,\n",
    " '5B':20,\n",
    " '5C':21,\n",
    " '5D':22,\n",
    " '5E':23,\n",
    " '5F':24,\n",
    " '6A':25,\n",
    " '6B':26,\n",
    " '6C':27,\n",
    " '6D':28,\n",
    " '6E':29,\n",
    " '6F':30,\n",
    " '7A':31,\n",
    " '7B':32,\n",
    " '7C':33,\n",
    " '7D':34,\n",
    " '7E':35,\n",
    " '8A':36,\n",
    " '8B':37,\n",
    " '8C':38,\n",
    " '8D':39,\n",
    " '9A':40,\n",
    " '9B':41,\n",
    " '9C':42,\n",
    " '9D':43,\n",
    " '9E':44,\n",
    " 'XX':45,\n",
    " 'nan':-1}"
   ]
  },
  {
   "cell_type": "markdown",
   "metadata": {},
   "source": [
    "##### VIII. Applying lambda function to each column"
   ]
  },
  {
   "cell_type": "code",
   "execution_count": 121,
   "metadata": {},
   "outputs": [],
   "source": [
    "def convert_non_values(df,dict,feature):\n",
    "\n",
    "    df[feature] = df[feature].apply(lambda x: dict[x])"
   ]
  },
  {
   "cell_type": "code",
   "execution_count": 122,
   "metadata": {},
   "outputs": [],
   "source": [
    "# Converting features discussed previously\n",
    "convert_non_values(mailout_test_raw,kf,'D19_LETZTER_KAUF_BRANCHE')\n",
    "convert_non_values(mailout_test_raw,cam,'CAMEO_DEU_2015')\n",
    "convert_non_values(mailout_train_raw,kf,'D19_LETZTER_KAUF_BRANCHE')\n",
    "convert_non_values(mailout_train_raw,cam,'CAMEO_DEU_2015')"
   ]
  },
  {
   "cell_type": "code",
   "execution_count": 123,
   "metadata": {},
   "outputs": [],
   "source": [
    "# Identifying non values columns\n",
    "mailout_train_raw_subset = mailout_train_raw.select_dtypes(exclude=[np.float, np.int])\n",
    "mailout_test_raw_subset = mailout_test_raw.select_dtypes(exclude=[np.float, np.int])"
   ]
  },
  {
   "cell_type": "code",
   "execution_count": 124,
   "metadata": {},
   "outputs": [],
   "source": [
    "mailout_train_raw.to_pickle(\"mailout_train_raw_subset.pkl\")\n",
    "mailout_test_raw.to_pickle(\"mailout_test_raw_subset.pkl\")"
   ]
  },
  {
   "cell_type": "code",
   "execution_count": 125,
   "metadata": {},
   "outputs": [],
   "source": [
    "# Dropping columns\n",
    "clean_mailout_train_raw = mailout_train_raw.drop(['OST_WEST_KZ','EINGEFUEGT_AM'], axis=1)\n",
    "clean_mailout_test_raw = mailout_test_raw.drop(['OST_WEST_KZ','EINGEFUEGT_AM'], axis=1)"
   ]
  },
  {
   "cell_type": "markdown",
   "metadata": {},
   "source": [
    "##### II. Converting remaining non values data to numeric values otherwise replace with NaN"
   ]
  },
  {
   "cell_type": "code",
   "execution_count": 126,
   "metadata": {},
   "outputs": [],
   "source": [
    "clean_mailout_train_raw[['CAMEO_DEUG_2015','CAMEO_INTL_2015']] = clean_mailout_train_raw[['CAMEO_DEUG_2015','CAMEO_INTL_2015']].apply(pd.to_numeric, errors='coerce')\n",
    "clean_mailout_test_raw[['CAMEO_DEUG_2015','CAMEO_INTL_2015']] = clean_mailout_test_raw[['CAMEO_DEUG_2015','CAMEO_INTL_2015']].apply(pd.to_numeric, errors='coerce')"
   ]
  },
  {
   "cell_type": "markdown",
   "metadata": {},
   "source": [
    "##### III. Replacing unknown (-1) and none (0) values with NaN"
   ]
  },
  {
   "cell_type": "code",
   "execution_count": 127,
   "metadata": {},
   "outputs": [],
   "source": [
    "clean_mailout_train_raw.replace([0,-1], np.nan, inplace=True)\n",
    "clean_mailout_test_raw.replace([0,-1], np.nan, inplace=True)"
   ]
  },
  {
   "cell_type": "markdown",
   "metadata": {},
   "source": [
    "##### IV. Analyzing NaN values in dataset"
   ]
  },
  {
   "cell_type": "markdown",
   "metadata": {},
   "source": [
    "As we have noticed during the data exploration many of dataset columns contain more than 30% of NaN values. First we go to vizualize the percentage of NaN data in each feature using [Seaborn barplot](https://seaborn.pydata.org/generated/seaborn.barplot.html) module. Then according to our analyze we will decide on how many columns to drop."
   ]
  },
  {
   "cell_type": "code",
   "execution_count": 128,
   "metadata": {},
   "outputs": [
    {
     "data": {
      "text/html": [
       "<div>\n",
       "<style scoped>\n",
       "    .dataframe tbody tr th:only-of-type {\n",
       "        vertical-align: middle;\n",
       "    }\n",
       "\n",
       "    .dataframe tbody tr th {\n",
       "        vertical-align: top;\n",
       "    }\n",
       "\n",
       "    .dataframe thead th {\n",
       "        text-align: right;\n",
       "    }\n",
       "</style>\n",
       "<table border=\"1\" class=\"dataframe\">\n",
       "  <thead>\n",
       "    <tr style=\"text-align: right;\">\n",
       "      <th></th>\n",
       "      <th>Total</th>\n",
       "      <th>Percent</th>\n",
       "    </tr>\n",
       "  </thead>\n",
       "  <tbody>\n",
       "    <tr>\n",
       "      <th>D19_TELKO_ONLINE_QUOTE_12</th>\n",
       "      <td>42922</td>\n",
       "      <td>0.999069</td>\n",
       "    </tr>\n",
       "    <tr>\n",
       "      <th>ALTER_KIND4</th>\n",
       "      <td>42921</td>\n",
       "      <td>0.999046</td>\n",
       "    </tr>\n",
       "    <tr>\n",
       "      <th>D19_VERSI_ONLINE_QUOTE_12</th>\n",
       "      <td>42902</td>\n",
       "      <td>0.998603</td>\n",
       "    </tr>\n",
       "    <tr>\n",
       "      <th>ALTER_KIND3</th>\n",
       "      <td>42788</td>\n",
       "      <td>0.995950</td>\n",
       "    </tr>\n",
       "    <tr>\n",
       "      <th>TITEL_KZ</th>\n",
       "      <td>42749</td>\n",
       "      <td>0.995042</td>\n",
       "    </tr>\n",
       "  </tbody>\n",
       "</table>\n",
       "</div>"
      ],
      "text/plain": [
       "                           Total   Percent\n",
       "D19_TELKO_ONLINE_QUOTE_12  42922  0.999069\n",
       "ALTER_KIND4                42921  0.999046\n",
       "D19_VERSI_ONLINE_QUOTE_12  42902  0.998603\n",
       "ALTER_KIND3                42788  0.995950\n",
       "TITEL_KZ                   42749  0.995042"
      ]
     },
     "execution_count": 128,
     "metadata": {},
     "output_type": "execute_result"
    },
    {
     "data": {
      "image/png": "[encoded data removed]",
      "text/plain": [
       "<matplotlib.figure.Figure at 0x7f91c2c99748>"
      ]
     },
     "metadata": {
      "needs_background": "light"
     },
     "output_type": "display_data"
    }
   ],
   "source": [
    "total = clean_mailout_train_raw.isna().sum().sort_values(ascending=False)\n",
    "percent = (clean_mailout_train_raw.isna().sum()/clean_mailout_train_raw.isna().count()).sort_values(ascending=False)\n",
    "nan_data_mailout_train_raw = pd.concat([total, percent], axis=1, keys=['Total', 'Percent'])\n",
    "\n",
    "f, ax = plt.subplots(figsize=(20, 10))\n",
    "\n",
    "for tick in ax.xaxis.get_major_ticks():\n",
    "    tick.label.set_fontsize(5)\n",
    "\n",
    "    plt.xticks(rotation='90')\n",
    "sns.barplot(x=nan_data_mailout_train_raw.index, y=nan_data_mailout_train_raw['Percent'])\n",
    "plt.xlabel('Features', fontsize=15)\n",
    "plt.ylabel('Percent of nan values', fontsize=15)\n",
    "plt.title('Percent nan data by feature for train dataset', fontsize=15)\n",
    "\n",
    "nan_data_mailout_train_raw.head()"
   ]
  },
  {
   "cell_type": "markdown",
   "metadata": {},
   "source": [
    "##### V. Dropping columns with more than 10% of NaN values"
   ]
  },
  {
   "cell_type": "markdown",
   "metadata": {},
   "source": [
    "We have decided to drop columns with more than 20% NaN values in customers dataset and the same operation is applied to azidas dataset in order to get the same output (the same shape for both datasets). First we create a list of features having more han 20% NaNs and then these columns are dropped."
   ]
  },
  {
   "cell_type": "code",
   "execution_count": 129,
   "metadata": {},
   "outputs": [],
   "source": [
    "# Dropping same columns in azdias and customers dataset\n",
    "clean_mailout_train_raw_dropna = clean_mailout_train_raw[['CJT_GESAMTTYP', 'CJT_KATALOGNUTZER', 'CJT_TYP_1', 'CJT_TYP_2',\n",
    "        'CJT_TYP_3', 'CJT_TYP_4', 'CJT_TYP_5', 'CJT_TYP_6', 'D19_BANKEN_DATUM',\n",
    "        'D19_BANKEN_OFFLINE_DATUM', 'D19_BANKEN_ONLINE_DATUM',\n",
    "        'D19_GESAMT_DATUM', 'D19_GESAMT_OFFLINE_DATUM',\n",
    "        'D19_GESAMT_ONLINE_DATUM', 'D19_KONSUMTYP_MAX', 'D19_TELKO_DATUM',\n",
    "        'D19_TELKO_OFFLINE_DATUM', 'D19_TELKO_ONLINE_DATUM',\n",
    "        'D19_VERSAND_DATUM', 'D19_VERSAND_OFFLINE_DATUM',\n",
    "        'D19_VERSAND_ONLINE_DATUM', 'D19_VERSI_DATUM',\n",
    "        'D19_VERSI_OFFLINE_DATUM', 'D19_VERSI_ONLINE_DATUM', 'FINANZ_ANLEGER',\n",
    "        'FINANZ_HAUSBAUER', 'FINANZ_MINIMALIST', 'FINANZ_SPARER',\n",
    "        'FINANZ_UNAUFFAELLIGER', 'FINANZ_VORSORGER', 'FINANZTYP',\n",
    "        'GFK_URLAUBERTYP', 'HH_EINKOMMEN_SCORE', 'KOMBIALTER', 'LP_STATUS_FEIN',\n",
    "        'LP_STATUS_GROB', 'ONLINE_AFFINITAET', 'RETOURTYP_BK_S',\n",
    "        'RT_KEIN_ANREIZ', 'RT_SCHNAEPPCHEN', 'SEMIO_DOM', 'SEMIO_ERL',\n",
    "        'SEMIO_FAM', 'SEMIO_KAEM', 'SEMIO_KRIT', 'SEMIO_KULT', 'SEMIO_LUST',\n",
    "        'SEMIO_MAT', 'SEMIO_PFLICHT', 'SEMIO_RAT', 'SEMIO_REL', 'SEMIO_SOZ',\n",
    "        'SEMIO_TRADV', 'SEMIO_VERT', 'ZABEOTYP', 'ANREDE_KZ',\n",
    "        'ALTERSKATEGORIE_GROB']]"
   ]
  },
  {
   "cell_type": "code",
   "execution_count": 130,
   "metadata": {},
   "outputs": [],
   "source": [
    "clean_mailout_test_raw_dropna = clean_mailout_test_raw[['CJT_GESAMTTYP', 'CJT_KATALOGNUTZER', 'CJT_TYP_1', 'CJT_TYP_2',\n",
    "        'CJT_TYP_3', 'CJT_TYP_4', 'CJT_TYP_5', 'CJT_TYP_6', 'D19_BANKEN_DATUM',\n",
    "        'D19_BANKEN_OFFLINE_DATUM', 'D19_BANKEN_ONLINE_DATUM',\n",
    "        'D19_GESAMT_DATUM', 'D19_GESAMT_OFFLINE_DATUM',\n",
    "        'D19_GESAMT_ONLINE_DATUM', 'D19_KONSUMTYP_MAX', 'D19_TELKO_DATUM',\n",
    "        'D19_TELKO_OFFLINE_DATUM', 'D19_TELKO_ONLINE_DATUM',\n",
    "        'D19_VERSAND_DATUM', 'D19_VERSAND_OFFLINE_DATUM',\n",
    "        'D19_VERSAND_ONLINE_DATUM', 'D19_VERSI_DATUM',\n",
    "        'D19_VERSI_OFFLINE_DATUM', 'D19_VERSI_ONLINE_DATUM', 'FINANZ_ANLEGER',\n",
    "        'FINANZ_HAUSBAUER', 'FINANZ_MINIMALIST', 'FINANZ_SPARER',\n",
    "        'FINANZ_UNAUFFAELLIGER', 'FINANZ_VORSORGER', 'FINANZTYP',\n",
    "        'GFK_URLAUBERTYP', 'HH_EINKOMMEN_SCORE', 'KOMBIALTER', 'LP_STATUS_FEIN',\n",
    "        'LP_STATUS_GROB', 'ONLINE_AFFINITAET', 'RETOURTYP_BK_S',\n",
    "        'RT_KEIN_ANREIZ', 'RT_SCHNAEPPCHEN', 'SEMIO_DOM', 'SEMIO_ERL',\n",
    "        'SEMIO_FAM', 'SEMIO_KAEM', 'SEMIO_KRIT', 'SEMIO_KULT', 'SEMIO_LUST',\n",
    "        'SEMIO_MAT', 'SEMIO_PFLICHT', 'SEMIO_RAT', 'SEMIO_REL', 'SEMIO_SOZ',\n",
    "        'SEMIO_TRADV', 'SEMIO_VERT', 'ZABEOTYP', 'ANREDE_KZ',\n",
    "        'ALTERSKATEGORIE_GROB']]"
   ]
  },
  {
   "cell_type": "code",
   "execution_count": 131,
   "metadata": {},
   "outputs": [
    {
     "data": {
      "text/plain": [
       "(Index(['CJT_GESAMTTYP', 'CJT_KATALOGNUTZER', 'CJT_TYP_1', 'CJT_TYP_2',\n",
       "        'CJT_TYP_3', 'CJT_TYP_4', 'CJT_TYP_5', 'CJT_TYP_6', 'D19_BANKEN_DATUM',\n",
       "        'D19_BANKEN_OFFLINE_DATUM', 'D19_BANKEN_ONLINE_DATUM',\n",
       "        'D19_GESAMT_DATUM', 'D19_GESAMT_OFFLINE_DATUM',\n",
       "        'D19_GESAMT_ONLINE_DATUM', 'D19_KONSUMTYP_MAX', 'D19_TELKO_DATUM',\n",
       "        'D19_TELKO_OFFLINE_DATUM', 'D19_TELKO_ONLINE_DATUM',\n",
       "        'D19_VERSAND_DATUM', 'D19_VERSAND_OFFLINE_DATUM',\n",
       "        'D19_VERSAND_ONLINE_DATUM', 'D19_VERSI_DATUM',\n",
       "        'D19_VERSI_OFFLINE_DATUM', 'D19_VERSI_ONLINE_DATUM', 'FINANZ_ANLEGER',\n",
       "        'FINANZ_HAUSBAUER', 'FINANZ_MINIMALIST', 'FINANZ_SPARER',\n",
       "        'FINANZ_UNAUFFAELLIGER', 'FINANZ_VORSORGER', 'FINANZTYP',\n",
       "        'GFK_URLAUBERTYP', 'HH_EINKOMMEN_SCORE', 'KOMBIALTER', 'LP_STATUS_FEIN',\n",
       "        'LP_STATUS_GROB', 'ONLINE_AFFINITAET', 'RETOURTYP_BK_S',\n",
       "        'RT_KEIN_ANREIZ', 'RT_SCHNAEPPCHEN', 'SEMIO_DOM', 'SEMIO_ERL',\n",
       "        'SEMIO_FAM', 'SEMIO_KAEM', 'SEMIO_KRIT', 'SEMIO_KULT', 'SEMIO_LUST',\n",
       "        'SEMIO_MAT', 'SEMIO_PFLICHT', 'SEMIO_RAT', 'SEMIO_REL', 'SEMIO_SOZ',\n",
       "        'SEMIO_TRADV', 'SEMIO_VERT', 'ZABEOTYP', 'ANREDE_KZ',\n",
       "        'ALTERSKATEGORIE_GROB'],\n",
       "       dtype='object'), 57)"
      ]
     },
     "execution_count": 131,
     "metadata": {},
     "output_type": "execute_result"
    }
   ],
   "source": [
    "# Remaining features and length \n",
    "clean_mailout_train_raw_dropna.columns, len(clean_mailout_train_raw_dropna.columns)"
   ]
  },
  {
   "cell_type": "markdown",
   "metadata": {},
   "source": [
    "##### VII. Replacing remaining NaNs with -1 value"
   ]
  },
  {
   "cell_type": "code",
   "execution_count": 132,
   "metadata": {},
   "outputs": [],
   "source": [
    "clean_mailout_train_raw_fillna = clean_mailout_train_raw_dropna.fillna(-1)\n",
    "clean_mailout_test_raw_fillna = clean_mailout_test_raw_dropna.fillna(-1)"
   ]
  },
  {
   "cell_type": "markdown",
   "metadata": {},
   "source": [
    "##### VIII. Checking data type and cleaned values"
   ]
  },
  {
   "cell_type": "code",
   "execution_count": 133,
   "metadata": {},
   "outputs": [
    {
     "data": {
      "text/plain": [
       "CJT_GESAMTTYP                0\n",
       "CJT_KATALOGNUTZER            0\n",
       "CJT_TYP_1                    0\n",
       "CJT_TYP_2                    0\n",
       "CJT_TYP_3                    0\n",
       "CJT_TYP_4                    0\n",
       "CJT_TYP_5                    0\n",
       "CJT_TYP_6                    0\n",
       "D19_BANKEN_DATUM             0\n",
       "D19_BANKEN_OFFLINE_DATUM     0\n",
       "D19_BANKEN_ONLINE_DATUM      0\n",
       "D19_GESAMT_DATUM             0\n",
       "D19_GESAMT_OFFLINE_DATUM     0\n",
       "D19_GESAMT_ONLINE_DATUM      0\n",
       "D19_KONSUMTYP_MAX            0\n",
       "D19_TELKO_DATUM              0\n",
       "D19_TELKO_OFFLINE_DATUM      0\n",
       "D19_TELKO_ONLINE_DATUM       0\n",
       "D19_VERSAND_DATUM            0\n",
       "D19_VERSAND_OFFLINE_DATUM    0\n",
       "D19_VERSAND_ONLINE_DATUM     0\n",
       "D19_VERSI_DATUM              0\n",
       "D19_VERSI_OFFLINE_DATUM      0\n",
       "D19_VERSI_ONLINE_DATUM       0\n",
       "FINANZ_ANLEGER               0\n",
       "FINANZ_HAUSBAUER             0\n",
       "FINANZ_MINIMALIST            0\n",
       "FINANZ_SPARER                0\n",
       "FINANZ_UNAUFFAELLIGER        0\n",
       "FINANZ_VORSORGER             0\n",
       "FINANZTYP                    0\n",
       "GFK_URLAUBERTYP              0\n",
       "HH_EINKOMMEN_SCORE           0\n",
       "KOMBIALTER                   0\n",
       "LP_STATUS_FEIN               0\n",
       "LP_STATUS_GROB               0\n",
       "ONLINE_AFFINITAET            0\n",
       "RETOURTYP_BK_S               0\n",
       "RT_KEIN_ANREIZ               0\n",
       "RT_SCHNAEPPCHEN              0\n",
       "SEMIO_DOM                    0\n",
       "SEMIO_ERL                    0\n",
       "SEMIO_FAM                    0\n",
       "SEMIO_KAEM                   0\n",
       "SEMIO_KRIT                   0\n",
       "SEMIO_KULT                   0\n",
       "SEMIO_LUST                   0\n",
       "SEMIO_MAT                    0\n",
       "SEMIO_PFLICHT                0\n",
       "SEMIO_RAT                    0\n",
       "SEMIO_REL                    0\n",
       "SEMIO_SOZ                    0\n",
       "SEMIO_TRADV                  0\n",
       "SEMIO_VERT                   0\n",
       "ZABEOTYP                     0\n",
       "ANREDE_KZ                    0\n",
       "ALTERSKATEGORIE_GROB         0\n",
       "dtype: int64"
      ]
     },
     "execution_count": 133,
     "metadata": {},
     "output_type": "execute_result"
    }
   ],
   "source": [
    "# Counting NaN values for each column\n",
    "clean_mailout_train_raw_fillna.apply(lambda x:x.isna().sum())\n",
    "clean_mailout_test_raw_fillna.apply(lambda x:x.isna().sum())"
   ]
  },
  {
   "cell_type": "code",
   "execution_count": 134,
   "metadata": {},
   "outputs": [
    {
     "data": {
      "text/plain": [
       "{dtype('int64'), dtype('float64')}"
      ]
     },
     "execution_count": 134,
     "metadata": {},
     "output_type": "execute_result"
    }
   ],
   "source": [
    "# Data types\n",
    "set(clean_mailout_train_raw_fillna.dtypes)\n",
    "set(clean_mailout_test_raw_fillna.dtypes)"
   ]
  },
  {
   "cell_type": "markdown",
   "metadata": {},
   "source": [
    "##### IX. Normalizing the data"
   ]
  },
  {
   "cell_type": "markdown",
   "metadata": {},
   "source": [
    "The goal of normalization is to change the values of numeric columns in the dataset to a common scale, without distorting differences in the ranges of values. In our dataset, normalization is required because features have different ranges. We transforms features by scaling each feature between zero and one using [MinMaxScler](https://scikit-learn.org/stable/modules/generated/sklearn.preprocessing.MinMaxScaler.html) from Scikitleran module\n",
    "We create an estimator which scales and translates each feature individually such that it is between zero and one."
   ]
  },
  {
   "cell_type": "code",
   "execution_count": 135,
   "metadata": {},
   "outputs": [],
   "source": [
    "# Creating scaled customers dataframe\n",
    "from sklearn.preprocessing import MinMaxScaler\n",
    "\n",
    "scaler = MinMaxScaler()\n",
    "\n",
    "mailout_train_scaled = pd.DataFrame(scaler.fit_transform(clean_mailout_train_raw_fillna.astype(float)))\n",
    "mailout_train_scaled.index = clean_mailout_train_raw_fillna.index\n",
    "mailout_train_scaled.columns = clean_mailout_train_raw_fillna.columns\n",
    "\n",
    "mailout_test_scaled = pd.DataFrame(scaler.fit_transform(clean_mailout_test_raw_fillna.astype(float)))\n",
    "mailout_test_scaled.index = clean_mailout_test_raw_fillna.index\n",
    "mailout_test_scaled.columns = clean_mailout_test_raw_fillna.columns"
   ]
  },
  {
   "cell_type": "markdown",
   "metadata": {},
   "source": [
    "### Save cleaned data as pickle file"
   ]
  },
  {
   "cell_type": "code",
   "execution_count": 136,
   "metadata": {},
   "outputs": [],
   "source": [
    "mailout_train_scaled.to_pickle(\"cleaned_mailout_train.pkl\")\n",
    "mailout_train_scaled.to_pickle(\"cleaned_mailout_test.pkl\")"
   ]
  },
  {
   "cell_type": "markdown",
   "metadata": {},
   "source": [
    "## 2- Dimensionality Reduction with PCA"
   ]
  },
  {
   "cell_type": "code",
   "execution_count": 137,
   "metadata": {},
   "outputs": [],
   "source": [
    "filename = 'pca_model.sav'\n",
    "pca_azdias = pickle.load(open(filename, 'rb'))"
   ]
  },
  {
   "cell_type": "code",
   "execution_count": 138,
   "metadata": {},
   "outputs": [],
   "source": [
    "reduced_mailout_train = pca_azdias.transform(mailout_train_scaled)\n",
    "reduced_mailout_test = pca_azdias.transform(mailout_test_scaled)"
   ]
  },
  {
   "cell_type": "code",
   "execution_count": 139,
   "metadata": {},
   "outputs": [],
   "source": [
    "min_features = mailout_train_scaled.shape[1]-1\n",
    "reduced_mailout_train = pd.DataFrame(data=reduced_mailout_train, \\\n",
    "                                 columns = ['c_{}'.format(i) for i in range(min_features)], \\\n",
    "                                 index = mailout_train_scaled.index)\n",
    "\n",
    "min_features = mailout_test_scaled.shape[1]-1\n",
    "reduced_mailout_test = pd.DataFrame(data=reduced_mailout_test, \\\n",
    "                                 columns = ['c_{}'.format(i) for i in range(min_features)], \\\n",
    "                                 index = mailout_test_scaled.index)"
   ]
  },
  {
   "cell_type": "code",
   "execution_count": 140,
   "metadata": {},
   "outputs": [
    {
     "data": {
      "text/html": [
       "<div>\n",
       "<style scoped>\n",
       "    .dataframe tbody tr th:only-of-type {\n",
       "        vertical-align: middle;\n",
       "    }\n",
       "\n",
       "    .dataframe tbody tr th {\n",
       "        vertical-align: top;\n",
       "    }\n",
       "\n",
       "    .dataframe thead th {\n",
       "        text-align: right;\n",
       "    }\n",
       "</style>\n",
       "<table border=\"1\" class=\"dataframe\">\n",
       "  <thead>\n",
       "    <tr style=\"text-align: right;\">\n",
       "      <th></th>\n",
       "      <th>c_0</th>\n",
       "      <th>c_1</th>\n",
       "      <th>c_2</th>\n",
       "      <th>c_3</th>\n",
       "      <th>c_4</th>\n",
       "      <th>c_5</th>\n",
       "      <th>c_6</th>\n",
       "      <th>c_7</th>\n",
       "      <th>c_8</th>\n",
       "      <th>c_9</th>\n",
       "      <th>...</th>\n",
       "      <th>c_46</th>\n",
       "      <th>c_47</th>\n",
       "      <th>c_48</th>\n",
       "      <th>c_49</th>\n",
       "      <th>c_50</th>\n",
       "      <th>c_51</th>\n",
       "      <th>c_52</th>\n",
       "      <th>c_53</th>\n",
       "      <th>c_54</th>\n",
       "      <th>c_55</th>\n",
       "    </tr>\n",
       "    <tr>\n",
       "      <th>LNR</th>\n",
       "      <th></th>\n",
       "      <th></th>\n",
       "      <th></th>\n",
       "      <th></th>\n",
       "      <th></th>\n",
       "      <th></th>\n",
       "      <th></th>\n",
       "      <th></th>\n",
       "      <th></th>\n",
       "      <th></th>\n",
       "      <th></th>\n",
       "      <th></th>\n",
       "      <th></th>\n",
       "      <th></th>\n",
       "      <th></th>\n",
       "      <th></th>\n",
       "      <th></th>\n",
       "      <th></th>\n",
       "      <th></th>\n",
       "      <th></th>\n",
       "      <th></th>\n",
       "    </tr>\n",
       "  </thead>\n",
       "  <tbody>\n",
       "    <tr>\n",
       "      <th>1</th>\n",
       "      <td>0.633313</td>\n",
       "      <td>-0.969045</td>\n",
       "      <td>-0.494870</td>\n",
       "      <td>-1.143428</td>\n",
       "      <td>0.731403</td>\n",
       "      <td>0.334638</td>\n",
       "      <td>-0.032156</td>\n",
       "      <td>-0.097593</td>\n",
       "      <td>0.029961</td>\n",
       "      <td>0.037406</td>\n",
       "      <td>...</td>\n",
       "      <td>-0.001572</td>\n",
       "      <td>0.006230</td>\n",
       "      <td>-0.044912</td>\n",
       "      <td>-0.037045</td>\n",
       "      <td>0.001392</td>\n",
       "      <td>0.000314</td>\n",
       "      <td>0.000126</td>\n",
       "      <td>0.000040</td>\n",
       "      <td>-0.000380</td>\n",
       "      <td>0.024426</td>\n",
       "    </tr>\n",
       "    <tr>\n",
       "      <th>5</th>\n",
       "      <td>0.602320</td>\n",
       "      <td>-0.515073</td>\n",
       "      <td>-0.789517</td>\n",
       "      <td>-1.173841</td>\n",
       "      <td>0.843082</td>\n",
       "      <td>0.350187</td>\n",
       "      <td>-0.202789</td>\n",
       "      <td>-0.055925</td>\n",
       "      <td>0.205694</td>\n",
       "      <td>-0.184959</td>\n",
       "      <td>...</td>\n",
       "      <td>-0.006888</td>\n",
       "      <td>0.014425</td>\n",
       "      <td>-0.187576</td>\n",
       "      <td>-0.027908</td>\n",
       "      <td>-0.000760</td>\n",
       "      <td>0.001553</td>\n",
       "      <td>0.002093</td>\n",
       "      <td>0.000328</td>\n",
       "      <td>-0.000828</td>\n",
       "      <td>0.027867</td>\n",
       "    </tr>\n",
       "    <tr>\n",
       "      <th>9</th>\n",
       "      <td>0.633313</td>\n",
       "      <td>-0.969045</td>\n",
       "      <td>-0.494870</td>\n",
       "      <td>-1.143428</td>\n",
       "      <td>0.731403</td>\n",
       "      <td>0.334638</td>\n",
       "      <td>-0.032156</td>\n",
       "      <td>-0.097593</td>\n",
       "      <td>0.029961</td>\n",
       "      <td>0.037406</td>\n",
       "      <td>...</td>\n",
       "      <td>-0.001572</td>\n",
       "      <td>0.006230</td>\n",
       "      <td>-0.044912</td>\n",
       "      <td>-0.037045</td>\n",
       "      <td>0.001392</td>\n",
       "      <td>0.000314</td>\n",
       "      <td>0.000126</td>\n",
       "      <td>0.000040</td>\n",
       "      <td>-0.000380</td>\n",
       "      <td>0.024426</td>\n",
       "    </tr>\n",
       "    <tr>\n",
       "      <th>10</th>\n",
       "      <td>0.633313</td>\n",
       "      <td>-0.969045</td>\n",
       "      <td>-0.494870</td>\n",
       "      <td>-1.143428</td>\n",
       "      <td>0.731403</td>\n",
       "      <td>0.334638</td>\n",
       "      <td>-0.032156</td>\n",
       "      <td>-0.097593</td>\n",
       "      <td>0.029961</td>\n",
       "      <td>0.037406</td>\n",
       "      <td>...</td>\n",
       "      <td>-0.001572</td>\n",
       "      <td>0.006230</td>\n",
       "      <td>-0.044912</td>\n",
       "      <td>-0.037045</td>\n",
       "      <td>0.001392</td>\n",
       "      <td>0.000314</td>\n",
       "      <td>0.000126</td>\n",
       "      <td>0.000040</td>\n",
       "      <td>-0.000380</td>\n",
       "      <td>0.024426</td>\n",
       "    </tr>\n",
       "    <tr>\n",
       "      <th>11</th>\n",
       "      <td>-0.455526</td>\n",
       "      <td>-0.452935</td>\n",
       "      <td>1.060285</td>\n",
       "      <td>-0.600518</td>\n",
       "      <td>0.012174</td>\n",
       "      <td>-0.524961</td>\n",
       "      <td>0.022830</td>\n",
       "      <td>0.061882</td>\n",
       "      <td>-0.066046</td>\n",
       "      <td>-0.010786</td>\n",
       "      <td>...</td>\n",
       "      <td>0.053181</td>\n",
       "      <td>-0.282793</td>\n",
       "      <td>0.028975</td>\n",
       "      <td>-0.034087</td>\n",
       "      <td>-0.374502</td>\n",
       "      <td>0.057363</td>\n",
       "      <td>0.014396</td>\n",
       "      <td>0.002156</td>\n",
       "      <td>0.009773</td>\n",
       "      <td>-0.024367</td>\n",
       "    </tr>\n",
       "  </tbody>\n",
       "</table>\n",
       "<p>5 rows × 56 columns</p>\n",
       "</div>"
      ],
      "text/plain": [
       "          c_0       c_1       c_2       c_3       c_4       c_5       c_6  \\\n",
       "LNR                                                                         \n",
       "1    0.633313 -0.969045 -0.494870 -1.143428  0.731403  0.334638 -0.032156   \n",
       "5    0.602320 -0.515073 -0.789517 -1.173841  0.843082  0.350187 -0.202789   \n",
       "9    0.633313 -0.969045 -0.494870 -1.143428  0.731403  0.334638 -0.032156   \n",
       "10   0.633313 -0.969045 -0.494870 -1.143428  0.731403  0.334638 -0.032156   \n",
       "11  -0.455526 -0.452935  1.060285 -0.600518  0.012174 -0.524961  0.022830   \n",
       "\n",
       "          c_7       c_8       c_9    ...         c_46      c_47      c_48  \\\n",
       "LNR                                  ...                                    \n",
       "1   -0.097593  0.029961  0.037406    ...    -0.001572  0.006230 -0.044912   \n",
       "5   -0.055925  0.205694 -0.184959    ...    -0.006888  0.014425 -0.187576   \n",
       "9   -0.097593  0.029961  0.037406    ...    -0.001572  0.006230 -0.044912   \n",
       "10  -0.097593  0.029961  0.037406    ...    -0.001572  0.006230 -0.044912   \n",
       "11   0.061882 -0.066046 -0.010786    ...     0.053181 -0.282793  0.028975   \n",
       "\n",
       "         c_49      c_50      c_51      c_52      c_53      c_54      c_55  \n",
       "LNR                                                                        \n",
       "1   -0.037045  0.001392  0.000314  0.000126  0.000040 -0.000380  0.024426  \n",
       "5   -0.027908 -0.000760  0.001553  0.002093  0.000328 -0.000828  0.027867  \n",
       "9   -0.037045  0.001392  0.000314  0.000126  0.000040 -0.000380  0.024426  \n",
       "10  -0.037045  0.001392  0.000314  0.000126  0.000040 -0.000380  0.024426  \n",
       "11  -0.034087 -0.374502  0.057363  0.014396  0.002156  0.009773 -0.024367  \n",
       "\n",
       "[5 rows x 56 columns]"
      ]
     },
     "execution_count": 140,
     "metadata": {},
     "output_type": "execute_result"
    }
   ],
   "source": [
    "reduced_mailout_train.head()"
   ]
  },
  {
   "cell_type": "code",
   "execution_count": 141,
   "metadata": {},
   "outputs": [
    {
     "name": "stdout",
     "output_type": "stream",
     "text": [
      "We retain 16 components and capture 84.21% explained variance for train dataframe\n",
      "We retain 16 components and capture 84.21% explained variance for test dataframe\n"
     ]
    }
   ],
   "source": [
    "# The good top_n for azdias dataframe\n",
    "top_n=16\n",
    "print ('We retain {} components and capture {}% explained variance for train dataframe'\\\n",
    "       .format(top_n,(pca_azdias.explained_variance_ratio_[:top_n].sum()*100).round(2)))\n",
    "print ('We retain {} components and capture {}% explained variance for test dataframe'\\\n",
    "       .format(top_n,(pca_azdias.explained_variance_ratio_[:top_n].sum()*100).round(2)))"
   ]
  },
  {
   "cell_type": "code",
   "execution_count": 142,
   "metadata": {},
   "outputs": [],
   "source": [
    "columns = ['c_{}'.format(i) for i in range(top_n)]\n",
    "reduced_mailout_train = reduced_mailout_train[columns]\n",
    "reduced_mailout_test = reduced_mailout_test[columns]"
   ]
  },
  {
   "cell_type": "code",
   "execution_count": 143,
   "metadata": {},
   "outputs": [
    {
     "data": {
      "text/plain": [
       "(42962, 16)"
      ]
     },
     "execution_count": 143,
     "metadata": {},
     "output_type": "execute_result"
    }
   ],
   "source": [
    "reduced_mailout_train.shape"
   ]
  },
  {
   "cell_type": "code",
   "execution_count": 144,
   "metadata": {},
   "outputs": [],
   "source": [
    "reduced_mailout_train.to_pickle(\"reduced_mailout_train.pkl\")\n",
    "reduced_mailout_test.to_pickle(\"reduced_mailout_test.pkl\")"
   ]
  },
  {
   "cell_type": "markdown",
   "metadata": {},
   "source": [
    "## 3- K-means Clustering"
   ]
  },
  {
   "cell_type": "markdown",
   "metadata": {},
   "source": [
    "## 4- Benchmark Model"
   ]
  },
  {
   "cell_type": "code",
   "execution_count": 2,
   "metadata": {},
   "outputs": [
    {
     "name": "stderr",
     "output_type": "stream",
     "text": [
      "/opt/conda/lib/python3.6/site-packages/IPython/core/interactiveshell.py:2785: DtypeWarning: Columns (18,19) have mixed types. Specify dtype option on import or set low_memory=False.\n",
      "  interactivity=interactivity, compiler=compiler, result=result)\n"
     ]
    }
   ],
   "source": [
    "mailout_train = pd.read_csv('../../data/Term2/capstone/arvato_data/Udacity_MAILOUT_052018_TRAIN.csv', sep=';')"
   ]
  },
  {
   "cell_type": "code",
   "execution_count": 3,
   "metadata": {},
   "outputs": [
    {
     "name": "stderr",
     "output_type": "stream",
     "text": [
      "/opt/conda/lib/python3.6/site-packages/IPython/core/interactiveshell.py:2785: DtypeWarning: Columns (18,19) have mixed types. Specify dtype option on import or set low_memory=False.\n",
      "  interactivity=interactivity, compiler=compiler, result=result)\n"
     ]
    }
   ],
   "source": [
    "mailout_test = pd.read_csv('../../data/Term2/capstone/arvato_data/Udacity_MAILOUT_052018_TEST.csv', sep=';')"
   ]
  },
  {
   "cell_type": "code",
   "execution_count": 4,
   "metadata": {},
   "outputs": [],
   "source": [
    "mailout_train_raw2 = mailout_train.sort_values('LNR')\n",
    "mailout_test_raw2 = mailout_test.sort_values('LNR')"
   ]
  },
  {
   "cell_type": "code",
   "execution_count": 5,
   "metadata": {},
   "outputs": [],
   "source": [
    "# Set LNR columns as index\n",
    "mailout_train_raw2 = mailout_train_raw2.set_index('LNR')\n",
    "mailout_test_raw2 = mailout_test_raw2.set_index('LNR')"
   ]
  },
  {
   "cell_type": "code",
   "execution_count": 6,
   "metadata": {},
   "outputs": [],
   "source": [
    "reduced_mailout_train = pd.read_pickle('reduced_mailout_train.pkl')\n",
    "reduced_mailout_test = pd.read_pickle('reduced_mailout_test.pkl')"
   ]
  },
  {
   "cell_type": "code",
   "execution_count": 7,
   "metadata": {},
   "outputs": [],
   "source": [
    "from sklearn.linear_model import LogisticRegression\n",
    "from sklearn.model_selection import train_test_split"
   ]
  },
  {
   "cell_type": "code",
   "execution_count": 8,
   "metadata": {},
   "outputs": [],
   "source": [
    "X = reduced_mailout_train\n",
    "y = mailout_train_raw2['RESPONSE']"
   ]
  },
  {
   "cell_type": "markdown",
   "metadata": {},
   "source": [
    "To understand model performance, dividing the dataset into a training set and a test set is a good strategy.\n",
    "Let's split dataset by using function **train_test_split()**. You need to pass 3 parameters features, target, and test_set size. Additionally, you can use random_state to select records randomly."
   ]
  },
  {
   "cell_type": "code",
   "execution_count": 9,
   "metadata": {},
   "outputs": [],
   "source": [
    "X_train, X_test, y_train, y_test = train_test_split(X.values, y.values, test_size=0.33, random_state=42)"
   ]
  },
  {
   "cell_type": "markdown",
   "metadata": {},
   "source": [
    "Here, the Dataset is broken into two parts in a ratio of 67:33. It means 67% data will be used for model training and 33% for model testing."
   ]
  },
  {
   "cell_type": "markdown",
   "metadata": {},
   "source": [
    "##### Model Development and Prediction"
   ]
  },
  {
   "cell_type": "markdown",
   "metadata": {},
   "source": [
    "First, import the Logistic Regression module and create a Logistic Regression classifier object using LogisticRegression() function.\n",
    "\n",
    "Then, fit your model on the train set using fit() and perform prediction on the test set using predict()."
   ]
  },
  {
   "cell_type": "code",
   "execution_count": 10,
   "metadata": {},
   "outputs": [],
   "source": [
    "ln = LogisticRegression()"
   ]
  },
  {
   "cell_type": "code",
   "execution_count": 11,
   "metadata": {},
   "outputs": [],
   "source": [
    "model = ln.fit(X_train, y_train)"
   ]
  },
  {
   "cell_type": "code",
   "execution_count": 12,
   "metadata": {},
   "outputs": [
    {
     "data": {
      "text/plain": [
       "LogisticRegression(C=1.0, class_weight=None, dual=False, fit_intercept=True,\n",
       "          intercept_scaling=1, max_iter=100, multi_class='ovr', n_jobs=1,\n",
       "          penalty='l2', random_state=None, solver='liblinear', tol=0.0001,\n",
       "          verbose=0, warm_start=False)"
      ]
     },
     "execution_count": 12,
     "metadata": {},
     "output_type": "execute_result"
    }
   ],
   "source": [
    "ln"
   ]
  },
  {
   "cell_type": "markdown",
   "metadata": {},
   "source": [
    "Predicting the test set results and calculating the accuracy"
   ]
  },
  {
   "cell_type": "code",
   "execution_count": 13,
   "metadata": {},
   "outputs": [
    {
     "name": "stdout",
     "output_type": "stream",
     "text": [
      "Accuracy of logistic regression classifier on test set: 0.99\n"
     ]
    }
   ],
   "source": [
    "y_pred = ln.predict(X_test)\n",
    "print('Accuracy of logistic regression classifier on test set: {:.2f}'.format(ln.score(X_test, y_test)))"
   ]
  },
  {
   "cell_type": "markdown",
   "metadata": {},
   "source": [
    "##### Confusion Matrix"
   ]
  },
  {
   "cell_type": "code",
   "execution_count": null,
   "metadata": {},
   "outputs": [],
   "source": []
  },
  {
   "cell_type": "code",
   "execution_count": null,
   "metadata": {},
   "outputs": [],
   "source": [
    "# import the metrics class\n",
    "from sklearn import metrics\n",
    "cnf_matrix = metrics.confusion_matrix(y_test, y_pred)\n",
    "cnf_matrix"
   ]
  },
  {
   "cell_type": "markdown",
   "metadata": {},
   "source": [
    "Here, you can see the confusion matrix in the form of the array object. The dimension of this matrix is 2*2 because this model is binary classification. You have two classes 0 and 1. Diagonal values represent accurate predictions, while non-diagonal elements are inaccurate predictions. In the output, 119 and 36 are actual predictions, and 26 and 11 are incorrect predictions."
   ]
  },
  {
   "cell_type": "code",
   "execution_count": null,
   "metadata": {},
   "outputs": [],
   "source": []
  },
  {
   "cell_type": "code",
   "execution_count": null,
   "metadata": {},
   "outputs": [],
   "source": []
  },
  {
   "cell_type": "code",
   "execution_count": null,
   "metadata": {},
   "outputs": [],
   "source": []
  },
  {
   "cell_type": "code",
   "execution_count": null,
   "metadata": {},
   "outputs": [],
   "source": []
  },
  {
   "cell_type": "code",
   "execution_count": null,
   "metadata": {},
   "outputs": [],
   "source": []
  },
  {
   "cell_type": "code",
   "execution_count": null,
   "metadata": {},
   "outputs": [],
   "source": []
  },
  {
   "cell_type": "code",
   "execution_count": null,
   "metadata": {},
   "outputs": [],
   "source": []
  },
  {
   "cell_type": "code",
   "execution_count": null,
   "metadata": {},
   "outputs": [],
   "source": []
  },
  {
   "cell_type": "code",
   "execution_count": null,
   "metadata": {},
   "outputs": [],
   "source": []
  },
  {
   "cell_type": "code",
   "execution_count": null,
   "metadata": {},
   "outputs": [],
   "source": []
  },
  {
   "cell_type": "code",
   "execution_count": null,
   "metadata": {},
   "outputs": [],
   "source": []
  },
  {
   "cell_type": "code",
   "execution_count": null,
   "metadata": {},
   "outputs": [],
   "source": []
  },
  {
   "cell_type": "code",
   "execution_count": null,
   "metadata": {},
   "outputs": [],
   "source": []
  },
  {
   "cell_type": "code",
   "execution_count": null,
   "metadata": {},
   "outputs": [],
   "source": []
  },
  {
   "cell_type": "code",
   "execution_count": null,
   "metadata": {},
   "outputs": [],
   "source": []
  },
  {
   "cell_type": "markdown",
   "metadata": {},
   "source": [
    "## Part 3: Kaggle Competition\n",
    "\n",
    "Now that you've created a model to predict which individuals are most likely to respond to a mailout campaign, it's time to test that model in competition through Kaggle. If you click on the link [here](http://www.kaggle.com/t/21e6d45d4c574c7fa2d868f0e8c83140), you'll be taken to the competition page where, if you have a Kaggle account, you can enter. If you're one of the top performers, you may have the chance to be contacted by a hiring manager from Arvato or Bertelsmann for an interview!\n",
    "\n",
    "Your entry to the competition should be a CSV file with two columns. The first column should be a copy of \"LNR\", which acts as an ID number for each individual in the \"TEST\" partition. The second column, \"RESPONSE\", should be some measure of how likely each individual became a customer – this might not be a straightforward probability. As you should have found in Part 2, there is a large output class imbalance, where most individuals did not respond to the mailout. Thus, predicting individual classes and using accuracy does not seem to be an appropriate performance evaluation method. Instead, the competition will be using AUC to evaluate performance. The exact values of the \"RESPONSE\" column do not matter as much: only that the higher values try to capture as many of the actual customers as possible, early in the ROC curve sweep."
   ]
  }
 ],
 "metadata": {
  "kernelspec": {
   "display_name": "Python 3",
   "language": "python",
   "name": "python3"
  },
  "language_info": {
   "codemirror_mode": {
    "name": "ipython",
    "version": 3
   },
   "file_extension": ".py",
   "mimetype": "text/x-python",
   "name": "python",
   "nbconvert_exporter": "python",
   "pygments_lexer": "ipython3",
   "version": "3.6.3"
  }
 },
 "nbformat": 4,
 "nbformat_minor": 2
}
