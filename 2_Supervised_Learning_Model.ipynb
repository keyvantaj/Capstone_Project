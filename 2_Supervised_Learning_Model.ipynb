{
 "cells": [
  {
   "cell_type": "code",
   "execution_count": 1,
   "metadata": {},
   "outputs": [],
   "source": [
    "# import libraries here; add more as necessary\n",
    "import numpy as np\n",
    "import pandas as pd\n",
    "import matplotlib.pyplot as plt\n",
    "import seaborn as sns\n",
    "import pickle\n",
    "# magic word for producing visualizations in notebook\n",
    "%matplotlib inline"
   ]
  },
  {
   "cell_type": "markdown",
   "metadata": {},
   "source": [
    "## Part 2: Supervised Learning Model\n",
    "\n",
    "Now that you've found which parts of the population are more likely to be customers of the mail-order company, it's time to build a prediction model. Each of the rows in the \"MAILOUT\" data files represents an individual that was targeted for a mailout campaign. Ideally, we should be able to use the demographic information from each individual to decide whether or not it will be worth it to include that person in the campaign.\n",
    "\n",
    "The \"MAILOUT\" data has been split into two approximately equal parts, each with almost 43 000 data rows. In this part, you can verify your model with the \"TRAIN\" partition, which includes a column, \"RESPONSE\", that states whether or not a person became a customer of the company following the campaign. In the next part, you'll need to create predictions on the \"TEST\" partition, where the \"RESPONSE\" column has been withheld."
   ]
  },
  {
   "cell_type": "code",
   "execution_count": 2,
   "metadata": {},
   "outputs": [
    {
     "name": "stderr",
     "output_type": "stream",
     "text": [
      "/opt/conda/lib/python3.6/site-packages/IPython/core/interactiveshell.py:2785: DtypeWarning: Columns (18,19) have mixed types. Specify dtype option on import or set low_memory=False.\n",
      "  interactivity=interactivity, compiler=compiler, result=result)\n"
     ]
    }
   ],
   "source": [
    "mailout_train = pd.read_csv('../../data/Term2/capstone/arvato_data/Udacity_MAILOUT_052018_TRAIN.csv', sep=';')"
   ]
  },
  {
   "cell_type": "code",
   "execution_count": 3,
   "metadata": {},
   "outputs": [
    {
     "name": "stderr",
     "output_type": "stream",
     "text": [
      "/opt/conda/lib/python3.6/site-packages/IPython/core/interactiveshell.py:2785: DtypeWarning: Columns (18,19) have mixed types. Specify dtype option on import or set low_memory=False.\n",
      "  interactivity=interactivity, compiler=compiler, result=result)\n"
     ]
    }
   ],
   "source": [
    "mailout_test = pd.read_csv('../../data/Term2/capstone/arvato_data/Udacity_MAILOUT_052018_TEST.csv', sep=';')"
   ]
  },
  {
   "cell_type": "code",
   "execution_count": 4,
   "metadata": {},
   "outputs": [
    {
     "data": {
      "text/plain": [
       "(42962, 367)"
      ]
     },
     "execution_count": 4,
     "metadata": {},
     "output_type": "execute_result"
    }
   ],
   "source": [
    "mailout_train.shape"
   ]
  },
  {
   "cell_type": "code",
   "execution_count": 5,
   "metadata": {},
   "outputs": [
    {
     "data": {
      "text/plain": [
       "(42833, 366)"
      ]
     },
     "execution_count": 5,
     "metadata": {},
     "output_type": "execute_result"
    }
   ],
   "source": [
    "mailout_test.shape"
   ]
  },
  {
   "cell_type": "markdown",
   "metadata": {},
   "source": [
    "## 1- Clean the data"
   ]
  },
  {
   "cell_type": "code",
   "execution_count": 6,
   "metadata": {},
   "outputs": [],
   "source": [
    "mailout_train_raw = mailout_train.drop(labels='RESPONSE',axis=1)"
   ]
  },
  {
   "cell_type": "code",
   "execution_count": 7,
   "metadata": {},
   "outputs": [],
   "source": [
    "mailout_train_raw = mailout_train_raw.sort_values('LNR')\n",
    "mailout_test_raw = mailout_test.sort_values('LNR')"
   ]
  },
  {
   "cell_type": "code",
   "execution_count": 8,
   "metadata": {},
   "outputs": [],
   "source": [
    "# Set LNR columns as index\n",
    "mailout_train_raw = mailout_train_raw.set_index('LNR')\n",
    "mailout_test_raw = mailout_test_raw.set_index('LNR')"
   ]
  },
  {
   "cell_type": "code",
   "execution_count": 9,
   "metadata": {},
   "outputs": [],
   "source": [
    "mailout_train_raw['D19_LETZTER_KAUF_BRANCHE'] = mailout_train_raw['D19_LETZTER_KAUF_BRANCHE'].fillna('nan')\n",
    "mailout_test_raw['D19_LETZTER_KAUF_BRANCHE'] = mailout_test_raw['D19_LETZTER_KAUF_BRANCHE'].fillna('nan')"
   ]
  },
  {
   "cell_type": "code",
   "execution_count": 10,
   "metadata": {},
   "outputs": [],
   "source": [
    "kf = {'D19_BANKEN_DIREKT':0,\n",
    " 'D19_BANKEN_GROSS':1,\n",
    " 'D19_BANKEN_LOKAL':2,\n",
    " 'D19_BANKEN_REST':3,\n",
    " 'D19_BEKLEIDUNG_GEH':4,\n",
    " 'D19_BEKLEIDUNG_REST':5,\n",
    " 'D19_BILDUNG':6,\n",
    " 'D19_BIO_OEKO':7,\n",
    " 'D19_BUCH_CD':8,\n",
    " 'D19_DIGIT_SERV':9,\n",
    " 'D19_DROGERIEARTIKEL':10,\n",
    " 'D19_ENERGIE':11,\n",
    " 'D19_FREIZEIT':12,\n",
    " 'D19_GARTEN':13,\n",
    " 'D19_HANDWERK':14,\n",
    " 'D19_HAUS_DEKO':15,\n",
    " 'D19_KINDERARTIKEL':16,\n",
    " 'D19_KOSMETIK':17,\n",
    " 'D19_LEBENSMITTEL':18,\n",
    " 'D19_LOTTO':19,\n",
    " 'D19_NAHRUNGSERGAENZUNG':20,\n",
    " 'D19_RATGEBER':21,\n",
    " 'D19_REISEN':22,\n",
    " 'D19_SAMMELARTIKEL':23,\n",
    " 'D19_SCHUHE':24,\n",
    " 'D19_SONSTIGE':25,\n",
    " 'D19_TECHNIK':26,\n",
    " 'D19_TELKO_MOBILE':27,\n",
    " 'D19_TELKO_REST':28,\n",
    " 'D19_TIERARTIKEL':29,\n",
    " 'D19_UNBEKANNT':30,\n",
    " 'D19_VERSAND_REST':31,\n",
    " 'D19_VERSICHERUNGEN':32,\n",
    " 'D19_VOLLSORTIMENT':33,\n",
    " 'D19_WEIN_FEINKOST':34,\n",
    "'nan':-1}"
   ]
  },
  {
   "cell_type": "markdown",
   "metadata": {},
   "source": [
    "##### VII. Creating CAMEO_DEU_2015 dictionary:"
   ]
  },
  {
   "cell_type": "code",
   "execution_count": 11,
   "metadata": {},
   "outputs": [
    {
     "name": "stdout",
     "output_type": "stream",
     "text": [
      "The CAMEO_DEU_2015  of customers dataframe are as follows:\n",
      "\n"
     ]
    },
    {
     "data": {
      "text/plain": [
       "{'1A',\n",
       " '1B',\n",
       " '1C',\n",
       " '1D',\n",
       " '1E',\n",
       " '2A',\n",
       " '2B',\n",
       " '2C',\n",
       " '2D',\n",
       " '3A',\n",
       " '3B',\n",
       " '3C',\n",
       " '3D',\n",
       " '4A',\n",
       " '4B',\n",
       " '4C',\n",
       " '4D',\n",
       " '4E',\n",
       " '5A',\n",
       " '5B',\n",
       " '5C',\n",
       " '5D',\n",
       " '5E',\n",
       " '5F',\n",
       " '6A',\n",
       " '6B',\n",
       " '6C',\n",
       " '6D',\n",
       " '6E',\n",
       " '6F',\n",
       " '7A',\n",
       " '7B',\n",
       " '7C',\n",
       " '7D',\n",
       " '7E',\n",
       " '8A',\n",
       " '8B',\n",
       " '8C',\n",
       " '8D',\n",
       " '9A',\n",
       " '9B',\n",
       " '9C',\n",
       " '9D',\n",
       " '9E',\n",
       " 'XX',\n",
       " nan}"
      ]
     },
     "execution_count": 11,
     "metadata": {},
     "output_type": "execute_result"
    }
   ],
   "source": [
    "print ('The CAMEO_DEU_2015  of customers dataframe are as follows:\\n')\n",
    "set(mailout_train_raw['CAMEO_DEU_2015'])"
   ]
  },
  {
   "cell_type": "code",
   "execution_count": 12,
   "metadata": {},
   "outputs": [],
   "source": [
    "#Replacing NaNs with string NaNs\n",
    "mailout_train_raw['CAMEO_DEU_2015'] = mailout_train_raw['CAMEO_DEU_2015'].fillna('nan')\n",
    "mailout_test_raw['CAMEO_DEU_2015'] = mailout_test_raw['CAMEO_DEU_2015'].fillna('nan')"
   ]
  },
  {
   "cell_type": "code",
   "execution_count": 13,
   "metadata": {},
   "outputs": [],
   "source": [
    "# Defining a dictionary to convert string values to integer\n",
    "cam = {'1A':1,\n",
    " '1B':2,\n",
    " '1C':3,\n",
    " '1D':4,\n",
    " '1E':5,\n",
    " '2A':6,\n",
    " '2B':7,\n",
    " '2C':8,\n",
    " '2D':9,\n",
    " '3A':10,\n",
    " '3B':11,\n",
    " '3C':12,\n",
    " '3D':13,\n",
    " '4A':14,\n",
    " '4B':15,\n",
    " '4C':16,\n",
    " '4D':17,\n",
    " '4E':18,\n",
    " '5A':19,\n",
    " '5B':20,\n",
    " '5C':21,\n",
    " '5D':22,\n",
    " '5E':23,\n",
    " '5F':24,\n",
    " '6A':25,\n",
    " '6B':26,\n",
    " '6C':27,\n",
    " '6D':28,\n",
    " '6E':29,\n",
    " '6F':30,\n",
    " '7A':31,\n",
    " '7B':32,\n",
    " '7C':33,\n",
    " '7D':34,\n",
    " '7E':35,\n",
    " '8A':36,\n",
    " '8B':37,\n",
    " '8C':38,\n",
    " '8D':39,\n",
    " '9A':40,\n",
    " '9B':41,\n",
    " '9C':42,\n",
    " '9D':43,\n",
    " '9E':44,\n",
    " 'XX':45,\n",
    " 'nan':-1}"
   ]
  },
  {
   "cell_type": "markdown",
   "metadata": {},
   "source": [
    "##### VIII. Applying lambda function to each column"
   ]
  },
  {
   "cell_type": "code",
   "execution_count": 14,
   "metadata": {},
   "outputs": [],
   "source": [
    "def convert_non_values(df,dict,feature):\n",
    "\n",
    "    df[feature] = df[feature].apply(lambda x: dict[x])"
   ]
  },
  {
   "cell_type": "code",
   "execution_count": 15,
   "metadata": {},
   "outputs": [],
   "source": [
    "# Converting features discussed previously\n",
    "convert_non_values(mailout_test_raw,kf,'D19_LETZTER_KAUF_BRANCHE')\n",
    "convert_non_values(mailout_test_raw,cam,'CAMEO_DEU_2015')\n",
    "convert_non_values(mailout_train_raw,kf,'D19_LETZTER_KAUF_BRANCHE')\n",
    "convert_non_values(mailout_train_raw,cam,'CAMEO_DEU_2015')"
   ]
  },
  {
   "cell_type": "code",
   "execution_count": 16,
   "metadata": {},
   "outputs": [],
   "source": [
    "# Identifying non values columns\n",
    "mailout_train_raw_subset = mailout_train_raw.select_dtypes(exclude=[np.float, np.int])\n",
    "mailout_test_raw_subset = mailout_test_raw.select_dtypes(exclude=[np.float, np.int])"
   ]
  },
  {
   "cell_type": "code",
   "execution_count": 17,
   "metadata": {},
   "outputs": [],
   "source": [
    "mailout_train_raw.to_pickle(\"mailout_train_raw_subset.pkl\")\n",
    "mailout_test_raw.to_pickle(\"mailout_test_raw_subset.pkl\")"
   ]
  },
  {
   "cell_type": "code",
   "execution_count": 18,
   "metadata": {},
   "outputs": [],
   "source": [
    "# Dropping columns\n",
    "clean_mailout_train_raw = mailout_train_raw.drop(['OST_WEST_KZ','EINGEFUEGT_AM'], axis=1)\n",
    "clean_mailout_test_raw = mailout_test_raw.drop(['OST_WEST_KZ','EINGEFUEGT_AM'], axis=1)"
   ]
  },
  {
   "cell_type": "markdown",
   "metadata": {},
   "source": [
    "##### II. Converting remaining non values data to numeric values otherwise replace with NaN"
   ]
  },
  {
   "cell_type": "code",
   "execution_count": 19,
   "metadata": {},
   "outputs": [],
   "source": [
    "clean_mailout_train_raw[['CAMEO_DEUG_2015','CAMEO_INTL_2015']] = clean_mailout_train_raw[['CAMEO_DEUG_2015','CAMEO_INTL_2015']].apply(pd.to_numeric, errors='coerce')\n",
    "clean_mailout_test_raw[['CAMEO_DEUG_2015','CAMEO_INTL_2015']] = clean_mailout_test_raw[['CAMEO_DEUG_2015','CAMEO_INTL_2015']].apply(pd.to_numeric, errors='coerce')"
   ]
  },
  {
   "cell_type": "markdown",
   "metadata": {},
   "source": [
    "##### III. Replacing unknown (-1) and none (0) values with NaN"
   ]
  },
  {
   "cell_type": "code",
   "execution_count": 20,
   "metadata": {},
   "outputs": [],
   "source": [
    "clean_mailout_train_raw.replace([0,-1], np.nan, inplace=True)\n",
    "clean_mailout_test_raw.replace([0,-1], np.nan, inplace=True)"
   ]
  },
  {
   "cell_type": "markdown",
   "metadata": {},
   "source": [
    "##### IV. Analyzing NaN values in dataset"
   ]
  },
  {
   "cell_type": "markdown",
   "metadata": {},
   "source": [
    "As we have noticed during the data exploration many of dataset columns contain more than 30% of NaN values. First we go to vizualize the percentage of NaN data in each feature using [Seaborn barplot](https://seaborn.pydata.org/generated/seaborn.barplot.html) module. Then according to our analyze we will decide on how many columns to drop."
   ]
  },
  {
   "cell_type": "code",
   "execution_count": 21,
   "metadata": {},
   "outputs": [
    {
     "data": {
      "text/html": [
       "<div>\n",
       "<style scoped>\n",
       "    .dataframe tbody tr th:only-of-type {\n",
       "        vertical-align: middle;\n",
       "    }\n",
       "\n",
       "    .dataframe tbody tr th {\n",
       "        vertical-align: top;\n",
       "    }\n",
       "\n",
       "    .dataframe thead th {\n",
       "        text-align: right;\n",
       "    }\n",
       "</style>\n",
       "<table border=\"1\" class=\"dataframe\">\n",
       "  <thead>\n",
       "    <tr style=\"text-align: right;\">\n",
       "      <th></th>\n",
       "      <th>Total</th>\n",
       "      <th>Percent</th>\n",
       "    </tr>\n",
       "  </thead>\n",
       "  <tbody>\n",
       "    <tr>\n",
       "      <th>D19_TELKO_ONLINE_QUOTE_12</th>\n",
       "      <td>42922</td>\n",
       "      <td>0.999069</td>\n",
       "    </tr>\n",
       "    <tr>\n",
       "      <th>ALTER_KIND4</th>\n",
       "      <td>42921</td>\n",
       "      <td>0.999046</td>\n",
       "    </tr>\n",
       "    <tr>\n",
       "      <th>D19_VERSI_ONLINE_QUOTE_12</th>\n",
       "      <td>42902</td>\n",
       "      <td>0.998603</td>\n",
       "    </tr>\n",
       "    <tr>\n",
       "      <th>ALTER_KIND3</th>\n",
       "      <td>42788</td>\n",
       "      <td>0.995950</td>\n",
       "    </tr>\n",
       "    <tr>\n",
       "      <th>TITEL_KZ</th>\n",
       "      <td>42749</td>\n",
       "      <td>0.995042</td>\n",
       "    </tr>\n",
       "  </tbody>\n",
       "</table>\n",
       "</div>"
      ],
      "text/plain": [
       "                           Total   Percent\n",
       "D19_TELKO_ONLINE_QUOTE_12  42922  0.999069\n",
       "ALTER_KIND4                42921  0.999046\n",
       "D19_VERSI_ONLINE_QUOTE_12  42902  0.998603\n",
       "ALTER_KIND3                42788  0.995950\n",
       "TITEL_KZ                   42749  0.995042"
      ]
     },
     "execution_count": 21,
     "metadata": {},
     "output_type": "execute_result"
    },
    {
     "data": {
      "image/png": "[encoded data removed]",
      "text/plain": [
       "<matplotlib.figure.Figure at 0x7f871ae5d7b8>"
      ]
     },
     "metadata": {
      "needs_background": "light"
     },
     "output_type": "display_data"
    }
   ],
   "source": [
    "total = clean_mailout_train_raw.isna().sum().sort_values(ascending=False)\n",
    "percent = (clean_mailout_train_raw.isna().sum()/clean_mailout_train_raw.isna().count()).sort_values(ascending=False)\n",
    "nan_data_mailout_train_raw = pd.concat([total, percent], axis=1, keys=['Total', 'Percent'])\n",
    "\n",
    "f, ax = plt.subplots(figsize=(20, 10))\n",
    "\n",
    "for tick in ax.xaxis.get_major_ticks():\n",
    "    tick.label.set_fontsize(5)\n",
    "\n",
    "    plt.xticks(rotation='90')\n",
    "sns.barplot(x=nan_data_mailout_train_raw.index, y=nan_data_mailout_train_raw['Percent'])\n",
    "plt.xlabel('Features', fontsize=15)\n",
    "plt.ylabel('Percent of nan values', fontsize=15)\n",
    "plt.title('Percent nan data by feature for train dataset', fontsize=15)\n",
    "\n",
    "nan_data_mailout_train_raw.head()"
   ]
  },
  {
   "cell_type": "markdown",
   "metadata": {},
   "source": [
    "##### V. Dropping columns with more than 10% of NaN values"
   ]
  },
  {
   "cell_type": "markdown",
   "metadata": {},
   "source": [
    "We have decided to drop columns with more than 20% NaN values in customers dataset and the same operation is applied to azidas dataset in order to get the same output (the same shape for both datasets). First we create a list of features having more han 20% NaNs and then these columns are dropped."
   ]
  },
  {
   "cell_type": "code",
   "execution_count": 22,
   "metadata": {},
   "outputs": [],
   "source": [
    "# Features that we keep for Train an Test dataframes\n",
    "clean_mailout_train_raw_dropna = clean_mailout_train_raw[['CJT_GESAMTTYP', 'CJT_KATALOGNUTZER', 'CJT_TYP_1', 'CJT_TYP_2',\n",
    "        'CJT_TYP_3', 'CJT_TYP_4', 'CJT_TYP_5', 'CJT_TYP_6', 'D19_BANKEN_DATUM',\n",
    "        'D19_BANKEN_OFFLINE_DATUM', 'D19_BANKEN_ONLINE_DATUM',\n",
    "        'D19_GESAMT_DATUM', 'D19_GESAMT_OFFLINE_DATUM',\n",
    "        'D19_GESAMT_ONLINE_DATUM', 'D19_KONSUMTYP_MAX', 'D19_TELKO_DATUM',\n",
    "        'D19_TELKO_OFFLINE_DATUM', 'D19_TELKO_ONLINE_DATUM',\n",
    "        'D19_VERSAND_DATUM', 'D19_VERSAND_OFFLINE_DATUM',\n",
    "        'D19_VERSAND_ONLINE_DATUM', 'D19_VERSI_DATUM',\n",
    "        'D19_VERSI_OFFLINE_DATUM', 'D19_VERSI_ONLINE_DATUM', 'FINANZ_ANLEGER',\n",
    "        'FINANZ_HAUSBAUER', 'FINANZ_MINIMALIST', 'FINANZ_SPARER',\n",
    "        'FINANZ_UNAUFFAELLIGER', 'FINANZ_VORSORGER', 'FINANZTYP',\n",
    "        'GFK_URLAUBERTYP', 'HH_EINKOMMEN_SCORE', 'KOMBIALTER', 'LP_STATUS_FEIN',\n",
    "        'LP_STATUS_GROB', 'ONLINE_AFFINITAET', 'RETOURTYP_BK_S',\n",
    "        'RT_KEIN_ANREIZ', 'RT_SCHNAEPPCHEN', 'SEMIO_DOM', 'SEMIO_ERL',\n",
    "        'SEMIO_FAM', 'SEMIO_KAEM', 'SEMIO_KRIT', 'SEMIO_KULT', 'SEMIO_LUST',\n",
    "        'SEMIO_MAT', 'SEMIO_PFLICHT', 'SEMIO_RAT', 'SEMIO_REL', 'SEMIO_SOZ',\n",
    "        'SEMIO_TRADV', 'SEMIO_VERT', 'ZABEOTYP', 'ANREDE_KZ',\n",
    "        'ALTERSKATEGORIE_GROB']]"
   ]
  },
  {
   "cell_type": "code",
   "execution_count": 23,
   "metadata": {},
   "outputs": [],
   "source": [
    "clean_mailout_test_raw_dropna = clean_mailout_test_raw[['CJT_GESAMTTYP', 'CJT_KATALOGNUTZER', 'CJT_TYP_1', 'CJT_TYP_2',\n",
    "        'CJT_TYP_3', 'CJT_TYP_4', 'CJT_TYP_5', 'CJT_TYP_6', 'D19_BANKEN_DATUM',\n",
    "        'D19_BANKEN_OFFLINE_DATUM', 'D19_BANKEN_ONLINE_DATUM',\n",
    "        'D19_GESAMT_DATUM', 'D19_GESAMT_OFFLINE_DATUM',\n",
    "        'D19_GESAMT_ONLINE_DATUM', 'D19_KONSUMTYP_MAX', 'D19_TELKO_DATUM',\n",
    "        'D19_TELKO_OFFLINE_DATUM', 'D19_TELKO_ONLINE_DATUM',\n",
    "        'D19_VERSAND_DATUM', 'D19_VERSAND_OFFLINE_DATUM',\n",
    "        'D19_VERSAND_ONLINE_DATUM', 'D19_VERSI_DATUM',\n",
    "        'D19_VERSI_OFFLINE_DATUM', 'D19_VERSI_ONLINE_DATUM', 'FINANZ_ANLEGER',\n",
    "        'FINANZ_HAUSBAUER', 'FINANZ_MINIMALIST', 'FINANZ_SPARER',\n",
    "        'FINANZ_UNAUFFAELLIGER', 'FINANZ_VORSORGER', 'FINANZTYP',\n",
    "        'GFK_URLAUBERTYP', 'HH_EINKOMMEN_SCORE', 'KOMBIALTER', 'LP_STATUS_FEIN',\n",
    "        'LP_STATUS_GROB', 'ONLINE_AFFINITAET', 'RETOURTYP_BK_S',\n",
    "        'RT_KEIN_ANREIZ', 'RT_SCHNAEPPCHEN', 'SEMIO_DOM', 'SEMIO_ERL',\n",
    "        'SEMIO_FAM', 'SEMIO_KAEM', 'SEMIO_KRIT', 'SEMIO_KULT', 'SEMIO_LUST',\n",
    "        'SEMIO_MAT', 'SEMIO_PFLICHT', 'SEMIO_RAT', 'SEMIO_REL', 'SEMIO_SOZ',\n",
    "        'SEMIO_TRADV', 'SEMIO_VERT', 'ZABEOTYP', 'ANREDE_KZ',\n",
    "        'ALTERSKATEGORIE_GROB']]"
   ]
  },
  {
   "cell_type": "code",
   "execution_count": 24,
   "metadata": {},
   "outputs": [
    {
     "data": {
      "text/plain": [
       "(Index(['CJT_GESAMTTYP', 'CJT_KATALOGNUTZER', 'CJT_TYP_1', 'CJT_TYP_2',\n",
       "        'CJT_TYP_3', 'CJT_TYP_4', 'CJT_TYP_5', 'CJT_TYP_6', 'D19_BANKEN_DATUM',\n",
       "        'D19_BANKEN_OFFLINE_DATUM', 'D19_BANKEN_ONLINE_DATUM',\n",
       "        'D19_GESAMT_DATUM', 'D19_GESAMT_OFFLINE_DATUM',\n",
       "        'D19_GESAMT_ONLINE_DATUM', 'D19_KONSUMTYP_MAX', 'D19_TELKO_DATUM',\n",
       "        'D19_TELKO_OFFLINE_DATUM', 'D19_TELKO_ONLINE_DATUM',\n",
       "        'D19_VERSAND_DATUM', 'D19_VERSAND_OFFLINE_DATUM',\n",
       "        'D19_VERSAND_ONLINE_DATUM', 'D19_VERSI_DATUM',\n",
       "        'D19_VERSI_OFFLINE_DATUM', 'D19_VERSI_ONLINE_DATUM', 'FINANZ_ANLEGER',\n",
       "        'FINANZ_HAUSBAUER', 'FINANZ_MINIMALIST', 'FINANZ_SPARER',\n",
       "        'FINANZ_UNAUFFAELLIGER', 'FINANZ_VORSORGER', 'FINANZTYP',\n",
       "        'GFK_URLAUBERTYP', 'HH_EINKOMMEN_SCORE', 'KOMBIALTER', 'LP_STATUS_FEIN',\n",
       "        'LP_STATUS_GROB', 'ONLINE_AFFINITAET', 'RETOURTYP_BK_S',\n",
       "        'RT_KEIN_ANREIZ', 'RT_SCHNAEPPCHEN', 'SEMIO_DOM', 'SEMIO_ERL',\n",
       "        'SEMIO_FAM', 'SEMIO_KAEM', 'SEMIO_KRIT', 'SEMIO_KULT', 'SEMIO_LUST',\n",
       "        'SEMIO_MAT', 'SEMIO_PFLICHT', 'SEMIO_RAT', 'SEMIO_REL', 'SEMIO_SOZ',\n",
       "        'SEMIO_TRADV', 'SEMIO_VERT', 'ZABEOTYP', 'ANREDE_KZ',\n",
       "        'ALTERSKATEGORIE_GROB'],\n",
       "       dtype='object'), 57)"
      ]
     },
     "execution_count": 24,
     "metadata": {},
     "output_type": "execute_result"
    }
   ],
   "source": [
    "# Remaining features and length \n",
    "clean_mailout_train_raw_dropna.columns, len(clean_mailout_train_raw_dropna.columns)"
   ]
  },
  {
   "cell_type": "markdown",
   "metadata": {},
   "source": [
    "##### VII. Replacing remaining NaNs with -1 value"
   ]
  },
  {
   "cell_type": "code",
   "execution_count": 25,
   "metadata": {},
   "outputs": [],
   "source": [
    "clean_mailout_train_raw_fillna = clean_mailout_train_raw_dropna.fillna(-1)\n",
    "clean_mailout_test_raw_fillna = clean_mailout_test_raw_dropna.fillna(-1)"
   ]
  },
  {
   "cell_type": "markdown",
   "metadata": {},
   "source": [
    "##### VIII. Checking data type and cleaned values"
   ]
  },
  {
   "cell_type": "code",
   "execution_count": 26,
   "metadata": {},
   "outputs": [
    {
     "data": {
      "text/plain": [
       "CJT_GESAMTTYP                0\n",
       "CJT_KATALOGNUTZER            0\n",
       "CJT_TYP_1                    0\n",
       "CJT_TYP_2                    0\n",
       "CJT_TYP_3                    0\n",
       "CJT_TYP_4                    0\n",
       "CJT_TYP_5                    0\n",
       "CJT_TYP_6                    0\n",
       "D19_BANKEN_DATUM             0\n",
       "D19_BANKEN_OFFLINE_DATUM     0\n",
       "D19_BANKEN_ONLINE_DATUM      0\n",
       "D19_GESAMT_DATUM             0\n",
       "D19_GESAMT_OFFLINE_DATUM     0\n",
       "D19_GESAMT_ONLINE_DATUM      0\n",
       "D19_KONSUMTYP_MAX            0\n",
       "D19_TELKO_DATUM              0\n",
       "D19_TELKO_OFFLINE_DATUM      0\n",
       "D19_TELKO_ONLINE_DATUM       0\n",
       "D19_VERSAND_DATUM            0\n",
       "D19_VERSAND_OFFLINE_DATUM    0\n",
       "D19_VERSAND_ONLINE_DATUM     0\n",
       "D19_VERSI_DATUM              0\n",
       "D19_VERSI_OFFLINE_DATUM      0\n",
       "D19_VERSI_ONLINE_DATUM       0\n",
       "FINANZ_ANLEGER               0\n",
       "FINANZ_HAUSBAUER             0\n",
       "FINANZ_MINIMALIST            0\n",
       "FINANZ_SPARER                0\n",
       "FINANZ_UNAUFFAELLIGER        0\n",
       "FINANZ_VORSORGER             0\n",
       "FINANZTYP                    0\n",
       "GFK_URLAUBERTYP              0\n",
       "HH_EINKOMMEN_SCORE           0\n",
       "KOMBIALTER                   0\n",
       "LP_STATUS_FEIN               0\n",
       "LP_STATUS_GROB               0\n",
       "ONLINE_AFFINITAET            0\n",
       "RETOURTYP_BK_S               0\n",
       "RT_KEIN_ANREIZ               0\n",
       "RT_SCHNAEPPCHEN              0\n",
       "SEMIO_DOM                    0\n",
       "SEMIO_ERL                    0\n",
       "SEMIO_FAM                    0\n",
       "SEMIO_KAEM                   0\n",
       "SEMIO_KRIT                   0\n",
       "SEMIO_KULT                   0\n",
       "SEMIO_LUST                   0\n",
       "SEMIO_MAT                    0\n",
       "SEMIO_PFLICHT                0\n",
       "SEMIO_RAT                    0\n",
       "SEMIO_REL                    0\n",
       "SEMIO_SOZ                    0\n",
       "SEMIO_TRADV                  0\n",
       "SEMIO_VERT                   0\n",
       "ZABEOTYP                     0\n",
       "ANREDE_KZ                    0\n",
       "ALTERSKATEGORIE_GROB         0\n",
       "dtype: int64"
      ]
     },
     "execution_count": 26,
     "metadata": {},
     "output_type": "execute_result"
    }
   ],
   "source": [
    "# Counting NaN values for each column\n",
    "clean_mailout_train_raw_fillna.apply(lambda x:x.isna().sum())\n",
    "clean_mailout_test_raw_fillna.apply(lambda x:x.isna().sum())"
   ]
  },
  {
   "cell_type": "code",
   "execution_count": 27,
   "metadata": {},
   "outputs": [
    {
     "data": {
      "text/plain": [
       "{dtype('int64'), dtype('float64')}"
      ]
     },
     "execution_count": 27,
     "metadata": {},
     "output_type": "execute_result"
    }
   ],
   "source": [
    "# Data types\n",
    "set(clean_mailout_train_raw_fillna.dtypes)\n",
    "set(clean_mailout_test_raw_fillna.dtypes)"
   ]
  },
  {
   "cell_type": "markdown",
   "metadata": {},
   "source": [
    "##### IX. Normalizing the data"
   ]
  },
  {
   "cell_type": "markdown",
   "metadata": {},
   "source": [
    "The goal of normalization is to change the values of numeric columns in the dataset to a common scale, without distorting differences in the ranges of values. In our dataset, normalization is required because features have different ranges. We transforms features by scaling each feature between zero and one using [MinMaxScler](https://scikit-learn.org/stable/modules/generated/sklearn.preprocessing.MinMaxScaler.html) from Scikitleran module\n",
    "We create an estimator which scales and translates each feature individually such that it is between zero and one."
   ]
  },
  {
   "cell_type": "code",
   "execution_count": 28,
   "metadata": {},
   "outputs": [],
   "source": [
    "# Creating scaled customers dataframe\n",
    "from sklearn.preprocessing import MinMaxScaler\n",
    "\n",
    "scaler = MinMaxScaler()\n",
    "\n",
    "mailout_train_scaled = pd.DataFrame(scaler.fit_transform(clean_mailout_train_raw_fillna.astype(float)))\n",
    "mailout_train_scaled.index = clean_mailout_train_raw_fillna.index\n",
    "mailout_train_scaled.columns = clean_mailout_train_raw_fillna.columns\n",
    "\n",
    "mailout_test_scaled = pd.DataFrame(scaler.fit_transform(clean_mailout_test_raw_fillna.astype(float)))\n",
    "mailout_test_scaled.index = clean_mailout_test_raw_fillna.index\n",
    "mailout_test_scaled.columns = clean_mailout_test_raw_fillna.columns"
   ]
  },
  {
   "cell_type": "markdown",
   "metadata": {},
   "source": [
    "### Save cleaned data as pickle file"
   ]
  },
  {
   "cell_type": "code",
   "execution_count": 29,
   "metadata": {},
   "outputs": [],
   "source": [
    "mailout_train_scaled.to_pickle(\"cleaned_mailout_train.pkl\")\n",
    "mailout_train_scaled.to_pickle(\"cleaned_mailout_test.pkl\")"
   ]
  },
  {
   "cell_type": "markdown",
   "metadata": {},
   "source": [
    "## 2- Dimensionality Reduction with PCA"
   ]
  },
  {
   "cell_type": "code",
   "execution_count": 30,
   "metadata": {},
   "outputs": [],
   "source": [
    "# Loading pca_azidas model\n",
    "filename = 'pca_model.sav'\n",
    "pca_azdias = pickle.load(open(filename, 'rb'))"
   ]
  },
  {
   "cell_type": "code",
   "execution_count": 31,
   "metadata": {},
   "outputs": [],
   "source": [
    "reduced_mailout_train = pca_azdias.transform(mailout_train_scaled)\n",
    "reduced_mailout_test = pca_azdias.transform(mailout_test_scaled)"
   ]
  },
  {
   "cell_type": "code",
   "execution_count": 32,
   "metadata": {},
   "outputs": [],
   "source": [
    "min_features = mailout_train_scaled.shape[1]-1\n",
    "reduced_mailout_train = pd.DataFrame(data=reduced_mailout_train, \\\n",
    "                                 columns = ['c_{}'.format(i) for i in range(min_features)], \\\n",
    "                                 index = mailout_train_scaled.index)\n",
    "\n",
    "min_features = mailout_test_scaled.shape[1]-1\n",
    "reduced_mailout_test = pd.DataFrame(data=reduced_mailout_test, \\\n",
    "                                 columns = ['c_{}'.format(i) for i in range(min_features)], \\\n",
    "                                 index = mailout_test_scaled.index)"
   ]
  },
  {
   "cell_type": "code",
   "execution_count": 33,
   "metadata": {},
   "outputs": [
    {
     "data": {
      "text/html": [
       "<div>\n",
       "<style scoped>\n",
       "    .dataframe tbody tr th:only-of-type {\n",
       "        vertical-align: middle;\n",
       "    }\n",
       "\n",
       "    .dataframe tbody tr th {\n",
       "        vertical-align: top;\n",
       "    }\n",
       "\n",
       "    .dataframe thead th {\n",
       "        text-align: right;\n",
       "    }\n",
       "</style>\n",
       "<table border=\"1\" class=\"dataframe\">\n",
       "  <thead>\n",
       "    <tr style=\"text-align: right;\">\n",
       "      <th></th>\n",
       "      <th>c_0</th>\n",
       "      <th>c_1</th>\n",
       "      <th>c_2</th>\n",
       "      <th>c_3</th>\n",
       "      <th>c_4</th>\n",
       "      <th>c_5</th>\n",
       "      <th>c_6</th>\n",
       "      <th>c_7</th>\n",
       "      <th>c_8</th>\n",
       "      <th>c_9</th>\n",
       "      <th>...</th>\n",
       "      <th>c_46</th>\n",
       "      <th>c_47</th>\n",
       "      <th>c_48</th>\n",
       "      <th>c_49</th>\n",
       "      <th>c_50</th>\n",
       "      <th>c_51</th>\n",
       "      <th>c_52</th>\n",
       "      <th>c_53</th>\n",
       "      <th>c_54</th>\n",
       "      <th>c_55</th>\n",
       "    </tr>\n",
       "    <tr>\n",
       "      <th>LNR</th>\n",
       "      <th></th>\n",
       "      <th></th>\n",
       "      <th></th>\n",
       "      <th></th>\n",
       "      <th></th>\n",
       "      <th></th>\n",
       "      <th></th>\n",
       "      <th></th>\n",
       "      <th></th>\n",
       "      <th></th>\n",
       "      <th></th>\n",
       "      <th></th>\n",
       "      <th></th>\n",
       "      <th></th>\n",
       "      <th></th>\n",
       "      <th></th>\n",
       "      <th></th>\n",
       "      <th></th>\n",
       "      <th></th>\n",
       "      <th></th>\n",
       "      <th></th>\n",
       "    </tr>\n",
       "  </thead>\n",
       "  <tbody>\n",
       "    <tr>\n",
       "      <th>1</th>\n",
       "      <td>0.633313</td>\n",
       "      <td>-0.969045</td>\n",
       "      <td>-0.494870</td>\n",
       "      <td>-1.143428</td>\n",
       "      <td>0.731403</td>\n",
       "      <td>0.334638</td>\n",
       "      <td>-0.032156</td>\n",
       "      <td>-0.097593</td>\n",
       "      <td>0.029961</td>\n",
       "      <td>0.037406</td>\n",
       "      <td>...</td>\n",
       "      <td>-0.001572</td>\n",
       "      <td>0.006230</td>\n",
       "      <td>-0.044912</td>\n",
       "      <td>-0.037045</td>\n",
       "      <td>0.001392</td>\n",
       "      <td>0.000314</td>\n",
       "      <td>0.000126</td>\n",
       "      <td>0.000040</td>\n",
       "      <td>-0.000380</td>\n",
       "      <td>0.024426</td>\n",
       "    </tr>\n",
       "    <tr>\n",
       "      <th>5</th>\n",
       "      <td>0.602320</td>\n",
       "      <td>-0.515073</td>\n",
       "      <td>-0.789517</td>\n",
       "      <td>-1.173841</td>\n",
       "      <td>0.843082</td>\n",
       "      <td>0.350187</td>\n",
       "      <td>-0.202789</td>\n",
       "      <td>-0.055925</td>\n",
       "      <td>0.205694</td>\n",
       "      <td>-0.184959</td>\n",
       "      <td>...</td>\n",
       "      <td>-0.006888</td>\n",
       "      <td>0.014425</td>\n",
       "      <td>-0.187576</td>\n",
       "      <td>-0.027908</td>\n",
       "      <td>-0.000760</td>\n",
       "      <td>0.001553</td>\n",
       "      <td>0.002093</td>\n",
       "      <td>0.000328</td>\n",
       "      <td>-0.000828</td>\n",
       "      <td>0.027867</td>\n",
       "    </tr>\n",
       "    <tr>\n",
       "      <th>9</th>\n",
       "      <td>0.633313</td>\n",
       "      <td>-0.969045</td>\n",
       "      <td>-0.494870</td>\n",
       "      <td>-1.143428</td>\n",
       "      <td>0.731403</td>\n",
       "      <td>0.334638</td>\n",
       "      <td>-0.032156</td>\n",
       "      <td>-0.097593</td>\n",
       "      <td>0.029961</td>\n",
       "      <td>0.037406</td>\n",
       "      <td>...</td>\n",
       "      <td>-0.001572</td>\n",
       "      <td>0.006230</td>\n",
       "      <td>-0.044912</td>\n",
       "      <td>-0.037045</td>\n",
       "      <td>0.001392</td>\n",
       "      <td>0.000314</td>\n",
       "      <td>0.000126</td>\n",
       "      <td>0.000040</td>\n",
       "      <td>-0.000380</td>\n",
       "      <td>0.024426</td>\n",
       "    </tr>\n",
       "    <tr>\n",
       "      <th>10</th>\n",
       "      <td>0.633313</td>\n",
       "      <td>-0.969045</td>\n",
       "      <td>-0.494870</td>\n",
       "      <td>-1.143428</td>\n",
       "      <td>0.731403</td>\n",
       "      <td>0.334638</td>\n",
       "      <td>-0.032156</td>\n",
       "      <td>-0.097593</td>\n",
       "      <td>0.029961</td>\n",
       "      <td>0.037406</td>\n",
       "      <td>...</td>\n",
       "      <td>-0.001572</td>\n",
       "      <td>0.006230</td>\n",
       "      <td>-0.044912</td>\n",
       "      <td>-0.037045</td>\n",
       "      <td>0.001392</td>\n",
       "      <td>0.000314</td>\n",
       "      <td>0.000126</td>\n",
       "      <td>0.000040</td>\n",
       "      <td>-0.000380</td>\n",
       "      <td>0.024426</td>\n",
       "    </tr>\n",
       "    <tr>\n",
       "      <th>11</th>\n",
       "      <td>-0.455526</td>\n",
       "      <td>-0.452935</td>\n",
       "      <td>1.060285</td>\n",
       "      <td>-0.600518</td>\n",
       "      <td>0.012174</td>\n",
       "      <td>-0.524961</td>\n",
       "      <td>0.022830</td>\n",
       "      <td>0.061882</td>\n",
       "      <td>-0.066046</td>\n",
       "      <td>-0.010786</td>\n",
       "      <td>...</td>\n",
       "      <td>0.053181</td>\n",
       "      <td>-0.282793</td>\n",
       "      <td>0.028975</td>\n",
       "      <td>-0.034087</td>\n",
       "      <td>-0.374502</td>\n",
       "      <td>0.057363</td>\n",
       "      <td>0.014396</td>\n",
       "      <td>0.002156</td>\n",
       "      <td>0.009773</td>\n",
       "      <td>-0.024367</td>\n",
       "    </tr>\n",
       "  </tbody>\n",
       "</table>\n",
       "<p>5 rows × 56 columns</p>\n",
       "</div>"
      ],
      "text/plain": [
       "          c_0       c_1       c_2       c_3       c_4       c_5       c_6  \\\n",
       "LNR                                                                         \n",
       "1    0.633313 -0.969045 -0.494870 -1.143428  0.731403  0.334638 -0.032156   \n",
       "5    0.602320 -0.515073 -0.789517 -1.173841  0.843082  0.350187 -0.202789   \n",
       "9    0.633313 -0.969045 -0.494870 -1.143428  0.731403  0.334638 -0.032156   \n",
       "10   0.633313 -0.969045 -0.494870 -1.143428  0.731403  0.334638 -0.032156   \n",
       "11  -0.455526 -0.452935  1.060285 -0.600518  0.012174 -0.524961  0.022830   \n",
       "\n",
       "          c_7       c_8       c_9    ...         c_46      c_47      c_48  \\\n",
       "LNR                                  ...                                    \n",
       "1   -0.097593  0.029961  0.037406    ...    -0.001572  0.006230 -0.044912   \n",
       "5   -0.055925  0.205694 -0.184959    ...    -0.006888  0.014425 -0.187576   \n",
       "9   -0.097593  0.029961  0.037406    ...    -0.001572  0.006230 -0.044912   \n",
       "10  -0.097593  0.029961  0.037406    ...    -0.001572  0.006230 -0.044912   \n",
       "11   0.061882 -0.066046 -0.010786    ...     0.053181 -0.282793  0.028975   \n",
       "\n",
       "         c_49      c_50      c_51      c_52      c_53      c_54      c_55  \n",
       "LNR                                                                        \n",
       "1   -0.037045  0.001392  0.000314  0.000126  0.000040 -0.000380  0.024426  \n",
       "5   -0.027908 -0.000760  0.001553  0.002093  0.000328 -0.000828  0.027867  \n",
       "9   -0.037045  0.001392  0.000314  0.000126  0.000040 -0.000380  0.024426  \n",
       "10  -0.037045  0.001392  0.000314  0.000126  0.000040 -0.000380  0.024426  \n",
       "11  -0.034087 -0.374502  0.057363  0.014396  0.002156  0.009773 -0.024367  \n",
       "\n",
       "[5 rows x 56 columns]"
      ]
     },
     "execution_count": 33,
     "metadata": {},
     "output_type": "execute_result"
    }
   ],
   "source": [
    "reduced_mailout_train.head()"
   ]
  },
  {
   "cell_type": "code",
   "execution_count": 34,
   "metadata": {},
   "outputs": [
    {
     "name": "stdout",
     "output_type": "stream",
     "text": [
      "We retain 16 components and capture 84.21% explained variance for train dataframe\n",
      "We retain 16 components and capture 84.21% explained variance for test dataframe\n"
     ]
    }
   ],
   "source": [
    "# The good top_n for azdias dataframe\n",
    "top_n=16\n",
    "print ('We retain {} components and capture {}% explained variance for train dataframe'\\\n",
    "       .format(top_n,(pca_azdias.explained_variance_ratio_[:top_n].sum()*100).round(2)))\n",
    "print ('We retain {} components and capture {}% explained variance for test dataframe'\\\n",
    "       .format(top_n,(pca_azdias.explained_variance_ratio_[:top_n].sum()*100).round(2)))"
   ]
  },
  {
   "cell_type": "code",
   "execution_count": 35,
   "metadata": {},
   "outputs": [],
   "source": [
    "columns = ['c_{}'.format(i) for i in range(top_n)]\n",
    "reduced_mailout_train = reduced_mailout_train[columns]\n",
    "reduced_mailout_test = reduced_mailout_test[columns]"
   ]
  },
  {
   "cell_type": "code",
   "execution_count": 36,
   "metadata": {},
   "outputs": [
    {
     "data": {
      "text/plain": [
       "(42962, 16)"
      ]
     },
     "execution_count": 36,
     "metadata": {},
     "output_type": "execute_result"
    }
   ],
   "source": [
    "reduced_mailout_train.shape"
   ]
  },
  {
   "cell_type": "code",
   "execution_count": 37,
   "metadata": {},
   "outputs": [],
   "source": [
    "reduced_mailout_train.to_pickle(\"reduced_mailout_train.pkl\")\n",
    "reduced_mailout_test.to_pickle(\"reduced_mailout_test.pkl\")"
   ]
  },
  {
   "cell_type": "markdown",
   "metadata": {},
   "source": [
    "## 3- Linear Learner (Sagemaker)"
   ]
  },
  {
   "cell_type": "markdown",
   "metadata": {},
   "source": [
    "***IMPORTANT: This section is executed on Amazon SageMaker platform notebook. LinearLearner is a buitlin algorithm and we are only able to train and deploy this algorithm on Amazon SageMaker. You should note that the following files are uploaded to S3 bucket and read using AWS imported packages:***\n",
    "\n",
    "- `reduced_mailout_train.csv (reduced train data)`\n",
    "- `reduced_mailout_test.csv (reduced test data to submit to Kaggle)`\n",
    "- `train_response.csv (train labels)`"
   ]
  },
  {
   "cell_type": "markdown",
   "metadata": {},
   "source": [
    "The following code is implemented in Amazon SageMaker platform.  Linear Learner is a built-in algorithm provided by Amazon SageMaker used for solving either classification or regression problems. in this project we will  use this binary classifier on this platform where it is trained, deployed and evluated on train MAIL_OUT dataset. \n",
    "The Amazon SageMaker linear learner algorithm provides a solution for binary classification problems. With the Amazon SageMaker algorithm, we can simultaneously explore different training objectives and choose the best solution from a validation set. We can also explore a large number of parameters and choose the best. The best model optimizes either of the following:\n",
    "\n",
    "- Continuous objectives, such as mean square error, cross entropy loss, absolute error.\n",
    "- Discrete objectives suited for classification, such as F1 measure, precision, recall, or accuracy."
   ]
  },
  {
   "cell_type": "markdown",
   "metadata": {},
   "source": [
    "##### I. Load preprocessed Data from S3\n",
    "\n",
    "In this section, we have created four files in S3: a `reduced_mailout_train.csv` and `reduced_mailout_test.csv` file with the reduced features and `train_response.csv`, `test_response.csv` file with the labels\n",
    "\n",
    ">The below cells load in some AWS SageMaker libraries and are created in publicly availabe **sagemaker-us-east-2-635229580099** bucket."
   ]
  },
  {
   "cell_type": "code",
   "execution_count": 2,
   "metadata": {},
   "outputs": [],
   "source": [
    "import pandas as pd\n",
    "import boto3\n",
    "import sagemaker\n",
    "import numpy as np\n",
    "import pickle\n",
    "import seaborn as sns\n",
    "import matplotlib.pyplot as plt"
   ]
  },
  {
   "cell_type": "code",
   "execution_count": 3,
   "metadata": {},
   "outputs": [],
   "source": [
    "# session and role\n",
    "sagemaker_session = sagemaker.Session()\n",
    "role = sagemaker.get_execution_role()\n",
    "\n",
    "# create an S3 bucket\n",
    "bucket = sagemaker_session.default_bucket()"
   ]
  },
  {
   "cell_type": "code",
   "execution_count": 4,
   "metadata": {},
   "outputs": [
    {
     "data": {
      "text/plain": [
       "'sagemaker-us-east-2-635229580099'"
      ]
     },
     "execution_count": 4,
     "metadata": {},
     "output_type": "execute_result"
    }
   ],
   "source": [
    "bucket"
   ]
  },
  {
   "cell_type": "code",
   "execution_count": 5,
   "metadata": {},
   "outputs": [],
   "source": [
    "\n",
    "data_key_X = 'reduced_mailout_train.csv'\n",
    "data_key_y = 'train_response.csv'\n",
    "\n",
    "data_location_X = 's3://{}/{}'.format(bucket, data_key_X)\n",
    "data_location_y = 's3://{}/{}'.format(bucket, data_key_y)\n",
    "\n",
    "\n",
    "X = pd.read_csv(data_location_X)\n",
    "y = pd.read_csv(data_location_y)"
   ]
  },
  {
   "cell_type": "markdown",
   "metadata": {},
   "source": [
    "###### II. Splitting the data"
   ]
  },
  {
   "cell_type": "code",
   "execution_count": 6,
   "metadata": {},
   "outputs": [],
   "source": [
    "from sklearn.model_selection import train_test_split"
   ]
  },
  {
   "cell_type": "code",
   "execution_count": 7,
   "metadata": {},
   "outputs": [],
   "source": [
    "X_train, X_test, y_train, y_test = train_test_split(X, y, test_size=0.25, random_state=42)"
   ]
  },
  {
   "cell_type": "markdown",
   "metadata": {},
   "source": [
    "Here, the Dataset is broken into two parts in a ratio of 75:25. It means 75% data will be used for model training and 33% for model testing. Now, we fit our model on the train set using fit() and perform prediction on the test set using predict()."
   ]
  },
  {
   "cell_type": "markdown",
   "metadata": {},
   "source": [
    "##### III. Imbalanced training data"
   ]
  },
  {
   "cell_type": "markdown",
   "metadata": {},
   "source": [
    "At the exploration section, we saw that only about 1% of the data was labeled to be in mail_order list. So, even if a model labels all of our data as valid, it will still have a high accuracy. This may affect our principal goal which is to predict and identify customers that are likely to be in mail-order marketing campaign. The important point here is that we want to capture almost all customers classed to be in the mail list. That means we want to have high True Positive and low False Negative as possible which means high `Recall`. To compensate the existing imbalance we will set `positive_example_weight_mult` parameter to `balanced`. Then our target is to get the highest recall as possible so we set the `binary_classifier_model_selection_criteria` parameter to `precision_at_target_recall`.\n",
    "\n"
   ]
  },
  {
   "cell_type": "code",
   "execution_count": 8,
   "metadata": {},
   "outputs": [
    {
     "data": {
      "text/plain": [
       "0    10601\n",
       "1      140\n",
       "dtype: int64"
      ]
     },
     "execution_count": 8,
     "metadata": {},
     "output_type": "execute_result"
    }
   ],
   "source": [
    "# Label distribution\n",
    "labels = pd.Series(y_test.values.ravel())\n",
    "labels.value_counts()"
   ]
  },
  {
   "cell_type": "code",
   "execution_count": 9,
   "metadata": {},
   "outputs": [
    {
     "name": "stdout",
     "output_type": "stream",
     "text": [
      "The positive response to mail campaign ratio is 0.01\n"
     ]
    }
   ],
   "source": [
    "# Ratio Calculation\n",
    "positive_response_ratio = labels.value_counts()[1]/labels.value_counts()[0]\n",
    "print ('The positive response to mail campaign ratio is {:.2f}'.format(positive_response_ratio))"
   ]
  },
  {
   "cell_type": "code",
   "execution_count": 10,
   "metadata": {},
   "outputs": [
    {
     "data": {
      "image/png": "[encoded data removed]",
      "text/plain": [
       "<Figure size 432x288 with 1 Axes>"
      ]
     },
     "metadata": {},
     "output_type": "display_data"
    }
   ],
   "source": [
    "# Count plot of labels\n",
    "sns.countplot(data=labels, x=labels.index, palette='hls')\n",
    "plt.xlabel('response')\n",
    "plt.show()"
   ]
  },
  {
   "cell_type": "markdown",
   "metadata": {},
   "source": [
    "##### IV. Create a LinearLearner Estimator"
   ]
  },
  {
   "cell_type": "code",
   "execution_count": 21,
   "metadata": {},
   "outputs": [],
   "source": [
    "# import LinearLearner\n",
    "from sagemaker import LinearLearner\n",
    "\n",
    "# specify an output path\n",
    "prefix = 'capstone_out'\n",
    "output_path = 's3://{}/{}'.format(bucket, prefix)\n",
    "\n",
    "# instantiate LinearLearner\n",
    "linear = LinearLearner(role=role,\n",
    "                        train_instance_count=1, \n",
    "                        train_instance_type='ml.c4.xlarge',\n",
    "                        predictor_type='binary_classifier',\n",
    "                        output_path=output_path,\n",
    "                        sagemaker_session=sagemaker_session,\n",
    "                        epochs=20,\n",
    "                        binary_classifier_model_selection_criteria='precision_at_target_recall',\n",
    "                        target_precision=0.8,\n",
    "                        positive_example_weight_mult='balanced')"
   ]
  },
  {
   "cell_type": "markdown",
   "metadata": {},
   "source": [
    "##### V. Convert data into a RecordSet format"
   ]
  },
  {
   "cell_type": "code",
   "execution_count": 12,
   "metadata": {},
   "outputs": [],
   "source": [
    "# convert features/labels to numpy\n",
    "train_x_np = X_train.values.astype('float32')\n",
    "train_y_np = y_train.values.squeeze().astype('float32')\n",
    "test_x_np = X_test.values.astype('float32')\n",
    "test_y_np = y_test.values.squeeze().astype('float32')\n",
    "\n",
    "\n",
    "# create RecordSet\n",
    "formatted_train_data = linear.record_set(train_x_np, labels=train_y_np)"
   ]
  },
  {
   "cell_type": "code",
   "execution_count": 13,
   "metadata": {},
   "outputs": [
    {
     "data": {
      "text/plain": [
       "(<class 'sagemaker.amazon.amazon_estimator.RecordSet'>, {'s3_data': 's3://sagemaker-us-east-2-635229580099/sagemaker-record-sets/LinearLearner-2019-08-11-14-06-39-758/.amazon.manifest', 'feature_dim': 16, 'num_records': 32221, 's3_data_type': 'ManifestFile', 'channel': 'train'})"
      ]
     },
     "execution_count": 13,
     "metadata": {},
     "output_type": "execute_result"
    }
   ],
   "source": [
    "formatted_train_data"
   ]
  },
  {
   "cell_type": "code",
   "execution_count": 14,
   "metadata": {},
   "outputs": [
    {
     "data": {
      "text/plain": [
       "(array([-1.3715047 ,  0.9703056 , -0.11625351, -0.09607597,  0.15708666,\n",
       "        -0.8512137 , -0.06170477,  0.21805191, -0.12487005, -0.00304065,\n",
       "        -0.24735336, -0.13283318, -0.01412   ,  0.14167145,  0.21693088,\n",
       "        -0.00263326], dtype=float32), 0.0)"
      ]
     },
     "execution_count": 14,
     "metadata": {},
     "output_type": "execute_result"
    }
   ],
   "source": [
    "train_x_np[10],train_y_np[10]"
   ]
  },
  {
   "cell_type": "markdown",
   "metadata": {},
   "source": [
    "##### VI. Train  and deploy the Estimator"
   ]
  },
  {
   "cell_type": "code",
   "execution_count": 15,
   "metadata": {},
   "outputs": [
    {
     "name": "stdout",
     "output_type": "stream",
     "text": [
      "2019-08-11 14:06:41 Starting - Starting the training job...\n",
      "2019-08-11 14:06:46 Starting - Launching requested ML instances......\n",
      "2019-08-11 14:07:49 Starting - Preparing the instances for training......\n",
      "2019-08-11 14:09:00 Downloading - Downloading input data...\n",
      "2019-08-11 14:09:41 Training - Downloading the training image..\n",
      "\u001b[31mDocker entrypoint called with argument(s): train\u001b[0m\n",
      "\u001b[31m[08/11/2019 14:09:56 INFO 140680134403904] Reading default configuration from /opt/amazon/lib/python2.7/site-packages/algorithm/resources/default-input.json: {u'loss_insensitivity': u'0.01', u'epochs': u'15', u'init_bias': u'0.0', u'lr_scheduler_factor': u'auto', u'num_calibration_samples': u'10000000', u'accuracy_top_k': u'3', u'_num_kv_servers': u'auto', u'use_bias': u'true', u'num_point_for_scaler': u'10000', u'_log_level': u'info', u'quantile': u'0.5', u'bias_lr_mult': u'auto', u'lr_scheduler_step': u'auto', u'init_method': u'uniform', u'init_sigma': u'0.01', u'lr_scheduler_minimum_lr': u'auto', u'target_recall': u'0.8', u'num_models': u'auto', u'early_stopping_patience': u'3', u'momentum': u'auto', u'unbias_label': u'auto', u'wd': u'auto', u'optimizer': u'auto', u'_tuning_objective_metric': u'', u'early_stopping_tolerance': u'0.001', u'learning_rate': u'auto', u'_kvstore': u'auto', u'normalize_data': u'true', u'binary_classifier_model_selection_criteria': u'accuracy', u'use_lr_scheduler': u'true', u'target_precision': u'0.8', u'unbias_data': u'auto', u'init_scale': u'0.07', u'bias_wd_mult': u'auto', u'f_beta': u'1.0', u'mini_batch_size': u'1000', u'huber_delta': u'1.0', u'num_classes': u'1', u'beta_1': u'auto', u'loss': u'auto', u'beta_2': u'auto', u'_enable_profiler': u'false', u'normalize_label': u'auto', u'_num_gpus': u'auto', u'balance_multiclass_weights': u'false', u'positive_example_weight_mult': u'1.0', u'l1': u'auto', u'margin': u'1.0'}\u001b[0m\n",
      "\u001b[31m[08/11/2019 14:09:56 INFO 140680134403904] Reading provided configuration from /opt/ml/input/config/hyperparameters.json: {u'predictor_type': u'binary_classifier', u'feature_dim': u'16', u'target_precision': u'0.7', u'binary_classifier_model_selection_criteria': u'precision_at_target_recall', u'epochs': u'20', u'positive_example_weight_mult': u'balanced', u'mini_batch_size': u'1000'}\u001b[0m\n",
      "\u001b[31m[08/11/2019 14:09:56 INFO 140680134403904] Final configuration: {u'loss_insensitivity': u'0.01', u'epochs': u'20', u'feature_dim': u'16', u'init_bias': u'0.0', u'lr_scheduler_factor': u'auto', u'num_calibration_samples': u'10000000', u'accuracy_top_k': u'3', u'_num_kv_servers': u'auto', u'use_bias': u'true', u'num_point_for_scaler': u'10000', u'_log_level': u'info', u'quantile': u'0.5', u'bias_lr_mult': u'auto', u'lr_scheduler_step': u'auto', u'init_method': u'uniform', u'init_sigma': u'0.01', u'lr_scheduler_minimum_lr': u'auto', u'target_recall': u'0.8', u'num_models': u'auto', u'early_stopping_patience': u'3', u'momentum': u'auto', u'unbias_label': u'auto', u'wd': u'auto', u'optimizer': u'auto', u'_tuning_objective_metric': u'', u'early_stopping_tolerance': u'0.001', u'learning_rate': u'auto', u'_kvstore': u'auto', u'normalize_data': u'true', u'binary_classifier_model_selection_criteria': u'precision_at_target_recall', u'use_lr_scheduler': u'true', u'target_precision': u'0.7', u'unbias_data': u'auto', u'init_scale': u'0.07', u'bias_wd_mult': u'auto', u'f_beta': u'1.0', u'mini_batch_size': u'1000', u'huber_delta': u'1.0', u'num_classes': u'1', u'predictor_type': u'binary_classifier', u'beta_1': u'auto', u'loss': u'auto', u'beta_2': u'auto', u'_enable_profiler': u'false', u'normalize_label': u'auto', u'_num_gpus': u'auto', u'balance_multiclass_weights': u'false', u'positive_example_weight_mult': u'balanced', u'l1': u'auto', u'margin': u'1.0'}\u001b[0m\n",
      "\u001b[31m[08/11/2019 14:09:56 WARNING 140680134403904] Loggers have already been setup.\u001b[0m\n",
      "\u001b[31mProcess 1 is a worker.\u001b[0m\n",
      "\u001b[31m[08/11/2019 14:09:56 INFO 140680134403904] Using default worker.\u001b[0m\n",
      "\u001b[31m[2019-08-11 14:09:56.903] [tensorio] [info] epoch_stats={\"data_pipeline\": \"/opt/ml/input/data/train\", \"epoch\": 0, \"duration\": 17, \"num_examples\": 1, \"num_bytes\": 108000}\u001b[0m\n",
      "\u001b[31m[08/11/2019 14:09:56 INFO 140680134403904] Create Store: local\u001b[0m\n",
      "\u001b[31m[2019-08-11 14:09:56.955] [tensorio] [info] epoch_stats={\"data_pipeline\": \"/opt/ml/input/data/train\", \"epoch\": 1, \"duration\": 50, \"num_examples\": 11, \"num_bytes\": 1188000}\u001b[0m\n",
      "\u001b[31m[08/11/2019 14:09:56 INFO 140680134403904] Scaler algorithm parameters\n",
      " <algorithm.scaler.ScalerAlgorithmStable object at 0x7ff2540eaed0>\u001b[0m\n",
      "\u001b[31m[08/11/2019 14:09:56 INFO 140680134403904] Scaling model computed with parameters:\n",
      " {'stdev_weight': \u001b[0m\n",
      "\u001b[31m[0.8083039  0.85317194 0.7696988  0.6315169  0.41075107 0.37732786\n",
      " 0.33977622 0.2572987  0.28272536 0.23699635 0.25557935 0.24633668\n",
      " 0.2384882  0.22687212 0.22834645 0.21460004]\u001b[0m\n",
      "\u001b[31m<NDArray 16 @cpu(0)>, 'stdev_label': None, 'mean_label': None, 'mean_weight': \u001b[0m\n",
      "\u001b[31m[-0.7382803  -0.08311834  0.14385542 -0.12365095  0.18690176  0.02389429\n",
      "  0.08510979 -0.02028111  0.00142983  0.07461569 -0.02837101  0.02554252\n",
      " -0.01742308 -0.04705161  0.04185697  0.00252617]\u001b[0m\n",
      "\u001b[31m<NDArray 16 @cpu(0)>}\u001b[0m\n",
      "\u001b[31m[08/11/2019 14:09:56 INFO 140680134403904] nvidia-smi took: 0.0251920223236 secs to identify 0 gpus\u001b[0m\n",
      "\u001b[31m[08/11/2019 14:09:56 INFO 140680134403904] Number of GPUs being used: 0\u001b[0m\n",
      "\u001b[31m#metrics {\"Metrics\": {\"Max Batches Seen Between Resets\": {\"count\": 1, \"max\": 11, \"sum\": 11.0, \"min\": 11}, \"Number of Batches Since Last Reset\": {\"count\": 1, \"max\": 0, \"sum\": 0.0, \"min\": 0}, \"Number of Records Since Last Reset\": {\"count\": 1, \"max\": 0, \"sum\": 0.0, \"min\": 0}, \"Total Batches Seen\": {\"count\": 1, \"max\": 12, \"sum\": 12.0, \"min\": 12}, \"Total Records Seen\": {\"count\": 1, \"max\": 12000, \"sum\": 12000.0, \"min\": 12000}, \"Max Records Seen Between Resets\": {\"count\": 1, \"max\": 11000, \"sum\": 11000.0, \"min\": 11000}, \"Reset Count\": {\"count\": 1, \"max\": 2, \"sum\": 2.0, \"min\": 2}}, \"EndTime\": 1565532597.11105, \"Dimensions\": {\"Host\": \"algo-1\", \"Meta\": \"init_train_data_iter\", \"Operation\": \"training\", \"Algorithm\": \"Linear Learner\"}, \"StartTime\": 1565532597.111016}\n",
      "\u001b[0m\n",
      "\u001b[31m[2019-08-11 14:09:58.153] [tensorio] [info] epoch_stats={\"data_pipeline\": \"/opt/ml/input/data/train\", \"epoch\": 3, \"duration\": 1041, \"num_examples\": 33, \"num_bytes\": 3479868}\u001b[0m\n",
      "\u001b[31m#metrics {\"Metrics\": {\"train_binary_classification_weighted_cross_entropy_objective\": {\"count\": 1, \"max\": 1.3792793521881104, \"sum\": 1.3792793521881104, \"min\": 1.3792793521881104}}, \"EndTime\": 1565532598.15331, \"Dimensions\": {\"model\": 0, \"Host\": \"algo-1\", \"Operation\": \"training\", \"Algorithm\": \"Linear Learner\", \"epoch\": 0}, \"StartTime\": 1565532598.153216}\n",
      "\u001b[0m\n",
      "\u001b[31m#metrics {\"Metrics\": {\"train_binary_classification_weighted_cross_entropy_objective\": {\"count\": 1, \"max\": 1.381644105911255, \"sum\": 1.381644105911255, \"min\": 1.381644105911255}}, \"EndTime\": 1565532598.153407, \"Dimensions\": {\"model\": 1, \"Host\": \"algo-1\", \"Operation\": \"training\", \"Algorithm\": \"Linear Learner\", \"epoch\": 0}, \"StartTime\": 1565532598.153386}\n",
      "\u001b[0m\n",
      "\u001b[31m#metrics {\"Metrics\": {\"train_binary_classification_weighted_cross_entropy_objective\": {\"count\": 1, \"max\": 1.391907361984253, \"sum\": 1.391907361984253, \"min\": 1.391907361984253}}, \"EndTime\": 1565532598.15347, \"Dimensions\": {\"model\": 2, \"Host\": \"algo-1\", \"Operation\": \"training\", \"Algorithm\": \"Linear Learner\", \"epoch\": 0}, \"StartTime\": 1565532598.153452}\n",
      "\u001b[0m\n",
      "\u001b[31m#metrics {\"Metrics\": {\"train_binary_classification_weighted_cross_entropy_objective\": {\"count\": 1, \"max\": 1.3815983352661132, \"sum\": 1.3815983352661132, \"min\": 1.3815983352661132}}, \"EndTime\": 1565532598.153522, \"Dimensions\": {\"model\": 3, \"Host\": \"algo-1\", \"Operation\": \"training\", \"Algorithm\": \"Linear Learner\", \"epoch\": 0}, \"StartTime\": 1565532598.153508}\n",
      "\u001b[0m\n",
      "\u001b[31m#metrics {\"Metrics\": {\"train_binary_classification_weighted_cross_entropy_objective\": {\"count\": 1, \"max\": 1.4392075843811034, \"sum\": 1.4392075843811034, \"min\": 1.4392075843811034}}, \"EndTime\": 1565532598.153568, \"Dimensions\": {\"model\": 4, \"Host\": \"algo-1\", \"Operation\": \"training\", \"Algorithm\": \"Linear Learner\", \"epoch\": 0}, \"StartTime\": 1565532598.153555}\n",
      "\u001b[0m\n",
      "\u001b[31m#metrics {\"Metrics\": {\"train_binary_classification_weighted_cross_entropy_objective\": {\"count\": 1, \"max\": 1.4456283721923828, \"sum\": 1.4456283721923828, \"min\": 1.4456283721923828}}, \"EndTime\": 1565532598.153624, \"Dimensions\": {\"model\": 5, \"Host\": \"algo-1\", \"Operation\": \"training\", \"Algorithm\": \"Linear Learner\", \"epoch\": 0}, \"StartTime\": 1565532598.153607}\n",
      "\u001b[0m\n",
      "\u001b[31m#metrics {\"Metrics\": {\"train_binary_classification_weighted_cross_entropy_objective\": {\"count\": 1, \"max\": 1.4433573894500733, \"sum\": 1.4433573894500733, \"min\": 1.4433573894500733}}, \"EndTime\": 1565532598.15367, \"Dimensions\": {\"model\": 6, \"Host\": \"algo-1\", \"Operation\": \"training\", \"Algorithm\": \"Linear Learner\", \"epoch\": 0}, \"StartTime\": 1565532598.153655}\n",
      "\u001b[0m\n",
      "\u001b[31m#metrics {\"Metrics\": {\"train_binary_classification_weighted_cross_entropy_objective\": {\"count\": 1, \"max\": 1.4434658279418946, \"sum\": 1.4434658279418946, \"min\": 1.4434658279418946}}, \"EndTime\": 1565532598.153727, \"Dimensions\": {\"model\": 7, \"Host\": \"algo-1\", \"Operation\": \"training\", \"Algorithm\": \"Linear Learner\", \"epoch\": 0}, \"StartTime\": 1565532598.153711}\n",
      "\u001b[0m\n",
      "\u001b[31m#metrics {\"Metrics\": {\"train_binary_classification_weighted_cross_entropy_objective\": {\"count\": 1, \"max\": 1.3971303138732911, \"sum\": 1.3971303138732911, \"min\": 1.3971303138732911}}, \"EndTime\": 1565532598.153789, \"Dimensions\": {\"model\": 8, \"Host\": \"algo-1\", \"Operation\": \"training\", \"Algorithm\": \"Linear Learner\", \"epoch\": 0}, \"StartTime\": 1565532598.153772}\n",
      "\u001b[0m\n",
      "\u001b[31m#metrics {\"Metrics\": {\"train_binary_classification_weighted_cross_entropy_objective\": {\"count\": 1, \"max\": 1.38724605178833, \"sum\": 1.38724605178833, \"min\": 1.38724605178833}}, \"EndTime\": 1565532598.153846, \"Dimensions\": {\"model\": 9, \"Host\": \"algo-1\", \"Operation\": \"training\", \"Algorithm\": \"Linear Learner\", \"epoch\": 0}, \"StartTime\": 1565532598.15383}\n",
      "\u001b[0m\n",
      "\u001b[31m#metrics {\"Metrics\": {\"train_binary_classification_weighted_cross_entropy_objective\": {\"count\": 1, \"max\": 1.3821971836090088, \"sum\": 1.3821971836090088, \"min\": 1.3821971836090088}}, \"EndTime\": 1565532598.153911, \"Dimensions\": {\"model\": 10, \"Host\": \"algo-1\", \"Operation\": \"training\", \"Algorithm\": \"Linear Learner\", \"epoch\": 0}, \"StartTime\": 1565532598.153894}\n",
      "\u001b[0m\n",
      "\u001b[31m#metrics {\"Metrics\": {\"train_binary_classification_weighted_cross_entropy_objective\": {\"count\": 1, \"max\": 1.3761683464050294, \"sum\": 1.3761683464050294, \"min\": 1.3761683464050294}}, \"EndTime\": 1565532598.153971, \"Dimensions\": {\"model\": 11, \"Host\": \"algo-1\", \"Operation\": \"training\", \"Algorithm\": \"Linear Learner\", \"epoch\": 0}, \"StartTime\": 1565532598.153946}\n",
      "\u001b[0m\n",
      "\u001b[31m#metrics {\"Metrics\": {\"train_binary_classification_weighted_cross_entropy_objective\": {\"count\": 1, \"max\": 1.4419355545043946, \"sum\": 1.4419355545043946, \"min\": 1.4419355545043946}}, \"EndTime\": 1565532598.154016, \"Dimensions\": {\"model\": 12, \"Host\": \"algo-1\", \"Operation\": \"training\", \"Algorithm\": \"Linear Learner\", \"epoch\": 0}, \"StartTime\": 1565532598.154002}\n",
      "\u001b[0m\n",
      "\u001b[31m#metrics {\"Metrics\": {\"train_binary_classification_weighted_cross_entropy_objective\": {\"count\": 1, \"max\": 1.449918571472168, \"sum\": 1.449918571472168, \"min\": 1.449918571472168}}, \"EndTime\": 1565532598.154071, \"Dimensions\": {\"model\": 13, \"Host\": \"algo-1\", \"Operation\": \"training\", \"Algorithm\": \"Linear Learner\", \"epoch\": 0}, \"StartTime\": 1565532598.154055}\n",
      "\u001b[0m\n",
      "\u001b[31m#metrics {\"Metrics\": {\"train_binary_classification_weighted_cross_entropy_objective\": {\"count\": 1, \"max\": 1.4438285217285156, \"sum\": 1.4438285217285156, \"min\": 1.4438285217285156}}, \"EndTime\": 1565532598.154123, \"Dimensions\": {\"model\": 14, \"Host\": \"algo-1\", \"Operation\": \"training\", \"Algorithm\": \"Linear Learner\", \"epoch\": 0}, \"StartTime\": 1565532598.154108}\n",
      "\u001b[0m\n",
      "\u001b[31m#metrics {\"Metrics\": {\"train_binary_classification_weighted_cross_entropy_objective\": {\"count\": 1, \"max\": 1.4426264457702638, \"sum\": 1.4426264457702638, \"min\": 1.4426264457702638}}, \"EndTime\": 1565532598.154173, \"Dimensions\": {\"model\": 15, \"Host\": \"algo-1\", \"Operation\": \"training\", \"Algorithm\": \"Linear Learner\", \"epoch\": 0}, \"StartTime\": 1565532598.154157}\n",
      "\u001b[0m\n",
      "\u001b[31m#metrics {\"Metrics\": {\"train_binary_classification_weighted_cross_entropy_objective\": {\"count\": 1, \"max\": 1.3829535751342774, \"sum\": 1.3829535751342774, \"min\": 1.3829535751342774}}, \"EndTime\": 1565532598.154223, \"Dimensions\": {\"model\": 16, \"Host\": \"algo-1\", \"Operation\": \"training\", \"Algorithm\": \"Linear Learner\", \"epoch\": 0}, \"StartTime\": 1565532598.154209}\n",
      "\u001b[0m\n",
      "\u001b[31m#metrics {\"Metrics\": {\"train_binary_classification_weighted_cross_entropy_objective\": {\"count\": 1, \"max\": 1.3894367713928222, \"sum\": 1.3894367713928222, \"min\": 1.3894367713928222}}, \"EndTime\": 1565532598.154274, \"Dimensions\": {\"model\": 17, \"Host\": \"algo-1\", \"Operation\": \"training\", \"Algorithm\": \"Linear Learner\", \"epoch\": 0}, \"StartTime\": 1565532598.15426}\n",
      "\u001b[0m\n",
      "\u001b[31m#metrics {\"Metrics\": {\"train_binary_classification_weighted_cross_entropy_objective\": {\"count\": 1, \"max\": 1.3902009258270263, \"sum\": 1.3902009258270263, \"min\": 1.3902009258270263}}, \"EndTime\": 1565532598.154326, \"Dimensions\": {\"model\": 18, \"Host\": \"algo-1\", \"Operation\": \"training\", \"Algorithm\": \"Linear Learner\", \"epoch\": 0}, \"StartTime\": 1565532598.154312}\n",
      "\u001b[0m\n",
      "\u001b[31m#metrics {\"Metrics\": {\"train_binary_classification_weighted_cross_entropy_objective\": {\"count\": 1, \"max\": 1.3923930110931397, \"sum\": 1.3923930110931397, \"min\": 1.3923930110931397}}, \"EndTime\": 1565532598.154383, \"Dimensions\": {\"model\": 19, \"Host\": \"algo-1\", \"Operation\": \"training\", \"Algorithm\": \"Linear Learner\", \"epoch\": 0}, \"StartTime\": 1565532598.154367}\n",
      "\u001b[0m\n",
      "\u001b[31m#metrics {\"Metrics\": {\"train_binary_classification_weighted_cross_entropy_objective\": {\"count\": 1, \"max\": 1.4370024299621582, \"sum\": 1.4370024299621582, \"min\": 1.4370024299621582}}, \"EndTime\": 1565532598.154432, \"Dimensions\": {\"model\": 20, \"Host\": \"algo-1\", \"Operation\": \"training\", \"Algorithm\": \"Linear Learner\", \"epoch\": 0}, \"StartTime\": 1565532598.154417}\n",
      "\u001b[0m\n",
      "\u001b[31m#metrics {\"Metrics\": {\"train_binary_classification_weighted_cross_entropy_objective\": {\"count\": 1, \"max\": 1.4297240695953368, \"sum\": 1.4297240695953368, \"min\": 1.4297240695953368}}, \"EndTime\": 1565532598.15449, \"Dimensions\": {\"model\": 21, \"Host\": \"algo-1\", \"Operation\": \"training\", \"Algorithm\": \"Linear Learner\", \"epoch\": 0}, \"StartTime\": 1565532598.154473}\n",
      "\u001b[0m\n",
      "\u001b[31m#metrics {\"Metrics\": {\"train_binary_classification_weighted_cross_entropy_objective\": {\"count\": 1, \"max\": 1.4317976741790772, \"sum\": 1.4317976741790772, \"min\": 1.4317976741790772}}, \"EndTime\": 1565532598.154549, \"Dimensions\": {\"model\": 22, \"Host\": \"algo-1\", \"Operation\": \"training\", \"Algorithm\": \"Linear Learner\", \"epoch\": 0}, \"StartTime\": 1565532598.154532}\n",
      "\u001b[0m\n",
      "\u001b[31m#metrics {\"Metrics\": {\"train_binary_classification_weighted_cross_entropy_objective\": {\"count\": 1, \"max\": 1.4372374153137206, \"sum\": 1.4372374153137206, \"min\": 1.4372374153137206}}, \"EndTime\": 1565532598.154615, \"Dimensions\": {\"model\": 23, \"Host\": \"algo-1\", \"Operation\": \"training\", \"Algorithm\": \"Linear Learner\", \"epoch\": 0}, \"StartTime\": 1565532598.154597}\n",
      "\u001b[0m\n",
      "\u001b[31m#metrics {\"Metrics\": {\"train_binary_classification_weighted_cross_entropy_objective\": {\"count\": 1, \"max\": 1.4008838424682617, \"sum\": 1.4008838424682617, \"min\": 1.4008838424682617}}, \"EndTime\": 1565532598.154675, \"Dimensions\": {\"model\": 24, \"Host\": \"algo-1\", \"Operation\": \"training\", \"Algorithm\": \"Linear Learner\", \"epoch\": 0}, \"StartTime\": 1565532598.154658}\n",
      "\u001b[0m\n",
      "\u001b[31m#metrics {\"Metrics\": {\"train_binary_classification_weighted_cross_entropy_objective\": {\"count\": 1, \"max\": 1.4039927139282227, \"sum\": 1.4039927139282227, \"min\": 1.4039927139282227}}, \"EndTime\": 1565532598.154731, \"Dimensions\": {\"model\": 25, \"Host\": \"algo-1\", \"Operation\": \"training\", \"Algorithm\": \"Linear Learner\", \"epoch\": 0}, \"StartTime\": 1565532598.154715}\n",
      "\u001b[0m\n",
      "\u001b[31m#metrics {\"Metrics\": {\"train_binary_classification_weighted_cross_entropy_objective\": {\"count\": 1, \"max\": 1.4013209590911866, \"sum\": 1.4013209590911866, \"min\": 1.4013209590911866}}, \"EndTime\": 1565532598.154788, \"Dimensions\": {\"model\": 26, \"Host\": \"algo-1\", \"Operation\": \"training\", \"Algorithm\": \"Linear Learner\", \"epoch\": 0}, \"StartTime\": 1565532598.154772}\n",
      "\u001b[0m\n",
      "\u001b[31m#metrics {\"Metrics\": {\"train_binary_classification_weighted_cross_entropy_objective\": {\"count\": 1, \"max\": 1.3994577770233154, \"sum\": 1.3994577770233154, \"min\": 1.3994577770233154}}, \"EndTime\": 1565532598.154847, \"Dimensions\": {\"model\": 27, \"Host\": \"algo-1\", \"Operation\": \"training\", \"Algorithm\": \"Linear Learner\", \"epoch\": 0}, \"StartTime\": 1565532598.154831}\n",
      "\u001b[0m\n",
      "\u001b[31m#metrics {\"Metrics\": {\"train_binary_classification_weighted_cross_entropy_objective\": {\"count\": 1, \"max\": 1.438008415222168, \"sum\": 1.438008415222168, \"min\": 1.438008415222168}}, \"EndTime\": 1565532598.154908, \"Dimensions\": {\"model\": 28, \"Host\": \"algo-1\", \"Operation\": \"training\", \"Algorithm\": \"Linear Learner\", \"epoch\": 0}, \"StartTime\": 1565532598.154891}\n",
      "\u001b[0m\n",
      "\u001b[31m#metrics {\"Metrics\": {\"train_binary_classification_weighted_cross_entropy_objective\": {\"count\": 1, \"max\": 1.4361701793670654, \"sum\": 1.4361701793670654, \"min\": 1.4361701793670654}}, \"EndTime\": 1565532598.154969, \"Dimensions\": {\"model\": 29, \"Host\": \"algo-1\", \"Operation\": \"training\", \"Algorithm\": \"Linear Learner\", \"epoch\": 0}, \"StartTime\": 1565532598.154953}\n",
      "\u001b[0m\n",
      "\u001b[31m#metrics {\"Metrics\": {\"train_binary_classification_weighted_cross_entropy_objective\": {\"count\": 1, \"max\": 1.4257151489257813, \"sum\": 1.4257151489257813, \"min\": 1.4257151489257813}}, \"EndTime\": 1565532598.155031, \"Dimensions\": {\"model\": 30, \"Host\": \"algo-1\", \"Operation\": \"training\", \"Algorithm\": \"Linear Learner\", \"epoch\": 0}, \"StartTime\": 1565532598.155015}\n",
      "\u001b[0m\n",
      "\u001b[31m#metrics {\"Metrics\": {\"train_binary_classification_weighted_cross_entropy_objective\": {\"count\": 1, \"max\": 1.4335858688354493, \"sum\": 1.4335858688354493, \"min\": 1.4335858688354493}}, \"EndTime\": 1565532598.155083, \"Dimensions\": {\"model\": 31, \"Host\": \"algo-1\", \"Operation\": \"training\", \"Algorithm\": \"Linear Learner\", \"epoch\": 0}, \"StartTime\": 1565532598.155067}\n",
      "\u001b[0m\n",
      "\u001b[31m[08/11/2019 14:09:58 INFO 140680134403904] #quality_metric: host=algo-1, epoch=0, train binary_classification_weighted_cross_entropy_objective <loss>=1.37927935219\u001b[0m\n",
      "\u001b[31m[08/11/2019 14:09:58 INFO 140680134403904] #early_stopping_criteria_metric: host=algo-1, epoch=0, criteria=binary_classification_weighted_cross_entropy_objective, value=1.37616834641\u001b[0m\n",
      "\u001b[31m[08/11/2019 14:09:58 INFO 140680134403904] Epoch 0: Loss improved. Updating best model\u001b[0m\n",
      "\u001b[31m[08/11/2019 14:09:58 INFO 140680134403904] #progress_metric: host=algo-1, completed 5 % of epochs\u001b[0m\n",
      "\u001b[31m#metrics {\"Metrics\": {\"Max Batches Seen Between Resets\": {\"count\": 1, \"max\": 33, \"sum\": 33.0, \"min\": 33}, \"Number of Batches Since Last Reset\": {\"count\": 1, \"max\": 33, \"sum\": 33.0, \"min\": 33}, \"Number of Records Since Last Reset\": {\"count\": 1, \"max\": 32221, \"sum\": 32221.0, \"min\": 32221}, \"Total Batches Seen\": {\"count\": 1, \"max\": 45, \"sum\": 45.0, \"min\": 45}, \"Total Records Seen\": {\"count\": 1, \"max\": 44221, \"sum\": 44221.0, \"min\": 44221}, \"Max Records Seen Between Resets\": {\"count\": 1, \"max\": 32221, \"sum\": 32221.0, \"min\": 32221}, \"Reset Count\": {\"count\": 1, \"max\": 3, \"sum\": 3.0, \"min\": 3}}, \"EndTime\": 1565532598.158129, \"Dimensions\": {\"Host\": \"algo-1\", \"Meta\": \"training_data_iter\", \"Operation\": \"training\", \"Algorithm\": \"Linear Learner\", \"epoch\": 0}, \"StartTime\": 1565532597.111236}\n",
      "\u001b[0m\n",
      "\u001b[31m[08/11/2019 14:09:58 INFO 140680134403904] #throughput_metric: host=algo-1, train throughput=30774.799326 records/second\u001b[0m\n"
     ]
    },
    {
     "name": "stdout",
     "output_type": "stream",
     "text": [
      "\n",
      "2019-08-11 14:10:10 Uploading - Uploading generated training model\u001b[31m[2019-08-11 14:09:59.140] [tensorio] [info] epoch_stats={\"data_pipeline\": \"/opt/ml/input/data/train\", \"epoch\": 5, \"duration\": 981, \"num_examples\": 33, \"num_bytes\": 3479868}\u001b[0m\n",
      "\u001b[31m#metrics {\"Metrics\": {\"train_binary_classification_weighted_cross_entropy_objective\": {\"count\": 1, \"max\": 1.3504363155364991, \"sum\": 1.3504363155364991, \"min\": 1.3504363155364991}}, \"EndTime\": 1565532599.140477, \"Dimensions\": {\"model\": 0, \"Host\": \"algo-1\", \"Operation\": \"training\", \"Algorithm\": \"Linear Learner\", \"epoch\": 1}, \"StartTime\": 1565532599.140386}\n",
      "\u001b[0m\n",
      "\u001b[31m#metrics {\"Metrics\": {\"train_binary_classification_weighted_cross_entropy_objective\": {\"count\": 1, \"max\": 1.3516312503814698, \"sum\": 1.3516312503814698, \"min\": 1.3516312503814698}}, \"EndTime\": 1565532599.140568, \"Dimensions\": {\"model\": 1, \"Host\": \"algo-1\", \"Operation\": \"training\", \"Algorithm\": \"Linear Learner\", \"epoch\": 1}, \"StartTime\": 1565532599.140547}\n",
      "\u001b[0m\n",
      "\u001b[31m#metrics {\"Metrics\": {\"train_binary_classification_weighted_cross_entropy_objective\": {\"count\": 1, \"max\": 1.3551988792419434, \"sum\": 1.3551988792419434, \"min\": 1.3551988792419434}}, \"EndTime\": 1565532599.14064, \"Dimensions\": {\"model\": 2, \"Host\": \"algo-1\", \"Operation\": \"training\", \"Algorithm\": \"Linear Learner\", \"epoch\": 1}, \"StartTime\": 1565532599.140621}\n",
      "\u001b[0m\n",
      "\u001b[31m#metrics {\"Metrics\": {\"train_binary_classification_weighted_cross_entropy_objective\": {\"count\": 1, \"max\": 1.3518491916656494, \"sum\": 1.3518491916656494, \"min\": 1.3518491916656494}}, \"EndTime\": 1565532599.140712, \"Dimensions\": {\"model\": 3, \"Host\": \"algo-1\", \"Operation\": \"training\", \"Algorithm\": \"Linear Learner\", \"epoch\": 1}, \"StartTime\": 1565532599.140693}\n",
      "\u001b[0m\n",
      "\u001b[31m#metrics {\"Metrics\": {\"train_binary_classification_weighted_cross_entropy_objective\": {\"count\": 1, \"max\": 1.405234146118164, \"sum\": 1.405234146118164, \"min\": 1.405234146118164}}, \"EndTime\": 1565532599.140785, \"Dimensions\": {\"model\": 4, \"Host\": \"algo-1\", \"Operation\": \"training\", \"Algorithm\": \"Linear Learner\", \"epoch\": 1}, \"StartTime\": 1565532599.140766}\n",
      "\u001b[0m\n",
      "\u001b[31m#metrics {\"Metrics\": {\"train_binary_classification_weighted_cross_entropy_objective\": {\"count\": 1, \"max\": 1.408114143371582, \"sum\": 1.408114143371582, \"min\": 1.408114143371582}}, \"EndTime\": 1565532599.140857, \"Dimensions\": {\"model\": 5, \"Host\": \"algo-1\", \"Operation\": \"training\", \"Algorithm\": \"Linear Learner\", \"epoch\": 1}, \"StartTime\": 1565532599.140838}\n",
      "\u001b[0m\n",
      "\u001b[31m#metrics {\"Metrics\": {\"train_binary_classification_weighted_cross_entropy_objective\": {\"count\": 1, \"max\": 1.4048998374938966, \"sum\": 1.4048998374938966, \"min\": 1.4048998374938966}}, \"EndTime\": 1565532599.140926, \"Dimensions\": {\"model\": 6, \"Host\": \"algo-1\", \"Operation\": \"training\", \"Algorithm\": \"Linear Learner\", \"epoch\": 1}, \"StartTime\": 1565532599.140908}\n",
      "\u001b[0m\n",
      "\u001b[31m#metrics {\"Metrics\": {\"train_binary_classification_weighted_cross_entropy_objective\": {\"count\": 1, \"max\": 1.4085086402893066, \"sum\": 1.4085086402893066, \"min\": 1.4085086402893066}}, \"EndTime\": 1565532599.140996, \"Dimensions\": {\"model\": 7, \"Host\": \"algo-1\", \"Operation\": \"training\", \"Algorithm\": \"Linear Learner\", \"epoch\": 1}, \"StartTime\": 1565532599.140977}\n",
      "\u001b[0m\n",
      "\u001b[31m#metrics {\"Metrics\": {\"train_binary_classification_weighted_cross_entropy_objective\": {\"count\": 1, \"max\": 1.3587379493713378, \"sum\": 1.3587379493713378, \"min\": 1.3587379493713378}}, \"EndTime\": 1565532599.141052, \"Dimensions\": {\"model\": 8, \"Host\": \"algo-1\", \"Operation\": \"training\", \"Algorithm\": \"Linear Learner\", \"epoch\": 1}, \"StartTime\": 1565532599.141036}\n",
      "\u001b[0m\n",
      "\u001b[31m#metrics {\"Metrics\": {\"train_binary_classification_weighted_cross_entropy_objective\": {\"count\": 1, \"max\": 1.3528842582702636, \"sum\": 1.3528842582702636, \"min\": 1.3528842582702636}}, \"EndTime\": 1565532599.141106, \"Dimensions\": {\"model\": 9, \"Host\": \"algo-1\", \"Operation\": \"training\", \"Algorithm\": \"Linear Learner\", \"epoch\": 1}, \"StartTime\": 1565532599.141091}\n",
      "\u001b[0m\n",
      "\u001b[31m#metrics {\"Metrics\": {\"train_binary_classification_weighted_cross_entropy_objective\": {\"count\": 1, \"max\": 1.3522067146301269, \"sum\": 1.3522067146301269, \"min\": 1.3522067146301269}}, \"EndTime\": 1565532599.141174, \"Dimensions\": {\"model\": 10, \"Host\": \"algo-1\", \"Operation\": \"training\", \"Algorithm\": \"Linear Learner\", \"epoch\": 1}, \"StartTime\": 1565532599.141158}\n",
      "\u001b[0m\n",
      "\u001b[31m#metrics {\"Metrics\": {\"train_binary_classification_weighted_cross_entropy_objective\": {\"count\": 1, \"max\": 1.3489259986877442, \"sum\": 1.3489259986877442, \"min\": 1.3489259986877442}}, \"EndTime\": 1565532599.141232, \"Dimensions\": {\"model\": 11, \"Host\": \"algo-1\", \"Operation\": \"training\", \"Algorithm\": \"Linear Learner\", \"epoch\": 1}, \"StartTime\": 1565532599.141215}\n",
      "\u001b[0m\n",
      "\u001b[31m#metrics {\"Metrics\": {\"train_binary_classification_weighted_cross_entropy_objective\": {\"count\": 1, \"max\": 1.4040508441925048, \"sum\": 1.4040508441925048, \"min\": 1.4040508441925048}}, \"EndTime\": 1565532599.14129, \"Dimensions\": {\"model\": 12, \"Host\": \"algo-1\", \"Operation\": \"training\", \"Algorithm\": \"Linear Learner\", \"epoch\": 1}, \"StartTime\": 1565532599.141274}\n",
      "\u001b[0m\n",
      "\u001b[31m#metrics {\"Metrics\": {\"train_binary_classification_weighted_cross_entropy_objective\": {\"count\": 1, \"max\": 1.4055445289611816, \"sum\": 1.4055445289611816, \"min\": 1.4055445289611816}}, \"EndTime\": 1565532599.141347, \"Dimensions\": {\"model\": 13, \"Host\": \"algo-1\", \"Operation\": \"training\", \"Algorithm\": \"Linear Learner\", \"epoch\": 1}, \"StartTime\": 1565532599.141331}\n",
      "\u001b[0m\n",
      "\u001b[31m#metrics {\"Metrics\": {\"train_binary_classification_weighted_cross_entropy_objective\": {\"count\": 1, \"max\": 1.4033106842041017, \"sum\": 1.4033106842041017, \"min\": 1.4033106842041017}}, \"EndTime\": 1565532599.141414, \"Dimensions\": {\"model\": 14, \"Host\": \"algo-1\", \"Operation\": \"training\", \"Algorithm\": \"Linear Learner\", \"epoch\": 1}, \"StartTime\": 1565532599.141396}\n",
      "\u001b[0m\n",
      "\u001b[31m#metrics {\"Metrics\": {\"train_binary_classification_weighted_cross_entropy_objective\": {\"count\": 1, \"max\": 1.409089988708496, \"sum\": 1.409089988708496, \"min\": 1.409089988708496}}, \"EndTime\": 1565532599.141472, \"Dimensions\": {\"model\": 15, \"Host\": \"algo-1\", \"Operation\": \"training\", \"Algorithm\": \"Linear Learner\", \"epoch\": 1}, \"StartTime\": 1565532599.141455}\n",
      "\u001b[0m\n",
      "\u001b[31m#metrics {\"Metrics\": {\"train_binary_classification_weighted_cross_entropy_objective\": {\"count\": 1, \"max\": 1.3661895027160644, \"sum\": 1.3661895027160644, \"min\": 1.3661895027160644}}, \"EndTime\": 1565532599.141538, \"Dimensions\": {\"model\": 16, \"Host\": \"algo-1\", \"Operation\": \"training\", \"Algorithm\": \"Linear Learner\", \"epoch\": 1}, \"StartTime\": 1565532599.141521}\n",
      "\u001b[0m\n",
      "\u001b[31m#metrics {\"Metrics\": {\"train_binary_classification_weighted_cross_entropy_objective\": {\"count\": 1, \"max\": 1.3673715896606444, \"sum\": 1.3673715896606444, \"min\": 1.3673715896606444}}, \"EndTime\": 1565532599.141606, \"Dimensions\": {\"model\": 17, \"Host\": \"algo-1\", \"Operation\": \"training\", \"Algorithm\": \"Linear Learner\", \"epoch\": 1}, \"StartTime\": 1565532599.141588}\n",
      "\u001b[0m\n",
      "\u001b[31m#metrics {\"Metrics\": {\"train_binary_classification_weighted_cross_entropy_objective\": {\"count\": 1, \"max\": 1.3668739414215088, \"sum\": 1.3668739414215088, \"min\": 1.3668739414215088}}, \"EndTime\": 1565532599.141666, \"Dimensions\": {\"model\": 18, \"Host\": \"algo-1\", \"Operation\": \"training\", \"Algorithm\": \"Linear Learner\", \"epoch\": 1}, \"StartTime\": 1565532599.141649}\n",
      "\u001b[0m\n",
      "\u001b[31m#metrics {\"Metrics\": {\"train_binary_classification_weighted_cross_entropy_objective\": {\"count\": 1, \"max\": 1.3680439338684083, \"sum\": 1.3680439338684083, \"min\": 1.3680439338684083}}, \"EndTime\": 1565532599.141726, \"Dimensions\": {\"model\": 19, \"Host\": \"algo-1\", \"Operation\": \"training\", \"Algorithm\": \"Linear Learner\", \"epoch\": 1}, \"StartTime\": 1565532599.141709}\n",
      "\u001b[0m\n",
      "\u001b[31m#metrics {\"Metrics\": {\"train_binary_classification_weighted_cross_entropy_objective\": {\"count\": 1, \"max\": 1.402431692123413, \"sum\": 1.402431692123413, \"min\": 1.402431692123413}}, \"EndTime\": 1565532599.141763, \"Dimensions\": {\"model\": 20, \"Host\": \"algo-1\", \"Operation\": \"training\", \"Algorithm\": \"Linear Learner\", \"epoch\": 1}, \"StartTime\": 1565532599.141754}\n",
      "\u001b[0m\n",
      "\u001b[31m#metrics {\"Metrics\": {\"train_binary_classification_weighted_cross_entropy_objective\": {\"count\": 1, \"max\": 1.408172618865967, \"sum\": 1.408172618865967, \"min\": 1.408172618865967}}, \"EndTime\": 1565532599.141791, \"Dimensions\": {\"model\": 21, \"Host\": \"algo-1\", \"Operation\": \"training\", \"Algorithm\": \"Linear Learner\", \"epoch\": 1}, \"StartTime\": 1565532599.141783}\n",
      "\u001b[0m\n",
      "\u001b[31m#metrics {\"Metrics\": {\"train_binary_classification_weighted_cross_entropy_objective\": {\"count\": 1, \"max\": 1.4046903572082519, \"sum\": 1.4046903572082519, \"min\": 1.4046903572082519}}, \"EndTime\": 1565532599.141851, \"Dimensions\": {\"model\": 22, \"Host\": \"algo-1\", \"Operation\": \"training\", \"Algorithm\": \"Linear Learner\", \"epoch\": 1}, \"StartTime\": 1565532599.141834}\n",
      "\u001b[0m\n",
      "\u001b[31m#metrics {\"Metrics\": {\"train_binary_classification_weighted_cross_entropy_objective\": {\"count\": 1, \"max\": 1.4052153205871583, \"sum\": 1.4052153205871583, \"min\": 1.4052153205871583}}, \"EndTime\": 1565532599.141916, \"Dimensions\": {\"model\": 23, \"Host\": \"algo-1\", \"Operation\": \"training\", \"Algorithm\": \"Linear Learner\", \"epoch\": 1}, \"StartTime\": 1565532599.141898}\n",
      "\u001b[0m\n",
      "\u001b[31m#metrics {\"Metrics\": {\"train_binary_classification_weighted_cross_entropy_objective\": {\"count\": 1, \"max\": 1.4003308906555176, \"sum\": 1.4003308906555176, \"min\": 1.4003308906555176}}, \"EndTime\": 1565532599.141985, \"Dimensions\": {\"model\": 24, \"Host\": \"algo-1\", \"Operation\": \"training\", \"Algorithm\": \"Linear Learner\", \"epoch\": 1}, \"StartTime\": 1565532599.141968}\n",
      "\u001b[0m\n",
      "\u001b[31m#metrics {\"Metrics\": {\"train_binary_classification_weighted_cross_entropy_objective\": {\"count\": 1, \"max\": 1.4004533042907714, \"sum\": 1.4004533042907714, \"min\": 1.4004533042907714}}, \"EndTime\": 1565532599.142046, \"Dimensions\": {\"model\": 25, \"Host\": \"algo-1\", \"Operation\": \"training\", \"Algorithm\": \"Linear Learner\", \"epoch\": 1}, \"StartTime\": 1565532599.142031}\n",
      "\u001b[0m\n",
      "\u001b[31m#metrics {\"Metrics\": {\"train_binary_classification_weighted_cross_entropy_objective\": {\"count\": 1, \"max\": 1.4002373695373536, \"sum\": 1.4002373695373536, \"min\": 1.4002373695373536}}, \"EndTime\": 1565532599.142104, \"Dimensions\": {\"model\": 26, \"Host\": \"algo-1\", \"Operation\": \"training\", \"Algorithm\": \"Linear Learner\", \"epoch\": 1}, \"StartTime\": 1565532599.142087}\n",
      "\u001b[0m\n",
      "\u001b[31m#metrics {\"Metrics\": {\"train_binary_classification_weighted_cross_entropy_objective\": {\"count\": 1, \"max\": 1.400426456451416, \"sum\": 1.400426456451416, \"min\": 1.400426456451416}}, \"EndTime\": 1565532599.142155, \"Dimensions\": {\"model\": 27, \"Host\": \"algo-1\", \"Operation\": \"training\", \"Algorithm\": \"Linear Learner\", \"epoch\": 1}, \"StartTime\": 1565532599.14214}\n",
      "\u001b[0m\n",
      "\u001b[31m#metrics {\"Metrics\": {\"train_binary_classification_weighted_cross_entropy_objective\": {\"count\": 1, \"max\": 1.4130982055664063, \"sum\": 1.4130982055664063, \"min\": 1.4130982055664063}}, \"EndTime\": 1565532599.14222, \"Dimensions\": {\"model\": 28, \"Host\": \"algo-1\", \"Operation\": \"training\", \"Algorithm\": \"Linear Learner\", \"epoch\": 1}, \"StartTime\": 1565532599.142202}\n",
      "\u001b[0m\n",
      "\u001b[31m#metrics {\"Metrics\": {\"train_binary_classification_weighted_cross_entropy_objective\": {\"count\": 1, \"max\": 1.4146789093017578, \"sum\": 1.4146789093017578, \"min\": 1.4146789093017578}}, \"EndTime\": 1565532599.14228, \"Dimensions\": {\"model\": 29, \"Host\": \"algo-1\", \"Operation\": \"training\", \"Algorithm\": \"Linear Learner\", \"epoch\": 1}, \"StartTime\": 1565532599.142264}\n",
      "\u001b[0m\n",
      "\u001b[31m#metrics {\"Metrics\": {\"train_binary_classification_weighted_cross_entropy_objective\": {\"count\": 1, \"max\": 1.4141575756072997, \"sum\": 1.4141575756072997, \"min\": 1.4141575756072997}}, \"EndTime\": 1565532599.142337, \"Dimensions\": {\"model\": 30, \"Host\": \"algo-1\", \"Operation\": \"training\", \"Algorithm\": \"Linear Learner\", \"epoch\": 1}, \"StartTime\": 1565532599.142321}\n",
      "\u001b[0m\n",
      "\u001b[31m#metrics {\"Metrics\": {\"train_binary_classification_weighted_cross_entropy_objective\": {\"count\": 1, \"max\": 1.4151210136413575, \"sum\": 1.4151210136413575, \"min\": 1.4151210136413575}}, \"EndTime\": 1565532599.142376, \"Dimensions\": {\"model\": 31, \"Host\": \"algo-1\", \"Operation\": \"training\", \"Algorithm\": \"Linear Learner\", \"epoch\": 1}, \"StartTime\": 1565532599.142363}\n",
      "\u001b[0m\n",
      "\u001b[31m[08/11/2019 14:09:59 INFO 140680134403904] #quality_metric: host=algo-1, epoch=1, train binary_classification_weighted_cross_entropy_objective <loss>=1.35043631554\u001b[0m\n",
      "\u001b[31m[08/11/2019 14:09:59 INFO 140680134403904] #early_stopping_criteria_metric: host=algo-1, epoch=1, criteria=binary_classification_weighted_cross_entropy_objective, value=1.34892599869\u001b[0m\n",
      "\u001b[31m[08/11/2019 14:09:59 INFO 140680134403904] Epoch 1: Loss improved. Updating best model\u001b[0m\n",
      "\u001b[31m[08/11/2019 14:09:59 INFO 140680134403904] #progress_metric: host=algo-1, completed 10 % of epochs\u001b[0m\n",
      "\u001b[31m#metrics {\"Metrics\": {\"Max Batches Seen Between Resets\": {\"count\": 1, \"max\": 33, \"sum\": 33.0, \"min\": 33}, \"Number of Batches Since Last Reset\": {\"count\": 1, \"max\": 33, \"sum\": 33.0, \"min\": 33}, \"Number of Records Since Last Reset\": {\"count\": 1, \"max\": 32221, \"sum\": 32221.0, \"min\": 32221}, \"Total Batches Seen\": {\"count\": 1, \"max\": 78, \"sum\": 78.0, \"min\": 78}, \"Total Records Seen\": {\"count\": 1, \"max\": 76442, \"sum\": 76442.0, \"min\": 76442}, \"Max Records Seen Between Resets\": {\"count\": 1, \"max\": 32221, \"sum\": 32221.0, \"min\": 32221}, \"Reset Count\": {\"count\": 1, \"max\": 4, \"sum\": 4.0, \"min\": 4}}, \"EndTime\": 1565532599.144911, \"Dimensions\": {\"Host\": \"algo-1\", \"Meta\": \"training_data_iter\", \"Operation\": \"training\", \"Algorithm\": \"Linear Learner\", \"epoch\": 1}, \"StartTime\": 1565532598.158544}\n",
      "\u001b[0m\n",
      "\u001b[31m[08/11/2019 14:09:59 INFO 140680134403904] #throughput_metric: host=algo-1, train throughput=32662.5668314 records/second\u001b[0m\n",
      "\u001b[31m[2019-08-11 14:10:00.178] [tensorio] [info] epoch_stats={\"data_pipeline\": \"/opt/ml/input/data/train\", \"epoch\": 7, \"duration\": 1033, \"num_examples\": 33, \"num_bytes\": 3479868}\u001b[0m\n",
      "\u001b[31m#metrics {\"Metrics\": {\"train_binary_classification_weighted_cross_entropy_objective\": {\"count\": 1, \"max\": 1.3398580265045166, \"sum\": 1.3398580265045166, \"min\": 1.3398580265045166}}, \"EndTime\": 1565532600.178559, \"Dimensions\": {\"model\": 0, \"Host\": \"algo-1\", \"Operation\": \"training\", \"Algorithm\": \"Linear Learner\", \"epoch\": 2}, \"StartTime\": 1565532600.178476}\n",
      "\u001b[0m\n",
      "\u001b[31m#metrics {\"Metrics\": {\"train_binary_classification_weighted_cross_entropy_objective\": {\"count\": 1, \"max\": 1.3400445880889893, \"sum\": 1.3400445880889893, \"min\": 1.3400445880889893}}, \"EndTime\": 1565532600.178639, \"Dimensions\": {\"model\": 1, \"Host\": \"algo-1\", \"Operation\": \"training\", \"Algorithm\": \"Linear Learner\", \"epoch\": 2}, \"StartTime\": 1565532600.178625}\n",
      "\u001b[0m\n",
      "\u001b[31m#metrics {\"Metrics\": {\"train_binary_classification_weighted_cross_entropy_objective\": {\"count\": 1, \"max\": 1.341452075958252, \"sum\": 1.341452075958252, \"min\": 1.341452075958252}}, \"EndTime\": 1565532600.178685, \"Dimensions\": {\"model\": 2, \"Host\": \"algo-1\", \"Operation\": \"training\", \"Algorithm\": \"Linear Learner\", \"epoch\": 2}, \"StartTime\": 1565532600.178674}\n",
      "\u001b[0m\n",
      "\u001b[31m#metrics {\"Metrics\": {\"train_binary_classification_weighted_cross_entropy_objective\": {\"count\": 1, \"max\": 1.3403615798950195, \"sum\": 1.3403615798950195, \"min\": 1.3403615798950195}}, \"EndTime\": 1565532600.178726, \"Dimensions\": {\"model\": 3, \"Host\": \"algo-1\", \"Operation\": \"training\", \"Algorithm\": \"Linear Learner\", \"epoch\": 2}, \"StartTime\": 1565532600.178716}\n",
      "\u001b[0m\n",
      "\u001b[31m#metrics {\"Metrics\": {\"train_binary_classification_weighted_cross_entropy_objective\": {\"count\": 1, \"max\": 1.3975003585815429, \"sum\": 1.3975003585815429, \"min\": 1.3975003585815429}}, \"EndTime\": 1565532600.178766, \"Dimensions\": {\"model\": 4, \"Host\": \"algo-1\", \"Operation\": \"training\", \"Algorithm\": \"Linear Learner\", \"epoch\": 2}, \"StartTime\": 1565532600.178756}\n",
      "\u001b[0m\n",
      "\u001b[31m#metrics {\"Metrics\": {\"train_binary_classification_weighted_cross_entropy_objective\": {\"count\": 1, \"max\": 1.4025035648345947, \"sum\": 1.4025035648345947, \"min\": 1.4025035648345947}}, \"EndTime\": 1565532600.178804, \"Dimensions\": {\"model\": 5, \"Host\": \"algo-1\", \"Operation\": \"training\", \"Algorithm\": \"Linear Learner\", \"epoch\": 2}, \"StartTime\": 1565532600.178794}\n",
      "\u001b[0m\n",
      "\u001b[31m#metrics {\"Metrics\": {\"train_binary_classification_weighted_cross_entropy_objective\": {\"count\": 1, \"max\": 1.397210018157959, \"sum\": 1.397210018157959, \"min\": 1.397210018157959}}, \"EndTime\": 1565532600.178842, \"Dimensions\": {\"model\": 6, \"Host\": \"algo-1\", \"Operation\": \"training\", \"Algorithm\": \"Linear Learner\", \"epoch\": 2}, \"StartTime\": 1565532600.178832}\n",
      "\u001b[0m\n",
      "\u001b[31m#metrics {\"Metrics\": {\"train_binary_classification_weighted_cross_entropy_objective\": {\"count\": 1, \"max\": 1.4028059730529785, \"sum\": 1.4028059730529785, \"min\": 1.4028059730529785}}, \"EndTime\": 1565532600.17888, \"Dimensions\": {\"model\": 7, \"Host\": \"algo-1\", \"Operation\": \"training\", \"Algorithm\": \"Linear Learner\", \"epoch\": 2}, \"StartTime\": 1565532600.17887}\n",
      "\u001b[0m\n",
      "\u001b[31m#metrics {\"Metrics\": {\"train_binary_classification_weighted_cross_entropy_objective\": {\"count\": 1, \"max\": 1.3439744663238526, \"sum\": 1.3439744663238526, \"min\": 1.3439744663238526}}, \"EndTime\": 1565532600.178918, \"Dimensions\": {\"model\": 8, \"Host\": \"algo-1\", \"Operation\": \"training\", \"Algorithm\": \"Linear Learner\", \"epoch\": 2}, \"StartTime\": 1565532600.178908}\n",
      "\u001b[0m\n",
      "\u001b[31m#metrics {\"Metrics\": {\"train_binary_classification_weighted_cross_entropy_objective\": {\"count\": 1, \"max\": 1.3400561313629151, \"sum\": 1.3400561313629151, \"min\": 1.3400561313629151}}, \"EndTime\": 1565532600.178959, \"Dimensions\": {\"model\": 9, \"Host\": \"algo-1\", \"Operation\": \"training\", \"Algorithm\": \"Linear Learner\", \"epoch\": 2}, \"StartTime\": 1565532600.178949}\n",
      "\u001b[0m\n",
      "\u001b[31m#metrics {\"Metrics\": {\"train_binary_classification_weighted_cross_entropy_objective\": {\"count\": 1, \"max\": 1.3409926795959473, \"sum\": 1.3409926795959473, \"min\": 1.3409926795959473}}, \"EndTime\": 1565532600.179, \"Dimensions\": {\"model\": 10, \"Host\": \"algo-1\", \"Operation\": \"training\", \"Algorithm\": \"Linear Learner\", \"epoch\": 2}, \"StartTime\": 1565532600.17899}\n",
      "\u001b[0m\n",
      "\u001b[31m#metrics {\"Metrics\": {\"train_binary_classification_weighted_cross_entropy_objective\": {\"count\": 1, \"max\": 1.339073875427246, \"sum\": 1.339073875427246, \"min\": 1.339073875427246}}, \"EndTime\": 1565532600.179039, \"Dimensions\": {\"model\": 11, \"Host\": \"algo-1\", \"Operation\": \"training\", \"Algorithm\": \"Linear Learner\", \"epoch\": 2}, \"StartTime\": 1565532600.179029}\n",
      "\u001b[0m\n",
      "\u001b[31m#metrics {\"Metrics\": {\"train_binary_classification_weighted_cross_entropy_objective\": {\"count\": 1, \"max\": 1.3965646095275879, \"sum\": 1.3965646095275879, \"min\": 1.3965646095275879}}, \"EndTime\": 1565532600.179079, \"Dimensions\": {\"model\": 12, \"Host\": \"algo-1\", \"Operation\": \"training\", \"Algorithm\": \"Linear Learner\", \"epoch\": 2}, \"StartTime\": 1565532600.179069}\n",
      "\u001b[0m\n",
      "\u001b[31m#metrics {\"Metrics\": {\"train_binary_classification_weighted_cross_entropy_objective\": {\"count\": 1, \"max\": 1.4020450916290284, \"sum\": 1.4020450916290284, \"min\": 1.4020450916290284}}, \"EndTime\": 1565532600.179119, \"Dimensions\": {\"model\": 13, \"Host\": \"algo-1\", \"Operation\": \"training\", \"Algorithm\": \"Linear Learner\", \"epoch\": 2}, \"StartTime\": 1565532600.179109}\n",
      "\u001b[0m\n",
      "\u001b[31m#metrics {\"Metrics\": {\"train_binary_classification_weighted_cross_entropy_objective\": {\"count\": 1, \"max\": 1.397294277191162, \"sum\": 1.397294277191162, \"min\": 1.397294277191162}}, \"EndTime\": 1565532600.179159, \"Dimensions\": {\"model\": 14, \"Host\": \"algo-1\", \"Operation\": \"training\", \"Algorithm\": \"Linear Learner\", \"epoch\": 2}, \"StartTime\": 1565532600.179149}\n",
      "\u001b[0m\n",
      "\u001b[31m#metrics {\"Metrics\": {\"train_binary_classification_weighted_cross_entropy_objective\": {\"count\": 1, \"max\": 1.4019599170684816, \"sum\": 1.4019599170684816, \"min\": 1.4019599170684816}}, \"EndTime\": 1565532600.179196, \"Dimensions\": {\"model\": 15, \"Host\": \"algo-1\", \"Operation\": \"training\", \"Algorithm\": \"Linear Learner\", \"epoch\": 2}, \"StartTime\": 1565532600.179187}\n",
      "\u001b[0m\n",
      "\u001b[31m#metrics {\"Metrics\": {\"train_binary_classification_weighted_cross_entropy_objective\": {\"count\": 1, \"max\": 1.365062614440918, \"sum\": 1.365062614440918, \"min\": 1.365062614440918}}, \"EndTime\": 1565532600.179234, \"Dimensions\": {\"model\": 16, \"Host\": \"algo-1\", \"Operation\": \"training\", \"Algorithm\": \"Linear Learner\", \"epoch\": 2}, \"StartTime\": 1565532600.179224}\n",
      "\u001b[0m\n",
      "\u001b[31m#metrics {\"Metrics\": {\"train_binary_classification_weighted_cross_entropy_objective\": {\"count\": 1, \"max\": 1.365339849472046, \"sum\": 1.365339849472046, \"min\": 1.365339849472046}}, \"EndTime\": 1565532600.179283, \"Dimensions\": {\"model\": 17, \"Host\": \"algo-1\", \"Operation\": \"training\", \"Algorithm\": \"Linear Learner\", \"epoch\": 2}, \"StartTime\": 1565532600.179273}\n",
      "\u001b[0m\n",
      "\u001b[31m#metrics {\"Metrics\": {\"train_binary_classification_weighted_cross_entropy_objective\": {\"count\": 1, \"max\": 1.3649944705963135, \"sum\": 1.3649944705963135, \"min\": 1.3649944705963135}}, \"EndTime\": 1565532600.179319, \"Dimensions\": {\"model\": 18, \"Host\": \"algo-1\", \"Operation\": \"training\", \"Algorithm\": \"Linear Learner\", \"epoch\": 2}, \"StartTime\": 1565532600.17931}\n",
      "\u001b[0m\n",
      "\u001b[31m#metrics {\"Metrics\": {\"train_binary_classification_weighted_cross_entropy_objective\": {\"count\": 1, \"max\": 1.365298641204834, \"sum\": 1.365298641204834, \"min\": 1.365298641204834}}, \"EndTime\": 1565532600.179356, \"Dimensions\": {\"model\": 19, \"Host\": \"algo-1\", \"Operation\": \"training\", \"Algorithm\": \"Linear Learner\", \"epoch\": 2}, \"StartTime\": 1565532600.179346}\n",
      "\u001b[0m\n",
      "\u001b[31m#metrics {\"Metrics\": {\"train_binary_classification_weighted_cross_entropy_objective\": {\"count\": 1, \"max\": 1.3957468872070313, \"sum\": 1.3957468872070313, \"min\": 1.3957468872070313}}, \"EndTime\": 1565532600.179392, \"Dimensions\": {\"model\": 20, \"Host\": \"algo-1\", \"Operation\": \"training\", \"Algorithm\": \"Linear Learner\", \"epoch\": 2}, \"StartTime\": 1565532600.179383}\n",
      "\u001b[0m\n",
      "\u001b[31m#metrics {\"Metrics\": {\"train_binary_classification_weighted_cross_entropy_objective\": {\"count\": 1, \"max\": 1.400486280441284, \"sum\": 1.400486280441284, \"min\": 1.400486280441284}}, \"EndTime\": 1565532600.179429, \"Dimensions\": {\"model\": 21, \"Host\": \"algo-1\", \"Operation\": \"training\", \"Algorithm\": \"Linear Learner\", \"epoch\": 2}, \"StartTime\": 1565532600.179419}\n",
      "\u001b[0m\n",
      "\u001b[31m#metrics {\"Metrics\": {\"train_binary_classification_weighted_cross_entropy_objective\": {\"count\": 1, \"max\": 1.3956388149261474, \"sum\": 1.3956388149261474, \"min\": 1.3956388149261474}}, \"EndTime\": 1565532600.179465, \"Dimensions\": {\"model\": 22, \"Host\": \"algo-1\", \"Operation\": \"training\", \"Algorithm\": \"Linear Learner\", \"epoch\": 2}, \"StartTime\": 1565532600.179455}\n",
      "\u001b[0m\n",
      "\u001b[31m#metrics {\"Metrics\": {\"train_binary_classification_weighted_cross_entropy_objective\": {\"count\": 1, \"max\": 1.4004702529907227, \"sum\": 1.4004702529907227, \"min\": 1.4004702529907227}}, \"EndTime\": 1565532600.179501, \"Dimensions\": {\"model\": 23, \"Host\": \"algo-1\", \"Operation\": \"training\", \"Algorithm\": \"Linear Learner\", \"epoch\": 2}, \"StartTime\": 1565532600.179492}\n",
      "\u001b[0m\n",
      "\u001b[31m#metrics {\"Metrics\": {\"train_binary_classification_weighted_cross_entropy_objective\": {\"count\": 1, \"max\": 1.399863826751709, \"sum\": 1.399863826751709, \"min\": 1.399863826751709}}, \"EndTime\": 1565532600.179538, \"Dimensions\": {\"model\": 24, \"Host\": \"algo-1\", \"Operation\": \"training\", \"Algorithm\": \"Linear Learner\", \"epoch\": 2}, \"StartTime\": 1565532600.179528}\n",
      "\u001b[0m\n",
      "\u001b[31m#metrics {\"Metrics\": {\"train_binary_classification_weighted_cross_entropy_objective\": {\"count\": 1, \"max\": 1.4000173835754395, \"sum\": 1.4000173835754395, \"min\": 1.4000173835754395}}, \"EndTime\": 1565532600.179574, \"Dimensions\": {\"model\": 25, \"Host\": \"algo-1\", \"Operation\": \"training\", \"Algorithm\": \"Linear Learner\", \"epoch\": 2}, \"StartTime\": 1565532600.179565}\n",
      "\u001b[0m\n",
      "\u001b[31m#metrics {\"Metrics\": {\"train_binary_classification_weighted_cross_entropy_objective\": {\"count\": 1, \"max\": 1.3996892051696777, \"sum\": 1.3996892051696777, \"min\": 1.3996892051696777}}, \"EndTime\": 1565532600.179612, \"Dimensions\": {\"model\": 26, \"Host\": \"algo-1\", \"Operation\": \"training\", \"Algorithm\": \"Linear Learner\", \"epoch\": 2}, \"StartTime\": 1565532600.179601}\n",
      "\u001b[0m\n",
      "\u001b[31m#metrics {\"Metrics\": {\"train_binary_classification_weighted_cross_entropy_objective\": {\"count\": 1, \"max\": 1.3999882545471192, \"sum\": 1.3999882545471192, \"min\": 1.3999882545471192}}, \"EndTime\": 1565532600.179649, \"Dimensions\": {\"model\": 27, \"Host\": \"algo-1\", \"Operation\": \"training\", \"Algorithm\": \"Linear Learner\", \"epoch\": 2}, \"StartTime\": 1565532600.179639}\n",
      "\u001b[0m\n",
      "\u001b[31m#metrics {\"Metrics\": {\"train_binary_classification_weighted_cross_entropy_objective\": {\"count\": 1, \"max\": 1.409156650543213, \"sum\": 1.409156650543213, \"min\": 1.409156650543213}}, \"EndTime\": 1565532600.179685, \"Dimensions\": {\"model\": 28, \"Host\": \"algo-1\", \"Operation\": \"training\", \"Algorithm\": \"Linear Learner\", \"epoch\": 2}, \"StartTime\": 1565532600.179676}\n",
      "\u001b[0m\n",
      "\u001b[31m#metrics {\"Metrics\": {\"train_binary_classification_weighted_cross_entropy_objective\": {\"count\": 1, \"max\": 1.410307149887085, \"sum\": 1.410307149887085, \"min\": 1.410307149887085}}, \"EndTime\": 1565532600.179721, \"Dimensions\": {\"model\": 29, \"Host\": \"algo-1\", \"Operation\": \"training\", \"Algorithm\": \"Linear Learner\", \"epoch\": 2}, \"StartTime\": 1565532600.179712}\n",
      "\u001b[0m\n",
      "\u001b[31m#metrics {\"Metrics\": {\"train_binary_classification_weighted_cross_entropy_objective\": {\"count\": 1, \"max\": 1.4091036796569825, \"sum\": 1.4091036796569825, \"min\": 1.4091036796569825}}, \"EndTime\": 1565532600.179757, \"Dimensions\": {\"model\": 30, \"Host\": \"algo-1\", \"Operation\": \"training\", \"Algorithm\": \"Linear Learner\", \"epoch\": 2}, \"StartTime\": 1565532600.179748}\n",
      "\u001b[0m\n",
      "\u001b[31m#metrics {\"Metrics\": {\"train_binary_classification_weighted_cross_entropy_objective\": {\"count\": 1, \"max\": 1.4097650623321534, \"sum\": 1.4097650623321534, \"min\": 1.4097650623321534}}, \"EndTime\": 1565532600.179794, \"Dimensions\": {\"model\": 31, \"Host\": \"algo-1\", \"Operation\": \"training\", \"Algorithm\": \"Linear Learner\", \"epoch\": 2}, \"StartTime\": 1565532600.179784}\n",
      "\u001b[0m\n",
      "\u001b[31m[08/11/2019 14:10:00 INFO 140680134403904] #quality_metric: host=algo-1, epoch=2, train binary_classification_weighted_cross_entropy_objective <loss>=1.3398580265\u001b[0m\n",
      "\u001b[31m[08/11/2019 14:10:00 INFO 140680134403904] #early_stopping_criteria_metric: host=algo-1, epoch=2, criteria=binary_classification_weighted_cross_entropy_objective, value=1.33907387543\u001b[0m\n",
      "\u001b[31m[08/11/2019 14:10:00 INFO 140680134403904] Epoch 2: Loss improved. Updating best model\u001b[0m\n",
      "\u001b[31m[08/11/2019 14:10:00 INFO 140680134403904] #progress_metric: host=algo-1, completed 15 % of epochs\u001b[0m\n",
      "\u001b[31m#metrics {\"Metrics\": {\"Max Batches Seen Between Resets\": {\"count\": 1, \"max\": 33, \"sum\": 33.0, \"min\": 33}, \"Number of Batches Since Last Reset\": {\"count\": 1, \"max\": 33, \"sum\": 33.0, \"min\": 33}, \"Number of Records Since Last Reset\": {\"count\": 1, \"max\": 32221, \"sum\": 32221.0, \"min\": 32221}, \"Total Batches Seen\": {\"count\": 1, \"max\": 111, \"sum\": 111.0, \"min\": 111}, \"Total Records Seen\": {\"count\": 1, \"max\": 108663, \"sum\": 108663.0, \"min\": 108663}, \"Max Records Seen Between Resets\": {\"count\": 1, \"max\": 32221, \"sum\": 32221.0, \"min\": 32221}, \"Reset Count\": {\"count\": 1, \"max\": 5, \"sum\": 5.0, \"min\": 5}}, \"EndTime\": 1565532600.182498, \"Dimensions\": {\"Host\": \"algo-1\", \"Meta\": \"training_data_iter\", \"Operation\": \"training\", \"Algorithm\": \"Linear Learner\", \"epoch\": 2}, \"StartTime\": 1565532599.145304}\n",
      "\u001b[0m\n",
      "\u001b[31m[08/11/2019 14:10:00 INFO 140680134403904] #throughput_metric: host=algo-1, train throughput=31062.4058774 records/second\u001b[0m\n",
      "\u001b[31m[2019-08-11 14:10:01.164] [tensorio] [info] epoch_stats={\"data_pipeline\": \"/opt/ml/input/data/train\", \"epoch\": 9, \"duration\": 981, \"num_examples\": 33, \"num_bytes\": 3479868}\u001b[0m\n",
      "\u001b[31m#metrics {\"Metrics\": {\"train_binary_classification_weighted_cross_entropy_objective\": {\"count\": 1, \"max\": 1.335282428741455, \"sum\": 1.335282428741455, \"min\": 1.335282428741455}}, \"EndTime\": 1565532601.164844, \"Dimensions\": {\"model\": 0, \"Host\": \"algo-1\", \"Operation\": \"training\", \"Algorithm\": \"Linear Learner\", \"epoch\": 3}, \"StartTime\": 1565532601.164758}\n",
      "\u001b[0m\n",
      "\u001b[31m#metrics {\"Metrics\": {\"train_binary_classification_weighted_cross_entropy_objective\": {\"count\": 1, \"max\": 1.3352486248016358, \"sum\": 1.3352486248016358, \"min\": 1.3352486248016358}}, \"EndTime\": 1565532601.164907, \"Dimensions\": {\"model\": 1, \"Host\": \"algo-1\", \"Operation\": \"training\", \"Algorithm\": \"Linear Learner\", \"epoch\": 3}, \"StartTime\": 1565532601.164893}\n",
      "\u001b[0m\n",
      "\u001b[31m#metrics {\"Metrics\": {\"train_binary_classification_weighted_cross_entropy_objective\": {\"count\": 1, \"max\": 1.3357196865081786, \"sum\": 1.3357196865081786, \"min\": 1.3357196865081786}}, \"EndTime\": 1565532601.16497, \"Dimensions\": {\"model\": 2, \"Host\": \"algo-1\", \"Operation\": \"training\", \"Algorithm\": \"Linear Learner\", \"epoch\": 3}, \"StartTime\": 1565532601.164953}\n",
      "\u001b[0m\n",
      "\u001b[31m#metrics {\"Metrics\": {\"train_binary_classification_weighted_cross_entropy_objective\": {\"count\": 1, \"max\": 1.335504114151001, \"sum\": 1.335504114151001, \"min\": 1.335504114151001}}, \"EndTime\": 1565532601.165033, \"Dimensions\": {\"model\": 3, \"Host\": \"algo-1\", \"Operation\": \"training\", \"Algorithm\": \"Linear Learner\", \"epoch\": 3}, \"StartTime\": 1565532601.165015}\n",
      "\u001b[0m\n",
      "\u001b[31m#metrics {\"Metrics\": {\"train_binary_classification_weighted_cross_entropy_objective\": {\"count\": 1, \"max\": 1.3937427558898925, \"sum\": 1.3937427558898925, \"min\": 1.3937427558898925}}, \"EndTime\": 1565532601.165102, \"Dimensions\": {\"model\": 4, \"Host\": \"algo-1\", \"Operation\": \"training\", \"Algorithm\": \"Linear Learner\", \"epoch\": 3}, \"StartTime\": 1565532601.165083}\n",
      "\u001b[0m\n",
      "\u001b[31m#metrics {\"Metrics\": {\"train_binary_classification_weighted_cross_entropy_objective\": {\"count\": 1, \"max\": 1.4016922225952149, \"sum\": 1.4016922225952149, \"min\": 1.4016922225952149}}, \"EndTime\": 1565532601.165167, \"Dimensions\": {\"model\": 5, \"Host\": \"algo-1\", \"Operation\": \"training\", \"Algorithm\": \"Linear Learner\", \"epoch\": 3}, \"StartTime\": 1565532601.165149}\n",
      "\u001b[0m\n",
      "\u001b[31m#metrics {\"Metrics\": {\"train_binary_classification_weighted_cross_entropy_objective\": {\"count\": 1, \"max\": 1.3935936527252197, \"sum\": 1.3935936527252197, \"min\": 1.3935936527252197}}, \"EndTime\": 1565532601.165228, \"Dimensions\": {\"model\": 6, \"Host\": \"algo-1\", \"Operation\": \"training\", \"Algorithm\": \"Linear Learner\", \"epoch\": 3}, \"StartTime\": 1565532601.165211}\n",
      "\u001b[0m\n",
      "\u001b[31m#metrics {\"Metrics\": {\"train_binary_classification_weighted_cross_entropy_objective\": {\"count\": 1, \"max\": 1.4019024276733398, \"sum\": 1.4019024276733398, \"min\": 1.4019024276733398}}, \"EndTime\": 1565532601.165297, \"Dimensions\": {\"model\": 7, \"Host\": \"algo-1\", \"Operation\": \"training\", \"Algorithm\": \"Linear Learner\", \"epoch\": 3}, \"StartTime\": 1565532601.165279}\n",
      "\u001b[0m\n",
      "\u001b[31m#metrics {\"Metrics\": {\"train_binary_classification_weighted_cross_entropy_objective\": {\"count\": 1, \"max\": 1.3375627956390381, \"sum\": 1.3375627956390381, \"min\": 1.3375627956390381}}, \"EndTime\": 1565532601.165359, \"Dimensions\": {\"model\": 8, \"Host\": \"algo-1\", \"Operation\": \"training\", \"Algorithm\": \"Linear Learner\", \"epoch\": 3}, \"StartTime\": 1565532601.165342}\n",
      "\u001b[0m\n",
      "\u001b[31m#metrics {\"Metrics\": {\"train_binary_classification_weighted_cross_entropy_objective\": {\"count\": 1, \"max\": 1.3349353942871094, \"sum\": 1.3349353942871094, \"min\": 1.3349353942871094}}, \"EndTime\": 1565532601.165417, \"Dimensions\": {\"model\": 9, \"Host\": \"algo-1\", \"Operation\": \"training\", \"Algorithm\": \"Linear Learner\", \"epoch\": 3}, \"StartTime\": 1565532601.165401}\n",
      "\u001b[0m\n",
      "\u001b[31m#metrics {\"Metrics\": {\"train_binary_classification_weighted_cross_entropy_objective\": {\"count\": 1, \"max\": 1.336090618133545, \"sum\": 1.336090618133545, \"min\": 1.336090618133545}}, \"EndTime\": 1565532601.165478, \"Dimensions\": {\"model\": 10, \"Host\": \"algo-1\", \"Operation\": \"training\", \"Algorithm\": \"Linear Learner\", \"epoch\": 3}, \"StartTime\": 1565532601.16546}\n",
      "\u001b[0m\n",
      "\u001b[31m#metrics {\"Metrics\": {\"train_binary_classification_weighted_cross_entropy_objective\": {\"count\": 1, \"max\": 1.334867218017578, \"sum\": 1.334867218017578, \"min\": 1.334867218017578}}, \"EndTime\": 1565532601.165535, \"Dimensions\": {\"model\": 11, \"Host\": \"algo-1\", \"Operation\": \"training\", \"Algorithm\": \"Linear Learner\", \"epoch\": 3}, \"StartTime\": 1565532601.165519}\n",
      "\u001b[0m\n",
      "\u001b[31m#metrics {\"Metrics\": {\"train_binary_classification_weighted_cross_entropy_objective\": {\"count\": 1, \"max\": 1.3928211193084716, \"sum\": 1.3928211193084716, \"min\": 1.3928211193084716}}, \"EndTime\": 1565532601.165597, \"Dimensions\": {\"model\": 12, \"Host\": \"algo-1\", \"Operation\": \"training\", \"Algorithm\": \"Linear Learner\", \"epoch\": 3}, \"StartTime\": 1565532601.165584}\n",
      "\u001b[0m\n",
      "\u001b[31m#metrics {\"Metrics\": {\"train_binary_classification_weighted_cross_entropy_objective\": {\"count\": 1, \"max\": 1.4007430839538575, \"sum\": 1.4007430839538575, \"min\": 1.4007430839538575}}, \"EndTime\": 1565532601.16565, \"Dimensions\": {\"model\": 13, \"Host\": \"algo-1\", \"Operation\": \"training\", \"Algorithm\": \"Linear Learner\", \"epoch\": 3}, \"StartTime\": 1565532601.165637}\n",
      "\u001b[0m\n",
      "\u001b[31m#metrics {\"Metrics\": {\"train_binary_classification_weighted_cross_entropy_objective\": {\"count\": 1, \"max\": 1.3929938526153565, \"sum\": 1.3929938526153565, \"min\": 1.3929938526153565}}, \"EndTime\": 1565532601.1657, \"Dimensions\": {\"model\": 14, \"Host\": \"algo-1\", \"Operation\": \"training\", \"Algorithm\": \"Linear Learner\", \"epoch\": 3}, \"StartTime\": 1565532601.165684}\n",
      "\u001b[0m\n",
      "\u001b[31m#metrics {\"Metrics\": {\"train_binary_classification_weighted_cross_entropy_objective\": {\"count\": 1, \"max\": 1.4011506309509278, \"sum\": 1.4011506309509278, \"min\": 1.4011506309509278}}, \"EndTime\": 1565532601.165757, \"Dimensions\": {\"model\": 15, \"Host\": \"algo-1\", \"Operation\": \"training\", \"Algorithm\": \"Linear Learner\", \"epoch\": 3}, \"StartTime\": 1565532601.16574}\n",
      "\u001b[0m\n",
      "\u001b[31m#metrics {\"Metrics\": {\"train_binary_classification_weighted_cross_entropy_objective\": {\"count\": 1, \"max\": 1.3651802730560303, \"sum\": 1.3651802730560303, \"min\": 1.3651802730560303}}, \"EndTime\": 1565532601.165814, \"Dimensions\": {\"model\": 16, \"Host\": \"algo-1\", \"Operation\": \"training\", \"Algorithm\": \"Linear Learner\", \"epoch\": 3}, \"StartTime\": 1565532601.165798}\n",
      "\u001b[0m\n",
      "\u001b[31m#metrics {\"Metrics\": {\"train_binary_classification_weighted_cross_entropy_objective\": {\"count\": 1, \"max\": 1.3656641426086427, \"sum\": 1.3656641426086427, \"min\": 1.3656641426086427}}, \"EndTime\": 1565532601.165871, \"Dimensions\": {\"model\": 17, \"Host\": \"algo-1\", \"Operation\": \"training\", \"Algorithm\": \"Linear Learner\", \"epoch\": 3}, \"StartTime\": 1565532601.165855}\n",
      "\u001b[0m\n",
      "\u001b[31m#metrics {\"Metrics\": {\"train_binary_classification_weighted_cross_entropy_objective\": {\"count\": 1, \"max\": 1.36515380859375, \"sum\": 1.36515380859375, \"min\": 1.36515380859375}}, \"EndTime\": 1565532601.165929, \"Dimensions\": {\"model\": 18, \"Host\": \"algo-1\", \"Operation\": \"training\", \"Algorithm\": \"Linear Learner\", \"epoch\": 3}, \"StartTime\": 1565532601.165913}\n",
      "\u001b[0m\n",
      "\u001b[31m#metrics {\"Metrics\": {\"train_binary_classification_weighted_cross_entropy_objective\": {\"count\": 1, \"max\": 1.3656362609863282, \"sum\": 1.3656362609863282, \"min\": 1.3656362609863282}}, \"EndTime\": 1565532601.165988, \"Dimensions\": {\"model\": 19, \"Host\": \"algo-1\", \"Operation\": \"training\", \"Algorithm\": \"Linear Learner\", \"epoch\": 3}, \"StartTime\": 1565532601.165971}\n",
      "\u001b[0m\n",
      "\u001b[31m#metrics {\"Metrics\": {\"train_binary_classification_weighted_cross_entropy_objective\": {\"count\": 1, \"max\": 1.3954573287963867, \"sum\": 1.3954573287963867, \"min\": 1.3954573287963867}}, \"EndTime\": 1565532601.166047, \"Dimensions\": {\"model\": 20, \"Host\": \"algo-1\", \"Operation\": \"training\", \"Algorithm\": \"Linear Learner\", \"epoch\": 3}, \"StartTime\": 1565532601.16603}\n",
      "\u001b[0m\n",
      "\u001b[31m#metrics {\"Metrics\": {\"train_binary_classification_weighted_cross_entropy_objective\": {\"count\": 1, \"max\": 1.4029430694580078, \"sum\": 1.4029430694580078, \"min\": 1.4029430694580078}}, \"EndTime\": 1565532601.166106, \"Dimensions\": {\"model\": 21, \"Host\": \"algo-1\", \"Operation\": \"training\", \"Algorithm\": \"Linear Learner\", \"epoch\": 3}, \"StartTime\": 1565532601.166089}\n",
      "\u001b[0m\n",
      "\u001b[31m#metrics {\"Metrics\": {\"train_binary_classification_weighted_cross_entropy_objective\": {\"count\": 1, \"max\": 1.3954673862457276, \"sum\": 1.3954673862457276, \"min\": 1.3954673862457276}}, \"EndTime\": 1565532601.166163, \"Dimensions\": {\"model\": 22, \"Host\": \"algo-1\", \"Operation\": \"training\", \"Algorithm\": \"Linear Learner\", \"epoch\": 3}, \"StartTime\": 1565532601.166148}\n",
      "\u001b[0m\n",
      "\u001b[31m#metrics {\"Metrics\": {\"train_binary_classification_weighted_cross_entropy_objective\": {\"count\": 1, \"max\": 1.4026895732879638, \"sum\": 1.4026895732879638, \"min\": 1.4026895732879638}}, \"EndTime\": 1565532601.166225, \"Dimensions\": {\"model\": 23, \"Host\": \"algo-1\", \"Operation\": \"training\", \"Algorithm\": \"Linear Learner\", \"epoch\": 3}, \"StartTime\": 1565532601.166208}\n",
      "\u001b[0m\n",
      "\u001b[31m#metrics {\"Metrics\": {\"train_binary_classification_weighted_cross_entropy_objective\": {\"count\": 1, \"max\": 1.399781768798828, \"sum\": 1.399781768798828, \"min\": 1.399781768798828}}, \"EndTime\": 1565532601.166291, \"Dimensions\": {\"model\": 24, \"Host\": \"algo-1\", \"Operation\": \"training\", \"Algorithm\": \"Linear Learner\", \"epoch\": 3}, \"StartTime\": 1565532601.166274}\n",
      "\u001b[0m\n",
      "\u001b[31m#metrics {\"Metrics\": {\"train_binary_classification_weighted_cross_entropy_objective\": {\"count\": 1, \"max\": 1.4000331344604493, \"sum\": 1.4000331344604493, \"min\": 1.4000331344604493}}, \"EndTime\": 1565532601.166346, \"Dimensions\": {\"model\": 25, \"Host\": \"algo-1\", \"Operation\": \"training\", \"Algorithm\": \"Linear Learner\", \"epoch\": 3}, \"StartTime\": 1565532601.166331}\n",
      "\u001b[0m\n",
      "\u001b[31m#metrics {\"Metrics\": {\"train_binary_classification_weighted_cross_entropy_objective\": {\"count\": 1, \"max\": 1.399645824432373, \"sum\": 1.399645824432373, \"min\": 1.399645824432373}}, \"EndTime\": 1565532601.166407, \"Dimensions\": {\"model\": 26, \"Host\": \"algo-1\", \"Operation\": \"training\", \"Algorithm\": \"Linear Learner\", \"epoch\": 3}, \"StartTime\": 1565532601.16639}\n",
      "\u001b[0m\n",
      "\u001b[31m#metrics {\"Metrics\": {\"train_binary_classification_weighted_cross_entropy_objective\": {\"count\": 1, \"max\": 1.399909538269043, \"sum\": 1.399909538269043, \"min\": 1.399909538269043}}, \"EndTime\": 1565532601.166458, \"Dimensions\": {\"model\": 27, \"Host\": \"algo-1\", \"Operation\": \"training\", \"Algorithm\": \"Linear Learner\", \"epoch\": 3}, \"StartTime\": 1565532601.166446}\n",
      "\u001b[0m\n",
      "\u001b[31m#metrics {\"Metrics\": {\"train_binary_classification_weighted_cross_entropy_objective\": {\"count\": 1, \"max\": 1.4090785903930665, \"sum\": 1.4090785903930665, \"min\": 1.4090785903930665}}, \"EndTime\": 1565532601.166514, \"Dimensions\": {\"model\": 28, \"Host\": \"algo-1\", \"Operation\": \"training\", \"Algorithm\": \"Linear Learner\", \"epoch\": 3}, \"StartTime\": 1565532601.166497}\n",
      "\u001b[0m\n",
      "\u001b[31m#metrics {\"Metrics\": {\"train_binary_classification_weighted_cross_entropy_objective\": {\"count\": 1, \"max\": 1.4120108489990235, \"sum\": 1.4120108489990235, \"min\": 1.4120108489990235}}, \"EndTime\": 1565532601.166573, \"Dimensions\": {\"model\": 29, \"Host\": \"algo-1\", \"Operation\": \"training\", \"Algorithm\": \"Linear Learner\", \"epoch\": 3}, \"StartTime\": 1565532601.166557}\n",
      "\u001b[0m\n",
      "\u001b[31m#metrics {\"Metrics\": {\"train_binary_classification_weighted_cross_entropy_objective\": {\"count\": 1, \"max\": 1.4093411102294922, \"sum\": 1.4093411102294922, \"min\": 1.4093411102294922}}, \"EndTime\": 1565532601.166638, \"Dimensions\": {\"model\": 30, \"Host\": \"algo-1\", \"Operation\": \"training\", \"Algorithm\": \"Linear Learner\", \"epoch\": 3}, \"StartTime\": 1565532601.166623}\n",
      "\u001b[0m\n",
      "\u001b[31m#metrics {\"Metrics\": {\"train_binary_classification_weighted_cross_entropy_objective\": {\"count\": 1, \"max\": 1.412000373840332, \"sum\": 1.412000373840332, \"min\": 1.412000373840332}}, \"EndTime\": 1565532601.16669, \"Dimensions\": {\"model\": 31, \"Host\": \"algo-1\", \"Operation\": \"training\", \"Algorithm\": \"Linear Learner\", \"epoch\": 3}, \"StartTime\": 1565532601.166675}\n",
      "\u001b[0m\n",
      "\u001b[31m[08/11/2019 14:10:01 INFO 140680134403904] #quality_metric: host=algo-1, epoch=3, train binary_classification_weighted_cross_entropy_objective <loss>=1.33528242874\u001b[0m\n",
      "\u001b[31m[08/11/2019 14:10:01 INFO 140680134403904] #early_stopping_criteria_metric: host=algo-1, epoch=3, criteria=binary_classification_weighted_cross_entropy_objective, value=1.33486721802\u001b[0m\n",
      "\u001b[31m[08/11/2019 14:10:01 INFO 140680134403904] Epoch 3: Loss improved. Updating best model\u001b[0m\n",
      "\u001b[31m[08/11/2019 14:10:01 INFO 140680134403904] #progress_metric: host=algo-1, completed 20 % of epochs\u001b[0m\n",
      "\u001b[31m#metrics {\"Metrics\": {\"Max Batches Seen Between Resets\": {\"count\": 1, \"max\": 33, \"sum\": 33.0, \"min\": 33}, \"Number of Batches Since Last Reset\": {\"count\": 1, \"max\": 33, \"sum\": 33.0, \"min\": 33}, \"Number of Records Since Last Reset\": {\"count\": 1, \"max\": 32221, \"sum\": 32221.0, \"min\": 32221}, \"Total Batches Seen\": {\"count\": 1, \"max\": 144, \"sum\": 144.0, \"min\": 144}, \"Total Records Seen\": {\"count\": 1, \"max\": 140884, \"sum\": 140884.0, \"min\": 140884}, \"Max Records Seen Between Resets\": {\"count\": 1, \"max\": 32221, \"sum\": 32221.0, \"min\": 32221}, \"Reset Count\": {\"count\": 1, \"max\": 6, \"sum\": 6.0, \"min\": 6}}, \"EndTime\": 1565532601.169424, \"Dimensions\": {\"Host\": \"algo-1\", \"Meta\": \"training_data_iter\", \"Operation\": \"training\", \"Algorithm\": \"Linear Learner\", \"epoch\": 3}, \"StartTime\": 1565532600.182911}\n",
      "\u001b[0m\n",
      "\u001b[31m[08/11/2019 14:10:01 INFO 140680134403904] #throughput_metric: host=algo-1, train throughput=32657.7600421 records/second\u001b[0m\n",
      "\u001b[31m[2019-08-11 14:10:02.266] [tensorio] [info] epoch_stats={\"data_pipeline\": \"/opt/ml/input/data/train\", \"epoch\": 11, \"duration\": 1096, \"num_examples\": 33, \"num_bytes\": 3479868}\u001b[0m\n",
      "\u001b[31m#metrics {\"Metrics\": {\"train_binary_classification_weighted_cross_entropy_objective\": {\"count\": 1, \"max\": 1.3328119449615479, \"sum\": 1.3328119449615479, \"min\": 1.3328119449615479}}, \"EndTime\": 1565532602.266235, \"Dimensions\": {\"model\": 0, \"Host\": \"algo-1\", \"Operation\": \"training\", \"Algorithm\": \"Linear Learner\", \"epoch\": 4}, \"StartTime\": 1565532602.266147}\n",
      "\u001b[0m\n",
      "\u001b[31m#metrics {\"Metrics\": {\"train_binary_classification_weighted_cross_entropy_objective\": {\"count\": 1, \"max\": 1.3328600025177002, \"sum\": 1.3328600025177002, \"min\": 1.3328600025177002}}, \"EndTime\": 1565532602.266312, \"Dimensions\": {\"model\": 1, \"Host\": \"algo-1\", \"Operation\": \"training\", \"Algorithm\": \"Linear Learner\", \"epoch\": 4}, \"StartTime\": 1565532602.266295}\n",
      "\u001b[0m\n",
      "\u001b[31m#metrics {\"Metrics\": {\"train_binary_classification_weighted_cross_entropy_objective\": {\"count\": 1, \"max\": 1.3328519191741943, \"sum\": 1.3328519191741943, \"min\": 1.3328519191741943}}, \"EndTime\": 1565532602.266372, \"Dimensions\": {\"model\": 2, \"Host\": \"algo-1\", \"Operation\": \"training\", \"Algorithm\": \"Linear Learner\", \"epoch\": 4}, \"StartTime\": 1565532602.266355}\n",
      "\u001b[0m\n",
      "\u001b[31m#metrics {\"Metrics\": {\"train_binary_classification_weighted_cross_entropy_objective\": {\"count\": 1, \"max\": 1.3330673027038573, \"sum\": 1.3330673027038573, \"min\": 1.3330673027038573}}, \"EndTime\": 1565532602.26643, \"Dimensions\": {\"model\": 3, \"Host\": \"algo-1\", \"Operation\": \"training\", \"Algorithm\": \"Linear Learner\", \"epoch\": 4}, \"StartTime\": 1565532602.266414}\n",
      "\u001b[0m\n",
      "\u001b[31m#metrics {\"Metrics\": {\"train_binary_classification_weighted_cross_entropy_objective\": {\"count\": 1, \"max\": 1.3919959983825683, \"sum\": 1.3919959983825683, \"min\": 1.3919959983825683}}, \"EndTime\": 1565532602.266492, \"Dimensions\": {\"model\": 4, \"Host\": \"algo-1\", \"Operation\": \"training\", \"Algorithm\": \"Linear Learner\", \"epoch\": 4}, \"StartTime\": 1565532602.266475}\n",
      "\u001b[0m\n",
      "\u001b[31m#metrics {\"Metrics\": {\"train_binary_classification_weighted_cross_entropy_objective\": {\"count\": 1, \"max\": 1.401942855834961, \"sum\": 1.401942855834961, \"min\": 1.401942855834961}}, \"EndTime\": 1565532602.266551, \"Dimensions\": {\"model\": 5, \"Host\": \"algo-1\", \"Operation\": \"training\", \"Algorithm\": \"Linear Learner\", \"epoch\": 4}, \"StartTime\": 1565532602.266534}\n",
      "\u001b[0m\n",
      "\u001b[31m#metrics {\"Metrics\": {\"train_binary_classification_weighted_cross_entropy_objective\": {\"count\": 1, \"max\": 1.3919462852478028, \"sum\": 1.3919462852478028, \"min\": 1.3919462852478028}}, \"EndTime\": 1565532602.26661, \"Dimensions\": {\"model\": 6, \"Host\": \"algo-1\", \"Operation\": \"training\", \"Algorithm\": \"Linear Learner\", \"epoch\": 4}, \"StartTime\": 1565532602.266593}\n",
      "\u001b[0m\n",
      "\u001b[31m#metrics {\"Metrics\": {\"train_binary_classification_weighted_cross_entropy_objective\": {\"count\": 1, \"max\": 1.4020529232025147, \"sum\": 1.4020529232025147, \"min\": 1.4020529232025147}}, \"EndTime\": 1565532602.266655, \"Dimensions\": {\"model\": 7, \"Host\": \"algo-1\", \"Operation\": \"training\", \"Algorithm\": \"Linear Learner\", \"epoch\": 4}, \"StartTime\": 1565532602.266641}\n",
      "\u001b[0m\n",
      "\u001b[31m#metrics {\"Metrics\": {\"train_binary_classification_weighted_cross_entropy_objective\": {\"count\": 1, \"max\": 1.334248950958252, \"sum\": 1.334248950958252, \"min\": 1.334248950958252}}, \"EndTime\": 1565532602.266709, \"Dimensions\": {\"model\": 8, \"Host\": \"algo-1\", \"Operation\": \"training\", \"Algorithm\": \"Linear Learner\", \"epoch\": 4}, \"StartTime\": 1565532602.266693}\n",
      "\u001b[0m\n",
      "\u001b[31m#metrics {\"Metrics\": {\"train_binary_classification_weighted_cross_entropy_objective\": {\"count\": 1, \"max\": 1.3325379734039307, \"sum\": 1.3325379734039307, \"min\": 1.3325379734039307}}, \"EndTime\": 1565532602.266757, \"Dimensions\": {\"model\": 9, \"Host\": \"algo-1\", \"Operation\": \"training\", \"Algorithm\": \"Linear Learner\", \"epoch\": 4}, \"StartTime\": 1565532602.266743}\n",
      "\u001b[0m\n",
      "\u001b[31m#metrics {\"Metrics\": {\"train_binary_classification_weighted_cross_entropy_objective\": {\"count\": 1, \"max\": 1.333437454223633, \"sum\": 1.333437454223633, \"min\": 1.333437454223633}}, \"EndTime\": 1565532602.266814, \"Dimensions\": {\"model\": 10, \"Host\": \"algo-1\", \"Operation\": \"training\", \"Algorithm\": \"Linear Learner\", \"epoch\": 4}, \"StartTime\": 1565532602.266798}\n",
      "\u001b[0m\n",
      "\u001b[31m#metrics {\"Metrics\": {\"train_binary_classification_weighted_cross_entropy_objective\": {\"count\": 1, \"max\": 1.3327376403808593, \"sum\": 1.3327376403808593, \"min\": 1.3327376403808593}}, \"EndTime\": 1565532602.26688, \"Dimensions\": {\"model\": 11, \"Host\": \"algo-1\", \"Operation\": \"training\", \"Algorithm\": \"Linear Learner\", \"epoch\": 4}, \"StartTime\": 1565532602.266866}\n",
      "\u001b[0m\n",
      "\u001b[31m#metrics {\"Metrics\": {\"train_binary_classification_weighted_cross_entropy_objective\": {\"count\": 1, \"max\": 1.3912819633483886, \"sum\": 1.3912819633483886, \"min\": 1.3912819633483886}}, \"EndTime\": 1565532602.266937, \"Dimensions\": {\"model\": 12, \"Host\": \"algo-1\", \"Operation\": \"training\", \"Algorithm\": \"Linear Learner\", \"epoch\": 4}, \"StartTime\": 1565532602.26692}\n",
      "\u001b[0m\n",
      "\u001b[31m#metrics {\"Metrics\": {\"train_binary_classification_weighted_cross_entropy_objective\": {\"count\": 1, \"max\": 1.401147397994995, \"sum\": 1.401147397994995, \"min\": 1.401147397994995}}, \"EndTime\": 1565532602.266992, \"Dimensions\": {\"model\": 13, \"Host\": \"algo-1\", \"Operation\": \"training\", \"Algorithm\": \"Linear Learner\", \"epoch\": 4}, \"StartTime\": 1565532602.266977}\n",
      "\u001b[0m\n",
      "\u001b[31m#metrics {\"Metrics\": {\"train_binary_classification_weighted_cross_entropy_objective\": {\"count\": 1, \"max\": 1.3914409465789794, \"sum\": 1.3914409465789794, \"min\": 1.3914409465789794}}, \"EndTime\": 1565532602.267055, \"Dimensions\": {\"model\": 14, \"Host\": \"algo-1\", \"Operation\": \"training\", \"Algorithm\": \"Linear Learner\", \"epoch\": 4}, \"StartTime\": 1565532602.267038}\n",
      "\u001b[0m\n",
      "\u001b[31m#metrics {\"Metrics\": {\"train_binary_classification_weighted_cross_entropy_objective\": {\"count\": 1, \"max\": 1.4013340034484862, \"sum\": 1.4013340034484862, \"min\": 1.4013340034484862}}, \"EndTime\": 1565532602.267125, \"Dimensions\": {\"model\": 15, \"Host\": \"algo-1\", \"Operation\": \"training\", \"Algorithm\": \"Linear Learner\", \"epoch\": 4}, \"StartTime\": 1565532602.267108}\n",
      "\u001b[0m\n",
      "\u001b[31m#metrics {\"Metrics\": {\"train_binary_classification_weighted_cross_entropy_objective\": {\"count\": 1, \"max\": 1.3650514583587647, \"sum\": 1.3650514583587647, \"min\": 1.3650514583587647}}, \"EndTime\": 1565532602.267194, \"Dimensions\": {\"model\": 16, \"Host\": \"algo-1\", \"Operation\": \"training\", \"Algorithm\": \"Linear Learner\", \"epoch\": 4}, \"StartTime\": 1565532602.267176}\n",
      "\u001b[0m\n",
      "\u001b[31m#metrics {\"Metrics\": {\"train_binary_classification_weighted_cross_entropy_objective\": {\"count\": 1, \"max\": 1.3657039489746094, \"sum\": 1.3657039489746094, \"min\": 1.3657039489746094}}, \"EndTime\": 1565532602.267268, \"Dimensions\": {\"model\": 17, \"Host\": \"algo-1\", \"Operation\": \"training\", \"Algorithm\": \"Linear Learner\", \"epoch\": 4}, \"StartTime\": 1565532602.26725}\n",
      "\u001b[0m\n",
      "\u001b[31m#metrics {\"Metrics\": {\"train_binary_classification_weighted_cross_entropy_objective\": {\"count\": 1, \"max\": 1.365041591644287, \"sum\": 1.365041591644287, \"min\": 1.365041591644287}}, \"EndTime\": 1565532602.267336, \"Dimensions\": {\"model\": 18, \"Host\": \"algo-1\", \"Operation\": \"training\", \"Algorithm\": \"Linear Learner\", \"epoch\": 4}, \"StartTime\": 1565532602.267319}\n",
      "\u001b[0m\n",
      "\u001b[31m#metrics {\"Metrics\": {\"train_binary_classification_weighted_cross_entropy_objective\": {\"count\": 1, \"max\": 1.365703224182129, \"sum\": 1.365703224182129, \"min\": 1.365703224182129}}, \"EndTime\": 1565532602.26739, \"Dimensions\": {\"model\": 19, \"Host\": \"algo-1\", \"Operation\": \"training\", \"Algorithm\": \"Linear Learner\", \"epoch\": 4}, \"StartTime\": 1565532602.267376}\n",
      "\u001b[0m\n",
      "\u001b[31m#metrics {\"Metrics\": {\"train_binary_classification_weighted_cross_entropy_objective\": {\"count\": 1, \"max\": 1.3944115734100342, \"sum\": 1.3944115734100342, \"min\": 1.3944115734100342}}, \"EndTime\": 1565532602.267446, \"Dimensions\": {\"model\": 20, \"Host\": \"algo-1\", \"Operation\": \"training\", \"Algorithm\": \"Linear Learner\", \"epoch\": 4}, \"StartTime\": 1565532602.267431}\n",
      "\u001b[0m\n",
      "\u001b[31m#metrics {\"Metrics\": {\"train_binary_classification_weighted_cross_entropy_objective\": {\"count\": 1, \"max\": 1.4035648193359376, \"sum\": 1.4035648193359376, \"min\": 1.4035648193359376}}, \"EndTime\": 1565532602.267503, \"Dimensions\": {\"model\": 21, \"Host\": \"algo-1\", \"Operation\": \"training\", \"Algorithm\": \"Linear Learner\", \"epoch\": 4}, \"StartTime\": 1565532602.267487}\n",
      "\u001b[0m\n",
      "\u001b[31m#metrics {\"Metrics\": {\"train_binary_classification_weighted_cross_entropy_objective\": {\"count\": 1, \"max\": 1.3943974609375, \"sum\": 1.3943974609375, \"min\": 1.3943974609375}}, \"EndTime\": 1565532602.267561, \"Dimensions\": {\"model\": 22, \"Host\": \"algo-1\", \"Operation\": \"training\", \"Algorithm\": \"Linear Learner\", \"epoch\": 4}, \"StartTime\": 1565532602.267544}\n",
      "\u001b[0m\n",
      "\u001b[31m#metrics {\"Metrics\": {\"train_binary_classification_weighted_cross_entropy_objective\": {\"count\": 1, \"max\": 1.4034025382995605, \"sum\": 1.4034025382995605, \"min\": 1.4034025382995605}}, \"EndTime\": 1565532602.267619, \"Dimensions\": {\"model\": 23, \"Host\": \"algo-1\", \"Operation\": \"training\", \"Algorithm\": \"Linear Learner\", \"epoch\": 4}, \"StartTime\": 1565532602.267603}\n",
      "\u001b[0m\n",
      "\u001b[31m#metrics {\"Metrics\": {\"train_binary_classification_weighted_cross_entropy_objective\": {\"count\": 1, \"max\": 1.3996925048828126, \"sum\": 1.3996925048828126, \"min\": 1.3996925048828126}}, \"EndTime\": 1565532602.267687, \"Dimensions\": {\"model\": 24, \"Host\": \"algo-1\", \"Operation\": \"training\", \"Algorithm\": \"Linear Learner\", \"epoch\": 4}, \"StartTime\": 1565532602.26767}\n",
      "\u001b[0m\n",
      "\u001b[31m#metrics {\"Metrics\": {\"train_binary_classification_weighted_cross_entropy_objective\": {\"count\": 1, \"max\": 1.40000537109375, \"sum\": 1.40000537109375, \"min\": 1.40000537109375}}, \"EndTime\": 1565532602.267755, \"Dimensions\": {\"model\": 25, \"Host\": \"algo-1\", \"Operation\": \"training\", \"Algorithm\": \"Linear Learner\", \"epoch\": 4}, \"StartTime\": 1565532602.267738}\n",
      "\u001b[0m\n",
      "\u001b[31m#metrics {\"Metrics\": {\"train_binary_classification_weighted_cross_entropy_objective\": {\"count\": 1, \"max\": 1.3995610198974608, \"sum\": 1.3995610198974608, \"min\": 1.3995610198974608}}, \"EndTime\": 1565532602.267814, \"Dimensions\": {\"model\": 26, \"Host\": \"algo-1\", \"Operation\": \"training\", \"Algorithm\": \"Linear Learner\", \"epoch\": 4}, \"StartTime\": 1565532602.267797}\n",
      "\u001b[0m\n",
      "\u001b[31m#metrics {\"Metrics\": {\"train_binary_classification_weighted_cross_entropy_objective\": {\"count\": 1, \"max\": 1.3998800029754639, \"sum\": 1.3998800029754639, \"min\": 1.3998800029754639}}, \"EndTime\": 1565532602.267867, \"Dimensions\": {\"model\": 27, \"Host\": \"algo-1\", \"Operation\": \"training\", \"Algorithm\": \"Linear Learner\", \"epoch\": 4}, \"StartTime\": 1565532602.267852}\n",
      "\u001b[0m\n",
      "\u001b[31m#metrics {\"Metrics\": {\"train_binary_classification_weighted_cross_entropy_objective\": {\"count\": 1, \"max\": 1.4091714134216309, \"sum\": 1.4091714134216309, \"min\": 1.4091714134216309}}, \"EndTime\": 1565532602.267928, \"Dimensions\": {\"model\": 28, \"Host\": \"algo-1\", \"Operation\": \"training\", \"Algorithm\": \"Linear Learner\", \"epoch\": 4}, \"StartTime\": 1565532602.267911}\n",
      "\u001b[0m\n",
      "\u001b[31m#metrics {\"Metrics\": {\"train_binary_classification_weighted_cross_entropy_objective\": {\"count\": 1, \"max\": 1.4120721969604493, \"sum\": 1.4120721969604493, \"min\": 1.4120721969604493}}, \"EndTime\": 1565532602.267993, \"Dimensions\": {\"model\": 29, \"Host\": \"algo-1\", \"Operation\": \"training\", \"Algorithm\": \"Linear Learner\", \"epoch\": 4}, \"StartTime\": 1565532602.267976}\n",
      "\u001b[0m\n",
      "\u001b[31m#metrics {\"Metrics\": {\"train_binary_classification_weighted_cross_entropy_objective\": {\"count\": 1, \"max\": 1.4090676517486573, \"sum\": 1.4090676517486573, \"min\": 1.4090676517486573}}, \"EndTime\": 1565532602.268044, \"Dimensions\": {\"model\": 30, \"Host\": \"algo-1\", \"Operation\": \"training\", \"Algorithm\": \"Linear Learner\", \"epoch\": 4}, \"StartTime\": 1565532602.268033}\n",
      "\u001b[0m\n",
      "\u001b[31m#metrics {\"Metrics\": {\"train_binary_classification_weighted_cross_entropy_objective\": {\"count\": 1, \"max\": 1.412036075592041, \"sum\": 1.412036075592041, \"min\": 1.412036075592041}}, \"EndTime\": 1565532602.26811, \"Dimensions\": {\"model\": 31, \"Host\": \"algo-1\", \"Operation\": \"training\", \"Algorithm\": \"Linear Learner\", \"epoch\": 4}, \"StartTime\": 1565532602.268092}\n",
      "\u001b[0m\n",
      "\u001b[31m[08/11/2019 14:10:02 INFO 140680134403904] #quality_metric: host=algo-1, epoch=4, train binary_classification_weighted_cross_entropy_objective <loss>=1.33281194496\u001b[0m\n",
      "\u001b[31m[08/11/2019 14:10:02 INFO 140680134403904] #early_stopping_criteria_metric: host=algo-1, epoch=4, criteria=binary_classification_weighted_cross_entropy_objective, value=1.3325379734\u001b[0m\n",
      "\u001b[31m[08/11/2019 14:10:02 INFO 140680134403904] Epoch 4: Loss improved. Updating best model\u001b[0m\n",
      "\u001b[31m[08/11/2019 14:10:02 INFO 140680134403904] #progress_metric: host=algo-1, completed 25 % of epochs\u001b[0m\n",
      "\u001b[31m#metrics {\"Metrics\": {\"Max Batches Seen Between Resets\": {\"count\": 1, \"max\": 33, \"sum\": 33.0, \"min\": 33}, \"Number of Batches Since Last Reset\": {\"count\": 1, \"max\": 33, \"sum\": 33.0, \"min\": 33}, \"Number of Records Since Last Reset\": {\"count\": 1, \"max\": 32221, \"sum\": 32221.0, \"min\": 32221}, \"Total Batches Seen\": {\"count\": 1, \"max\": 177, \"sum\": 177.0, \"min\": 177}, \"Total Records Seen\": {\"count\": 1, \"max\": 173105, \"sum\": 173105.0, \"min\": 173105}, \"Max Records Seen Between Resets\": {\"count\": 1, \"max\": 32221, \"sum\": 32221.0, \"min\": 32221}, \"Reset Count\": {\"count\": 1, \"max\": 7, \"sum\": 7.0, \"min\": 7}}, \"EndTime\": 1565532602.270838, \"Dimensions\": {\"Host\": \"algo-1\", \"Meta\": \"training_data_iter\", \"Operation\": \"training\", \"Algorithm\": \"Linear Learner\", \"epoch\": 4}, \"StartTime\": 1565532601.169796}\n",
      "\u001b[0m\n",
      "\u001b[31m[08/11/2019 14:10:02 INFO 140680134403904] #throughput_metric: host=algo-1, train throughput=29260.7507858 records/second\u001b[0m\n",
      "\u001b[31m[2019-08-11 14:10:03.557] [tensorio] [info] epoch_stats={\"data_pipeline\": \"/opt/ml/input/data/train\", \"epoch\": 13, \"duration\": 1285, \"num_examples\": 33, \"num_bytes\": 3479868}\u001b[0m\n",
      "\u001b[31m#metrics {\"Metrics\": {\"train_binary_classification_weighted_cross_entropy_objective\": {\"count\": 1, \"max\": 1.331334629058838, \"sum\": 1.331334629058838, \"min\": 1.331334629058838}}, \"EndTime\": 1565532603.557344, \"Dimensions\": {\"model\": 0, \"Host\": \"algo-1\", \"Operation\": \"training\", \"Algorithm\": \"Linear Learner\", \"epoch\": 5}, \"StartTime\": 1565532603.55726}\n",
      "\u001b[0m\n",
      "\u001b[31m#metrics {\"Metrics\": {\"train_binary_classification_weighted_cross_entropy_objective\": {\"count\": 1, \"max\": 1.331542516708374, \"sum\": 1.331542516708374, \"min\": 1.331542516708374}}, \"EndTime\": 1565532603.557422, \"Dimensions\": {\"model\": 1, \"Host\": \"algo-1\", \"Operation\": \"training\", \"Algorithm\": \"Linear Learner\", \"epoch\": 5}, \"StartTime\": 1565532603.557408}\n",
      "\u001b[0m\n",
      "\u001b[31m#metrics {\"Metrics\": {\"train_binary_classification_weighted_cross_entropy_objective\": {\"count\": 1, \"max\": 1.331237756729126, \"sum\": 1.331237756729126, \"min\": 1.331237756729126}}, \"EndTime\": 1565532603.55747, \"Dimensions\": {\"model\": 2, \"Host\": \"algo-1\", \"Operation\": \"training\", \"Algorithm\": \"Linear Learner\", \"epoch\": 5}, \"StartTime\": 1565532603.557458}\n",
      "\u001b[0m\n",
      "\u001b[31m#metrics {\"Metrics\": {\"train_binary_classification_weighted_cross_entropy_objective\": {\"count\": 1, \"max\": 1.3317103462219237, \"sum\": 1.3317103462219237, \"min\": 1.3317103462219237}}, \"EndTime\": 1565532603.557511, \"Dimensions\": {\"model\": 3, \"Host\": \"algo-1\", \"Operation\": \"training\", \"Algorithm\": \"Linear Learner\", \"epoch\": 5}, \"StartTime\": 1565532603.557501}\n",
      "\u001b[0m\n",
      "\u001b[31m#metrics {\"Metrics\": {\"train_binary_classification_weighted_cross_entropy_objective\": {\"count\": 1, \"max\": 1.3896961708068847, \"sum\": 1.3896961708068847, \"min\": 1.3896961708068847}}, \"EndTime\": 1565532603.557551, \"Dimensions\": {\"model\": 4, \"Host\": \"algo-1\", \"Operation\": \"training\", \"Algorithm\": \"Linear Learner\", \"epoch\": 5}, \"StartTime\": 1565532603.557541}\n",
      "\u001b[0m\n",
      "\u001b[31m#metrics {\"Metrics\": {\"train_binary_classification_weighted_cross_entropy_objective\": {\"count\": 1, \"max\": 1.4021916732788087, \"sum\": 1.4021916732788087, \"min\": 1.4021916732788087}}, \"EndTime\": 1565532603.557592, \"Dimensions\": {\"model\": 5, \"Host\": \"algo-1\", \"Operation\": \"training\", \"Algorithm\": \"Linear Learner\", \"epoch\": 5}, \"StartTime\": 1565532603.557582}\n",
      "\u001b[0m\n",
      "\u001b[31m#metrics {\"Metrics\": {\"train_binary_classification_weighted_cross_entropy_objective\": {\"count\": 1, \"max\": 1.3896874790191651, \"sum\": 1.3896874790191651, \"min\": 1.3896874790191651}}, \"EndTime\": 1565532603.557631, \"Dimensions\": {\"model\": 6, \"Host\": \"algo-1\", \"Operation\": \"training\", \"Algorithm\": \"Linear Learner\", \"epoch\": 5}, \"StartTime\": 1565532603.557621}\n",
      "\u001b[0m\n",
      "\u001b[31m#metrics {\"Metrics\": {\"train_binary_classification_weighted_cross_entropy_objective\": {\"count\": 1, \"max\": 1.4022659301757812, \"sum\": 1.4022659301757812, \"min\": 1.4022659301757812}}, \"EndTime\": 1565532603.557669, \"Dimensions\": {\"model\": 7, \"Host\": \"algo-1\", \"Operation\": \"training\", \"Algorithm\": \"Linear Learner\", \"epoch\": 5}, \"StartTime\": 1565532603.557659}\n",
      "\u001b[0m\n",
      "\u001b[31m#metrics {\"Metrics\": {\"train_binary_classification_weighted_cross_entropy_objective\": {\"count\": 1, \"max\": 1.3323331737518311, \"sum\": 1.3323331737518311, \"min\": 1.3323331737518311}}, \"EndTime\": 1565532603.557706, \"Dimensions\": {\"model\": 8, \"Host\": \"algo-1\", \"Operation\": \"training\", \"Algorithm\": \"Linear Learner\", \"epoch\": 5}, \"StartTime\": 1565532603.557696}\n",
      "\u001b[0m\n",
      "\u001b[31m#metrics {\"Metrics\": {\"train_binary_classification_weighted_cross_entropy_objective\": {\"count\": 1, \"max\": 1.3312907524108886, \"sum\": 1.3312907524108886, \"min\": 1.3312907524108886}}, \"EndTime\": 1565532603.557744, \"Dimensions\": {\"model\": 9, \"Host\": \"algo-1\", \"Operation\": \"training\", \"Algorithm\": \"Linear Learner\", \"epoch\": 5}, \"StartTime\": 1565532603.557734}\n",
      "\u001b[0m\n",
      "\u001b[31m#metrics {\"Metrics\": {\"train_binary_classification_weighted_cross_entropy_objective\": {\"count\": 1, \"max\": 1.3318446998596192, \"sum\": 1.3318446998596192, \"min\": 1.3318446998596192}}, \"EndTime\": 1565532603.557781, \"Dimensions\": {\"model\": 10, \"Host\": \"algo-1\", \"Operation\": \"training\", \"Algorithm\": \"Linear Learner\", \"epoch\": 5}, \"StartTime\": 1565532603.557771}\n",
      "\u001b[0m\n",
      "\u001b[31m#metrics {\"Metrics\": {\"train_binary_classification_weighted_cross_entropy_objective\": {\"count\": 1, \"max\": 1.3315544738769531, \"sum\": 1.3315544738769531, \"min\": 1.3315544738769531}}, \"EndTime\": 1565532603.557819, \"Dimensions\": {\"model\": 11, \"Host\": \"algo-1\", \"Operation\": \"training\", \"Algorithm\": \"Linear Learner\", \"epoch\": 5}, \"StartTime\": 1565532603.557809}\n",
      "\u001b[0m\n",
      "\u001b[31m#metrics {\"Metrics\": {\"train_binary_classification_weighted_cross_entropy_objective\": {\"count\": 1, \"max\": 1.3890253620147706, \"sum\": 1.3890253620147706, \"min\": 1.3890253620147706}}, \"EndTime\": 1565532603.557859, \"Dimensions\": {\"model\": 12, \"Host\": \"algo-1\", \"Operation\": \"training\", \"Algorithm\": \"Linear Learner\", \"epoch\": 5}, \"StartTime\": 1565532603.557849}\n",
      "\u001b[0m\n",
      "\u001b[31m#metrics {\"Metrics\": {\"train_binary_classification_weighted_cross_entropy_objective\": {\"count\": 1, \"max\": 1.4014331550598145, \"sum\": 1.4014331550598145, \"min\": 1.4014331550598145}}, \"EndTime\": 1565532603.557897, \"Dimensions\": {\"model\": 13, \"Host\": \"algo-1\", \"Operation\": \"training\", \"Algorithm\": \"Linear Learner\", \"epoch\": 5}, \"StartTime\": 1565532603.557887}\n",
      "\u001b[0m\n",
      "\u001b[31m#metrics {\"Metrics\": {\"train_binary_classification_weighted_cross_entropy_objective\": {\"count\": 1, \"max\": 1.3891805305480958, \"sum\": 1.3891805305480958, \"min\": 1.3891805305480958}}, \"EndTime\": 1565532603.557934, \"Dimensions\": {\"model\": 14, \"Host\": \"algo-1\", \"Operation\": \"training\", \"Algorithm\": \"Linear Learner\", \"epoch\": 5}, \"StartTime\": 1565532603.557924}\n",
      "\u001b[0m\n",
      "\u001b[31m#metrics {\"Metrics\": {\"train_binary_classification_weighted_cross_entropy_objective\": {\"count\": 1, \"max\": 1.4016139698028565, \"sum\": 1.4016139698028565, \"min\": 1.4016139698028565}}, \"EndTime\": 1565532603.557973, \"Dimensions\": {\"model\": 15, \"Host\": \"algo-1\", \"Operation\": \"training\", \"Algorithm\": \"Linear Learner\", \"epoch\": 5}, \"StartTime\": 1565532603.557963}\n",
      "\u001b[0m\n",
      "\u001b[31m#metrics {\"Metrics\": {\"train_binary_classification_weighted_cross_entropy_objective\": {\"count\": 1, \"max\": 1.3649075889587403, \"sum\": 1.3649075889587403, \"min\": 1.3649075889587403}}, \"EndTime\": 1565532603.558011, \"Dimensions\": {\"model\": 16, \"Host\": \"algo-1\", \"Operation\": \"training\", \"Algorithm\": \"Linear Learner\", \"epoch\": 5}, \"StartTime\": 1565532603.558001}\n",
      "\u001b[0m\n",
      "\u001b[31m#metrics {\"Metrics\": {\"train_binary_classification_weighted_cross_entropy_objective\": {\"count\": 1, \"max\": 1.365708969116211, \"sum\": 1.365708969116211, \"min\": 1.365708969116211}}, \"EndTime\": 1565532603.558049, \"Dimensions\": {\"model\": 17, \"Host\": \"algo-1\", \"Operation\": \"training\", \"Algorithm\": \"Linear Learner\", \"epoch\": 5}, \"StartTime\": 1565532603.558039}\n",
      "\u001b[0m\n",
      "\u001b[31m#metrics {\"Metrics\": {\"train_binary_classification_weighted_cross_entropy_objective\": {\"count\": 1, \"max\": 1.3648988418579102, \"sum\": 1.3648988418579102, \"min\": 1.3648988418579102}}, \"EndTime\": 1565532603.558095, \"Dimensions\": {\"model\": 18, \"Host\": \"algo-1\", \"Operation\": \"training\", \"Algorithm\": \"Linear Learner\", \"epoch\": 5}, \"StartTime\": 1565532603.558086}\n",
      "\u001b[0m\n",
      "\u001b[31m#metrics {\"Metrics\": {\"train_binary_classification_weighted_cross_entropy_objective\": {\"count\": 1, \"max\": 1.3657059993743896, \"sum\": 1.3657059993743896, \"min\": 1.3657059993743896}}, \"EndTime\": 1565532603.558132, \"Dimensions\": {\"model\": 19, \"Host\": \"algo-1\", \"Operation\": \"training\", \"Algorithm\": \"Linear Learner\", \"epoch\": 5}, \"StartTime\": 1565532603.558122}\n",
      "\u001b[0m\n",
      "\u001b[31m#metrics {\"Metrics\": {\"train_binary_classification_weighted_cross_entropy_objective\": {\"count\": 1, \"max\": 1.393016736984253, \"sum\": 1.393016736984253, \"min\": 1.393016736984253}}, \"EndTime\": 1565532603.558168, \"Dimensions\": {\"model\": 20, \"Host\": \"algo-1\", \"Operation\": \"training\", \"Algorithm\": \"Linear Learner\", \"epoch\": 5}, \"StartTime\": 1565532603.558158}\n",
      "\u001b[0m\n",
      "\u001b[31m#metrics {\"Metrics\": {\"train_binary_classification_weighted_cross_entropy_objective\": {\"count\": 1, \"max\": 1.4042076148986817, \"sum\": 1.4042076148986817, \"min\": 1.4042076148986817}}, \"EndTime\": 1565532603.558204, \"Dimensions\": {\"model\": 21, \"Host\": \"algo-1\", \"Operation\": \"training\", \"Algorithm\": \"Linear Learner\", \"epoch\": 5}, \"StartTime\": 1565532603.558194}\n",
      "\u001b[0m\n",
      "\u001b[31m#metrics {\"Metrics\": {\"train_binary_classification_weighted_cross_entropy_objective\": {\"count\": 1, \"max\": 1.3930181026458741, \"sum\": 1.3930181026458741, \"min\": 1.3930181026458741}}, \"EndTime\": 1565532603.55824, \"Dimensions\": {\"model\": 22, \"Host\": \"algo-1\", \"Operation\": \"training\", \"Algorithm\": \"Linear Learner\", \"epoch\": 5}, \"StartTime\": 1565532603.558231}\n",
      "\u001b[0m\n",
      "\u001b[31m#metrics {\"Metrics\": {\"train_binary_classification_weighted_cross_entropy_objective\": {\"count\": 1, \"max\": 1.40409547996521, \"sum\": 1.40409547996521, \"min\": 1.40409547996521}}, \"EndTime\": 1565532603.558276, \"Dimensions\": {\"model\": 23, \"Host\": \"algo-1\", \"Operation\": \"training\", \"Algorithm\": \"Linear Learner\", \"epoch\": 5}, \"StartTime\": 1565532603.558267}\n",
      "\u001b[0m\n",
      "\u001b[31m#metrics {\"Metrics\": {\"train_binary_classification_weighted_cross_entropy_objective\": {\"count\": 1, \"max\": 1.3996116676330566, \"sum\": 1.3996116676330566, \"min\": 1.3996116676330566}}, \"EndTime\": 1565532603.558312, \"Dimensions\": {\"model\": 24, \"Host\": \"algo-1\", \"Operation\": \"training\", \"Algorithm\": \"Linear Learner\", \"epoch\": 5}, \"StartTime\": 1565532603.558303}\n",
      "\u001b[0m\n",
      "\u001b[31m#metrics {\"Metrics\": {\"train_binary_classification_weighted_cross_entropy_objective\": {\"count\": 1, \"max\": 1.3999731903076171, \"sum\": 1.3999731903076171, \"min\": 1.3999731903076171}}, \"EndTime\": 1565532603.558349, \"Dimensions\": {\"model\": 25, \"Host\": \"algo-1\", \"Operation\": \"training\", \"Algorithm\": \"Linear Learner\", \"epoch\": 5}, \"StartTime\": 1565532603.558339}\n",
      "\u001b[0m\n",
      "\u001b[31m#metrics {\"Metrics\": {\"train_binary_classification_weighted_cross_entropy_objective\": {\"count\": 1, \"max\": 1.3994730834960938, \"sum\": 1.3994730834960938, \"min\": 1.3994730834960938}}, \"EndTime\": 1565532603.558388, \"Dimensions\": {\"model\": 26, \"Host\": \"algo-1\", \"Operation\": \"training\", \"Algorithm\": \"Linear Learner\", \"epoch\": 5}, \"StartTime\": 1565532603.558378}\n",
      "\u001b[0m\n",
      "\u001b[31m#metrics {\"Metrics\": {\"train_binary_classification_weighted_cross_entropy_objective\": {\"count\": 1, \"max\": 1.3998936462402343, \"sum\": 1.3998936462402343, \"min\": 1.3998936462402343}}, \"EndTime\": 1565532603.558425, \"Dimensions\": {\"model\": 27, \"Host\": \"algo-1\", \"Operation\": \"training\", \"Algorithm\": \"Linear Learner\", \"epoch\": 5}, \"StartTime\": 1565532603.558415}\n",
      "\u001b[0m\n",
      "\u001b[31m#metrics {\"Metrics\": {\"train_binary_classification_weighted_cross_entropy_objective\": {\"count\": 1, \"max\": 1.4089572372436523, \"sum\": 1.4089572372436523, \"min\": 1.4089572372436523}}, \"EndTime\": 1565532603.558461, \"Dimensions\": {\"model\": 28, \"Host\": \"algo-1\", \"Operation\": \"training\", \"Algorithm\": \"Linear Learner\", \"epoch\": 5}, \"StartTime\": 1565532603.558452}\n",
      "\u001b[0m\n",
      "\u001b[31m#metrics {\"Metrics\": {\"train_binary_classification_weighted_cross_entropy_objective\": {\"count\": 1, \"max\": 1.4124048023223876, \"sum\": 1.4124048023223876, \"min\": 1.4124048023223876}}, \"EndTime\": 1565532603.558497, \"Dimensions\": {\"model\": 29, \"Host\": \"algo-1\", \"Operation\": \"training\", \"Algorithm\": \"Linear Learner\", \"epoch\": 5}, \"StartTime\": 1565532603.558488}\n",
      "\u001b[0m\n",
      "\u001b[31m#metrics {\"Metrics\": {\"train_binary_classification_weighted_cross_entropy_objective\": {\"count\": 1, \"max\": 1.4087067222595215, \"sum\": 1.4087067222595215, \"min\": 1.4087067222595215}}, \"EndTime\": 1565532603.558536, \"Dimensions\": {\"model\": 30, \"Host\": \"algo-1\", \"Operation\": \"training\", \"Algorithm\": \"Linear Learner\", \"epoch\": 5}, \"StartTime\": 1565532603.558526}\n",
      "\u001b[0m\n",
      "\u001b[31m#metrics {\"Metrics\": {\"train_binary_classification_weighted_cross_entropy_objective\": {\"count\": 1, \"max\": 1.4120797119140625, \"sum\": 1.4120797119140625, \"min\": 1.4120797119140625}}, \"EndTime\": 1565532603.558572, \"Dimensions\": {\"model\": 31, \"Host\": \"algo-1\", \"Operation\": \"training\", \"Algorithm\": \"Linear Learner\", \"epoch\": 5}, \"StartTime\": 1565532603.558563}\n",
      "\u001b[0m\n",
      "\u001b[31m[08/11/2019 14:10:03 INFO 140680134403904] #quality_metric: host=algo-1, epoch=5, train binary_classification_weighted_cross_entropy_objective <loss>=1.33133462906\u001b[0m\n",
      "\u001b[31m[08/11/2019 14:10:03 INFO 140680134403904] #early_stopping_criteria_metric: host=algo-1, epoch=5, criteria=binary_classification_weighted_cross_entropy_objective, value=1.33123775673\u001b[0m\n",
      "\u001b[31m[08/11/2019 14:10:03 INFO 140680134403904] #progress_metric: host=algo-1, completed 30 % of epochs\u001b[0m\n",
      "\u001b[31m#metrics {\"Metrics\": {\"Max Batches Seen Between Resets\": {\"count\": 1, \"max\": 33, \"sum\": 33.0, \"min\": 33}, \"Number of Batches Since Last Reset\": {\"count\": 1, \"max\": 33, \"sum\": 33.0, \"min\": 33}, \"Number of Records Since Last Reset\": {\"count\": 1, \"max\": 32221, \"sum\": 32221.0, \"min\": 32221}, \"Total Batches Seen\": {\"count\": 1, \"max\": 210, \"sum\": 210.0, \"min\": 210}, \"Total Records Seen\": {\"count\": 1, \"max\": 205326, \"sum\": 205326.0, \"min\": 205326}, \"Max Records Seen Between Resets\": {\"count\": 1, \"max\": 32221, \"sum\": 32221.0, \"min\": 32221}, \"Reset Count\": {\"count\": 1, \"max\": 8, \"sum\": 8.0, \"min\": 8}}, \"EndTime\": 1565532603.560991, \"Dimensions\": {\"Host\": \"algo-1\", \"Meta\": \"training_data_iter\", \"Operation\": \"training\", \"Algorithm\": \"Linear Learner\", \"epoch\": 5}, \"StartTime\": 1565532602.271278}\n",
      "\u001b[0m\n",
      "\u001b[31m[08/11/2019 14:10:03 INFO 140680134403904] #throughput_metric: host=algo-1, train throughput=24980.5996105 records/second\u001b[0m\n",
      "\u001b[31m[2019-08-11 14:10:04.803] [tensorio] [info] epoch_stats={\"data_pipeline\": \"/opt/ml/input/data/train\", \"epoch\": 15, \"duration\": 1241, \"num_examples\": 33, \"num_bytes\": 3479868}\u001b[0m\n",
      "\u001b[31m#metrics {\"Metrics\": {\"train_binary_classification_weighted_cross_entropy_objective\": {\"count\": 1, \"max\": 1.3303639831542968, \"sum\": 1.3303639831542968, \"min\": 1.3303639831542968}}, \"EndTime\": 1565532604.803141, \"Dimensions\": {\"model\": 0, \"Host\": \"algo-1\", \"Operation\": \"training\", \"Algorithm\": \"Linear Learner\", \"epoch\": 6}, \"StartTime\": 1565532604.803057}\n",
      "\u001b[0m\n",
      "\u001b[31m#metrics {\"Metrics\": {\"train_binary_classification_weighted_cross_entropy_objective\": {\"count\": 1, \"max\": 1.3307145805358886, \"sum\": 1.3307145805358886, \"min\": 1.3307145805358886}}, \"EndTime\": 1565532604.803234, \"Dimensions\": {\"model\": 1, \"Host\": \"algo-1\", \"Operation\": \"training\", \"Algorithm\": \"Linear Learner\", \"epoch\": 6}, \"StartTime\": 1565532604.803214}\n",
      "\u001b[0m\n",
      "\u001b[31m#metrics {\"Metrics\": {\"train_binary_classification_weighted_cross_entropy_objective\": {\"count\": 1, \"max\": 1.3302295169830323, \"sum\": 1.3302295169830323, \"min\": 1.3302295169830323}}, \"EndTime\": 1565532604.803303, \"Dimensions\": {\"model\": 2, \"Host\": \"algo-1\", \"Operation\": \"training\", \"Algorithm\": \"Linear Learner\", \"epoch\": 6}, \"StartTime\": 1565532604.803284}\n",
      "\u001b[0m\n",
      "\u001b[31m#metrics {\"Metrics\": {\"train_binary_classification_weighted_cross_entropy_objective\": {\"count\": 1, \"max\": 1.3308502197265626, \"sum\": 1.3308502197265626, \"min\": 1.3308502197265626}}, \"EndTime\": 1565532604.803372, \"Dimensions\": {\"model\": 3, \"Host\": \"algo-1\", \"Operation\": \"training\", \"Algorithm\": \"Linear Learner\", \"epoch\": 6}, \"StartTime\": 1565532604.803355}\n",
      "\u001b[0m\n",
      "\u001b[31m#metrics {\"Metrics\": {\"train_binary_classification_weighted_cross_entropy_objective\": {\"count\": 1, \"max\": 1.3877794551849365, \"sum\": 1.3877794551849365, \"min\": 1.3877794551849365}}, \"EndTime\": 1565532604.803436, \"Dimensions\": {\"model\": 4, \"Host\": \"algo-1\", \"Operation\": \"training\", \"Algorithm\": \"Linear Learner\", \"epoch\": 6}, \"StartTime\": 1565532604.803418}\n",
      "\u001b[0m\n",
      "\u001b[31m#metrics {\"Metrics\": {\"train_binary_classification_weighted_cross_entropy_objective\": {\"count\": 1, \"max\": 1.4018153629302978, \"sum\": 1.4018153629302978, \"min\": 1.4018153629302978}}, \"EndTime\": 1565532604.8035, \"Dimensions\": {\"model\": 5, \"Host\": \"algo-1\", \"Operation\": \"training\", \"Algorithm\": \"Linear Learner\", \"epoch\": 6}, \"StartTime\": 1565532604.803483}\n",
      "\u001b[0m\n",
      "\u001b[31m#metrics {\"Metrics\": {\"train_binary_classification_weighted_cross_entropy_objective\": {\"count\": 1, \"max\": 1.3877962799072265, \"sum\": 1.3877962799072265, \"min\": 1.3877962799072265}}, \"EndTime\": 1565532604.803562, \"Dimensions\": {\"model\": 6, \"Host\": \"algo-1\", \"Operation\": \"training\", \"Algorithm\": \"Linear Learner\", \"epoch\": 6}, \"StartTime\": 1565532604.803544}\n",
      "\u001b[0m\n",
      "\u001b[31m#metrics {\"Metrics\": {\"train_binary_classification_weighted_cross_entropy_objective\": {\"count\": 1, \"max\": 1.4018730430603028, \"sum\": 1.4018730430603028, \"min\": 1.4018730430603028}}, \"EndTime\": 1565532604.803622, \"Dimensions\": {\"model\": 7, \"Host\": \"algo-1\", \"Operation\": \"training\", \"Algorithm\": \"Linear Learner\", \"epoch\": 6}, \"StartTime\": 1565532604.803604}\n",
      "\u001b[0m\n",
      "\u001b[31m#metrics {\"Metrics\": {\"train_binary_classification_weighted_cross_entropy_objective\": {\"count\": 1, \"max\": 1.3311120662689209, \"sum\": 1.3311120662689209, \"min\": 1.3311120662689209}}, \"EndTime\": 1565532604.803682, \"Dimensions\": {\"model\": 8, \"Host\": \"algo-1\", \"Operation\": \"training\", \"Algorithm\": \"Linear Learner\", \"epoch\": 6}, \"StartTime\": 1565532604.803665}\n",
      "\u001b[0m\n",
      "\u001b[31m#metrics {\"Metrics\": {\"train_binary_classification_weighted_cross_entropy_objective\": {\"count\": 1, \"max\": 1.3305469760894775, \"sum\": 1.3305469760894775, \"min\": 1.3305469760894775}}, \"EndTime\": 1565532604.803743, \"Dimensions\": {\"model\": 9, \"Host\": \"algo-1\", \"Operation\": \"training\", \"Algorithm\": \"Linear Learner\", \"epoch\": 6}, \"StartTime\": 1565532604.803726}\n",
      "\u001b[0m\n",
      "\u001b[31m#metrics {\"Metrics\": {\"train_binary_classification_weighted_cross_entropy_objective\": {\"count\": 1, \"max\": 1.3307956943511963, \"sum\": 1.3307956943511963, \"min\": 1.3307956943511963}}, \"EndTime\": 1565532604.803802, \"Dimensions\": {\"model\": 10, \"Host\": \"algo-1\", \"Operation\": \"training\", \"Algorithm\": \"Linear Learner\", \"epoch\": 6}, \"StartTime\": 1565532604.803785}\n",
      "\u001b[0m\n",
      "\u001b[31m#metrics {\"Metrics\": {\"train_binary_classification_weighted_cross_entropy_objective\": {\"count\": 1, \"max\": 1.330801073074341, \"sum\": 1.330801073074341, \"min\": 1.330801073074341}}, \"EndTime\": 1565532604.803863, \"Dimensions\": {\"model\": 11, \"Host\": \"algo-1\", \"Operation\": \"training\", \"Algorithm\": \"Linear Learner\", \"epoch\": 6}, \"StartTime\": 1565532604.803846}\n",
      "\u001b[0m\n",
      "\u001b[31m#metrics {\"Metrics\": {\"train_binary_classification_weighted_cross_entropy_objective\": {\"count\": 1, \"max\": 1.3871321964263916, \"sum\": 1.3871321964263916, \"min\": 1.3871321964263916}}, \"EndTime\": 1565532604.803965, \"Dimensions\": {\"model\": 12, \"Host\": \"algo-1\", \"Operation\": \"training\", \"Algorithm\": \"Linear Learner\", \"epoch\": 6}, \"StartTime\": 1565532604.803946}\n",
      "\u001b[0m\n",
      "\u001b[31m#metrics {\"Metrics\": {\"train_binary_classification_weighted_cross_entropy_objective\": {\"count\": 1, \"max\": 1.4011013317108154, \"sum\": 1.4011013317108154, \"min\": 1.4011013317108154}}, \"EndTime\": 1565532604.804023, \"Dimensions\": {\"model\": 13, \"Host\": \"algo-1\", \"Operation\": \"training\", \"Algorithm\": \"Linear Learner\", \"epoch\": 6}, \"StartTime\": 1565532604.804008}\n",
      "\u001b[0m\n",
      "\u001b[31m#metrics {\"Metrics\": {\"train_binary_classification_weighted_cross_entropy_objective\": {\"count\": 1, \"max\": 1.3872915840148925, \"sum\": 1.3872915840148925, \"min\": 1.3872915840148925}}, \"EndTime\": 1565532604.804078, \"Dimensions\": {\"model\": 14, \"Host\": \"algo-1\", \"Operation\": \"training\", \"Algorithm\": \"Linear Learner\", \"epoch\": 6}, \"StartTime\": 1565532604.804063}\n",
      "\u001b[0m\n",
      "\u001b[31m#metrics {\"Metrics\": {\"train_binary_classification_weighted_cross_entropy_objective\": {\"count\": 1, \"max\": 1.401252504348755, \"sum\": 1.401252504348755, \"min\": 1.401252504348755}}, \"EndTime\": 1565532604.804136, \"Dimensions\": {\"model\": 15, \"Host\": \"algo-1\", \"Operation\": \"training\", \"Algorithm\": \"Linear Learner\", \"epoch\": 6}, \"StartTime\": 1565532604.804119}\n",
      "\u001b[0m\n",
      "\u001b[31m#metrics {\"Metrics\": {\"train_binary_classification_weighted_cross_entropy_objective\": {\"count\": 1, \"max\": 1.3647663955688476, \"sum\": 1.3647663955688476, \"min\": 1.3647663955688476}}, \"EndTime\": 1565532604.804196, \"Dimensions\": {\"model\": 16, \"Host\": \"algo-1\", \"Operation\": \"training\", \"Algorithm\": \"Linear Learner\", \"epoch\": 6}, \"StartTime\": 1565532604.804179}\n",
      "\u001b[0m\n",
      "\u001b[31m#metrics {\"Metrics\": {\"train_binary_classification_weighted_cross_entropy_objective\": {\"count\": 1, \"max\": 1.3656759929656983, \"sum\": 1.3656759929656983, \"min\": 1.3656759929656983}}, \"EndTime\": 1565532604.804254, \"Dimensions\": {\"model\": 17, \"Host\": \"algo-1\", \"Operation\": \"training\", \"Algorithm\": \"Linear Learner\", \"epoch\": 6}, \"StartTime\": 1565532604.804237}\n",
      "\u001b[0m\n",
      "\u001b[31m#metrics {\"Metrics\": {\"train_binary_classification_weighted_cross_entropy_objective\": {\"count\": 1, \"max\": 1.364759120941162, \"sum\": 1.364759120941162, \"min\": 1.364759120941162}}, \"EndTime\": 1565532604.804311, \"Dimensions\": {\"model\": 18, \"Host\": \"algo-1\", \"Operation\": \"training\", \"Algorithm\": \"Linear Learner\", \"epoch\": 6}, \"StartTime\": 1565532604.804294}\n",
      "\u001b[0m\n",
      "\u001b[31m#metrics {\"Metrics\": {\"train_binary_classification_weighted_cross_entropy_objective\": {\"count\": 1, \"max\": 1.3656727333068848, \"sum\": 1.3656727333068848, \"min\": 1.3656727333068848}}, \"EndTime\": 1565532604.804411, \"Dimensions\": {\"model\": 19, \"Host\": \"algo-1\", \"Operation\": \"training\", \"Algorithm\": \"Linear Learner\", \"epoch\": 6}, \"StartTime\": 1565532604.80439}\n",
      "\u001b[0m\n",
      "\u001b[31m#metrics {\"Metrics\": {\"train_binary_classification_weighted_cross_entropy_objective\": {\"count\": 1, \"max\": 1.391719530105591, \"sum\": 1.391719530105591, \"min\": 1.391719530105591}}, \"EndTime\": 1565532604.804477, \"Dimensions\": {\"model\": 20, \"Host\": \"algo-1\", \"Operation\": \"training\", \"Algorithm\": \"Linear Learner\", \"epoch\": 6}, \"StartTime\": 1565532604.804459}\n",
      "\u001b[0m\n",
      "\u001b[31m#metrics {\"Metrics\": {\"train_binary_classification_weighted_cross_entropy_objective\": {\"count\": 1, \"max\": 1.404184862136841, \"sum\": 1.404184862136841, \"min\": 1.404184862136841}}, \"EndTime\": 1565532604.804545, \"Dimensions\": {\"model\": 21, \"Host\": \"algo-1\", \"Operation\": \"training\", \"Algorithm\": \"Linear Learner\", \"epoch\": 6}, \"StartTime\": 1565532604.804527}\n",
      "\u001b[0m\n",
      "\u001b[31m#metrics {\"Metrics\": {\"train_binary_classification_weighted_cross_entropy_objective\": {\"count\": 1, \"max\": 1.3917226123809814, \"sum\": 1.3917226123809814, \"min\": 1.3917226123809814}}, \"EndTime\": 1565532604.804606, \"Dimensions\": {\"model\": 22, \"Host\": \"algo-1\", \"Operation\": \"training\", \"Algorithm\": \"Linear Learner\", \"epoch\": 6}, \"StartTime\": 1565532604.804589}\n",
      "\u001b[0m\n",
      "\u001b[31m#metrics {\"Metrics\": {\"train_binary_classification_weighted_cross_entropy_objective\": {\"count\": 1, \"max\": 1.4040978412628173, \"sum\": 1.4040978412628173, \"min\": 1.4040978412628173}}, \"EndTime\": 1565532604.804668, \"Dimensions\": {\"model\": 23, \"Host\": \"algo-1\", \"Operation\": \"training\", \"Algorithm\": \"Linear Learner\", \"epoch\": 6}, \"StartTime\": 1565532604.804651}\n",
      "\u001b[0m\n",
      "\u001b[31m#metrics {\"Metrics\": {\"train_binary_classification_weighted_cross_entropy_objective\": {\"count\": 1, \"max\": 1.3995325870513915, \"sum\": 1.3995325870513915, \"min\": 1.3995325870513915}}, \"EndTime\": 1565532604.804731, \"Dimensions\": {\"model\": 24, \"Host\": \"algo-1\", \"Operation\": \"training\", \"Algorithm\": \"Linear Learner\", \"epoch\": 6}, \"StartTime\": 1565532604.804714}\n",
      "\u001b[0m\n",
      "\u001b[31m#metrics {\"Metrics\": {\"train_binary_classification_weighted_cross_entropy_objective\": {\"count\": 1, \"max\": 1.399924560546875, \"sum\": 1.399924560546875, \"min\": 1.399924560546875}}, \"EndTime\": 1565532604.804792, \"Dimensions\": {\"model\": 25, \"Host\": \"algo-1\", \"Operation\": \"training\", \"Algorithm\": \"Linear Learner\", \"epoch\": 6}, \"StartTime\": 1565532604.804774}\n",
      "\u001b[0m\n",
      "\u001b[31m#metrics {\"Metrics\": {\"train_binary_classification_weighted_cross_entropy_objective\": {\"count\": 1, \"max\": 1.3993866653442384, \"sum\": 1.3993866653442384, \"min\": 1.3993866653442384}}, \"EndTime\": 1565532604.804854, \"Dimensions\": {\"model\": 26, \"Host\": \"algo-1\", \"Operation\": \"training\", \"Algorithm\": \"Linear Learner\", \"epoch\": 6}, \"StartTime\": 1565532604.804838}\n",
      "\u001b[0m\n",
      "\u001b[31m#metrics {\"Metrics\": {\"train_binary_classification_weighted_cross_entropy_objective\": {\"count\": 1, \"max\": 1.399888370513916, \"sum\": 1.399888370513916, \"min\": 1.399888370513916}}, \"EndTime\": 1565532604.804923, \"Dimensions\": {\"model\": 27, \"Host\": \"algo-1\", \"Operation\": \"training\", \"Algorithm\": \"Linear Learner\", \"epoch\": 6}, \"StartTime\": 1565532604.804906}\n",
      "\u001b[0m\n",
      "\u001b[31m#metrics {\"Metrics\": {\"train_binary_classification_weighted_cross_entropy_objective\": {\"count\": 1, \"max\": 1.4086996994018555, \"sum\": 1.4086996994018555, \"min\": 1.4086996994018555}}, \"EndTime\": 1565532604.804978, \"Dimensions\": {\"model\": 28, \"Host\": \"algo-1\", \"Operation\": \"training\", \"Algorithm\": \"Linear Learner\", \"epoch\": 6}, \"StartTime\": 1565532604.804963}\n",
      "\u001b[0m\n",
      "\u001b[31m#metrics {\"Metrics\": {\"train_binary_classification_weighted_cross_entropy_objective\": {\"count\": 1, \"max\": 1.4127111854553223, \"sum\": 1.4127111854553223, \"min\": 1.4127111854553223}}, \"EndTime\": 1565532604.805034, \"Dimensions\": {\"model\": 29, \"Host\": \"algo-1\", \"Operation\": \"training\", \"Algorithm\": \"Linear Learner\", \"epoch\": 6}, \"StartTime\": 1565532604.805018}\n",
      "\u001b[0m\n",
      "\u001b[31m#metrics {\"Metrics\": {\"train_binary_classification_weighted_cross_entropy_objective\": {\"count\": 1, \"max\": 1.4083764801025391, \"sum\": 1.4083764801025391, \"min\": 1.4083764801025391}}, \"EndTime\": 1565532604.805087, \"Dimensions\": {\"model\": 30, \"Host\": \"algo-1\", \"Operation\": \"training\", \"Algorithm\": \"Linear Learner\", \"epoch\": 6}, \"StartTime\": 1565532604.805075}\n",
      "\u001b[0m\n",
      "\u001b[31m#metrics {\"Metrics\": {\"train_binary_classification_weighted_cross_entropy_objective\": {\"count\": 1, \"max\": 1.412064895629883, \"sum\": 1.412064895629883, \"min\": 1.412064895629883}}, \"EndTime\": 1565532604.805139, \"Dimensions\": {\"model\": 31, \"Host\": \"algo-1\", \"Operation\": \"training\", \"Algorithm\": \"Linear Learner\", \"epoch\": 6}, \"StartTime\": 1565532604.805123}\n",
      "\u001b[0m\n",
      "\u001b[31m[08/11/2019 14:10:04 INFO 140680134403904] #quality_metric: host=algo-1, epoch=6, train binary_classification_weighted_cross_entropy_objective <loss>=1.33036398315\u001b[0m\n",
      "\u001b[31m[08/11/2019 14:10:04 INFO 140680134403904] #early_stopping_criteria_metric: host=algo-1, epoch=6, criteria=binary_classification_weighted_cross_entropy_objective, value=1.33022951698\u001b[0m\n",
      "\u001b[31m[08/11/2019 14:10:04 INFO 140680134403904] #progress_metric: host=algo-1, completed 35 % of epochs\u001b[0m\n",
      "\u001b[31m#metrics {\"Metrics\": {\"Max Batches Seen Between Resets\": {\"count\": 1, \"max\": 33, \"sum\": 33.0, \"min\": 33}, \"Number of Batches Since Last Reset\": {\"count\": 1, \"max\": 33, \"sum\": 33.0, \"min\": 33}, \"Number of Records Since Last Reset\": {\"count\": 1, \"max\": 32221, \"sum\": 32221.0, \"min\": 32221}, \"Total Batches Seen\": {\"count\": 1, \"max\": 243, \"sum\": 243.0, \"min\": 243}, \"Total Records Seen\": {\"count\": 1, \"max\": 237547, \"sum\": 237547.0, \"min\": 237547}, \"Max Records Seen Between Resets\": {\"count\": 1, \"max\": 32221, \"sum\": 32221.0, \"min\": 32221}, \"Reset Count\": {\"count\": 1, \"max\": 9, \"sum\": 9.0, \"min\": 9}}, \"EndTime\": 1565532604.807041, \"Dimensions\": {\"Host\": \"algo-1\", \"Meta\": \"training_data_iter\", \"Operation\": \"training\", \"Algorithm\": \"Linear Learner\", \"epoch\": 6}, \"StartTime\": 1565532603.561449}\n",
      "\u001b[0m\n",
      "\u001b[31m[08/11/2019 14:10:04 INFO 140680134403904] #throughput_metric: host=algo-1, train throughput=25865.7163601 records/second\u001b[0m\n",
      "\u001b[31m[2019-08-11 14:10:05.976] [tensorio] [info] epoch_stats={\"data_pipeline\": \"/opt/ml/input/data/train\", \"epoch\": 17, \"duration\": 1169, \"num_examples\": 33, \"num_bytes\": 3479868}\u001b[0m\n",
      "\u001b[31m#metrics {\"Metrics\": {\"train_binary_classification_weighted_cross_entropy_objective\": {\"count\": 1, \"max\": 1.3296842708587646, \"sum\": 1.3296842708587646, \"min\": 1.3296842708587646}}, \"EndTime\": 1565532605.976853, \"Dimensions\": {\"model\": 0, \"Host\": \"algo-1\", \"Operation\": \"training\", \"Algorithm\": \"Linear Learner\", \"epoch\": 7}, \"StartTime\": 1565532605.976765}\n",
      "\u001b[0m\n",
      "\u001b[31m#metrics {\"Metrics\": {\"train_binary_classification_weighted_cross_entropy_objective\": {\"count\": 1, \"max\": 1.3302058658599853, \"sum\": 1.3302058658599853, \"min\": 1.3302058658599853}}, \"EndTime\": 1565532605.97694, \"Dimensions\": {\"model\": 1, \"Host\": \"algo-1\", \"Operation\": \"training\", \"Algorithm\": \"Linear Learner\", \"epoch\": 7}, \"StartTime\": 1565532605.97692}\n",
      "\u001b[0m\n",
      "\u001b[31m#metrics {\"Metrics\": {\"train_binary_classification_weighted_cross_entropy_objective\": {\"count\": 1, \"max\": 1.3295492057800293, \"sum\": 1.3295492057800293, \"min\": 1.3295492057800293}}, \"EndTime\": 1565532605.976999, \"Dimensions\": {\"model\": 2, \"Host\": \"algo-1\", \"Operation\": \"training\", \"Algorithm\": \"Linear Learner\", \"epoch\": 7}, \"StartTime\": 1565532605.976982}\n",
      "\u001b[0m\n",
      "\u001b[31m#metrics {\"Metrics\": {\"train_binary_classification_weighted_cross_entropy_objective\": {\"count\": 1, \"max\": 1.3303150730133058, \"sum\": 1.3303150730133058, \"min\": 1.3303150730133058}}, \"EndTime\": 1565532605.977063, \"Dimensions\": {\"model\": 3, \"Host\": \"algo-1\", \"Operation\": \"training\", \"Algorithm\": \"Linear Learner\", \"epoch\": 7}, \"StartTime\": 1565532605.977046}\n",
      "\u001b[0m\n",
      "\u001b[31m#metrics {\"Metrics\": {\"train_binary_classification_weighted_cross_entropy_objective\": {\"count\": 1, \"max\": 1.386027774810791, \"sum\": 1.386027774810791, \"min\": 1.386027774810791}}, \"EndTime\": 1565532605.977118, \"Dimensions\": {\"model\": 4, \"Host\": \"algo-1\", \"Operation\": \"training\", \"Algorithm\": \"Linear Learner\", \"epoch\": 7}, \"StartTime\": 1565532605.977101}\n",
      "\u001b[0m\n",
      "\u001b[31m#metrics {\"Metrics\": {\"train_binary_classification_weighted_cross_entropy_objective\": {\"count\": 1, \"max\": 1.401494155883789, \"sum\": 1.401494155883789, \"min\": 1.401494155883789}}, \"EndTime\": 1565532605.977179, \"Dimensions\": {\"model\": 5, \"Host\": \"algo-1\", \"Operation\": \"training\", \"Algorithm\": \"Linear Learner\", \"epoch\": 7}, \"StartTime\": 1565532605.977162}\n",
      "\u001b[0m\n",
      "\u001b[31m#metrics {\"Metrics\": {\"train_binary_classification_weighted_cross_entropy_objective\": {\"count\": 1, \"max\": 1.3860697078704833, \"sum\": 1.3860697078704833, \"min\": 1.3860697078704833}}, \"EndTime\": 1565532605.977242, \"Dimensions\": {\"model\": 6, \"Host\": \"algo-1\", \"Operation\": \"training\", \"Algorithm\": \"Linear Learner\", \"epoch\": 7}, \"StartTime\": 1565532605.977225}\n",
      "\u001b[0m\n",
      "\u001b[31m#metrics {\"Metrics\": {\"train_binary_classification_weighted_cross_entropy_objective\": {\"count\": 1, \"max\": 1.4015401611328124, \"sum\": 1.4015401611328124, \"min\": 1.4015401611328124}}, \"EndTime\": 1565532605.977294, \"Dimensions\": {\"model\": 7, \"Host\": \"algo-1\", \"Operation\": \"training\", \"Algorithm\": \"Linear Learner\", \"epoch\": 7}, \"StartTime\": 1565532605.977279}\n",
      "\u001b[0m\n",
      "\u001b[31m#metrics {\"Metrics\": {\"train_binary_classification_weighted_cross_entropy_objective\": {\"count\": 1, \"max\": 1.3302771129608155, \"sum\": 1.3302771129608155, \"min\": 1.3302771129608155}}, \"EndTime\": 1565532605.977348, \"Dimensions\": {\"model\": 8, \"Host\": \"algo-1\", \"Operation\": \"training\", \"Algorithm\": \"Linear Learner\", \"epoch\": 7}, \"StartTime\": 1565532605.977333}\n",
      "\u001b[0m\n",
      "\u001b[31m#metrics {\"Metrics\": {\"train_binary_classification_weighted_cross_entropy_objective\": {\"count\": 1, \"max\": 1.3301130523681641, \"sum\": 1.3301130523681641, \"min\": 1.3301130523681641}}, \"EndTime\": 1565532605.977407, \"Dimensions\": {\"model\": 9, \"Host\": \"algo-1\", \"Operation\": \"training\", \"Algorithm\": \"Linear Learner\", \"epoch\": 7}, \"StartTime\": 1565532605.977389}\n",
      "\u001b[0m\n",
      "\u001b[31m#metrics {\"Metrics\": {\"train_binary_classification_weighted_cross_entropy_objective\": {\"count\": 1, \"max\": 1.3300598373413086, \"sum\": 1.3300598373413086, \"min\": 1.3300598373413086}}, \"EndTime\": 1565532605.977483, \"Dimensions\": {\"model\": 10, \"Host\": \"algo-1\", \"Operation\": \"training\", \"Algorithm\": \"Linear Learner\", \"epoch\": 7}, \"StartTime\": 1565532605.977466}\n",
      "\u001b[0m\n",
      "\u001b[31m#metrics {\"Metrics\": {\"train_binary_classification_weighted_cross_entropy_objective\": {\"count\": 1, \"max\": 1.3303340911865233, \"sum\": 1.3303340911865233, \"min\": 1.3303340911865233}}, \"EndTime\": 1565532605.977546, \"Dimensions\": {\"model\": 11, \"Host\": \"algo-1\", \"Operation\": \"training\", \"Algorithm\": \"Linear Learner\", \"epoch\": 7}, \"StartTime\": 1565532605.977529}\n",
      "\u001b[0m\n",
      "\u001b[31m#metrics {\"Metrics\": {\"train_binary_classification_weighted_cross_entropy_objective\": {\"count\": 1, \"max\": 1.3853677635192871, \"sum\": 1.3853677635192871, \"min\": 1.3853677635192871}}, \"EndTime\": 1565532605.977629, \"Dimensions\": {\"model\": 12, \"Host\": \"algo-1\", \"Operation\": \"training\", \"Algorithm\": \"Linear Learner\", \"epoch\": 7}, \"StartTime\": 1565532605.977609}\n",
      "\u001b[0m\n",
      "\u001b[31m#metrics {\"Metrics\": {\"train_binary_classification_weighted_cross_entropy_objective\": {\"count\": 1, \"max\": 1.4008222312927245, \"sum\": 1.4008222312927245, \"min\": 1.4008222312927245}}, \"EndTime\": 1565532605.97769, \"Dimensions\": {\"model\": 13, \"Host\": \"algo-1\", \"Operation\": \"training\", \"Algorithm\": \"Linear Learner\", \"epoch\": 7}, \"StartTime\": 1565532605.977673}\n",
      "\u001b[0m\n",
      "\u001b[31m#metrics {\"Metrics\": {\"train_binary_classification_weighted_cross_entropy_objective\": {\"count\": 1, \"max\": 1.385545587539673, \"sum\": 1.385545587539673, \"min\": 1.385545587539673}}, \"EndTime\": 1565532605.97774, \"Dimensions\": {\"model\": 14, \"Host\": \"algo-1\", \"Operation\": \"training\", \"Algorithm\": \"Linear Learner\", \"epoch\": 7}, \"StartTime\": 1565532605.977725}\n",
      "\u001b[0m\n",
      "\u001b[31m#metrics {\"Metrics\": {\"train_binary_classification_weighted_cross_entropy_objective\": {\"count\": 1, \"max\": 1.4009407653808594, \"sum\": 1.4009407653808594, \"min\": 1.4009407653808594}}, \"EndTime\": 1565532605.977798, \"Dimensions\": {\"model\": 15, \"Host\": \"algo-1\", \"Operation\": \"training\", \"Algorithm\": \"Linear Learner\", \"epoch\": 7}, \"StartTime\": 1565532605.977781}\n",
      "\u001b[0m\n",
      "\u001b[31m#metrics {\"Metrics\": {\"train_binary_classification_weighted_cross_entropy_objective\": {\"count\": 1, \"max\": 1.364633005142212, \"sum\": 1.364633005142212, \"min\": 1.364633005142212}}, \"EndTime\": 1565532605.977864, \"Dimensions\": {\"model\": 16, \"Host\": \"algo-1\", \"Operation\": \"training\", \"Algorithm\": \"Linear Learner\", \"epoch\": 7}, \"StartTime\": 1565532605.977845}\n",
      "\u001b[0m\n",
      "\u001b[31m#metrics {\"Metrics\": {\"train_binary_classification_weighted_cross_entropy_objective\": {\"count\": 1, \"max\": 1.3656612873077392, \"sum\": 1.3656612873077392, \"min\": 1.3656612873077392}}, \"EndTime\": 1565532605.977925, \"Dimensions\": {\"model\": 17, \"Host\": \"algo-1\", \"Operation\": \"training\", \"Algorithm\": \"Linear Learner\", \"epoch\": 7}, \"StartTime\": 1565532605.977908}\n",
      "\u001b[0m\n",
      "\u001b[31m#metrics {\"Metrics\": {\"train_binary_classification_weighted_cross_entropy_objective\": {\"count\": 1, \"max\": 1.364626962661743, \"sum\": 1.364626962661743, \"min\": 1.364626962661743}}, \"EndTime\": 1565532605.977982, \"Dimensions\": {\"model\": 18, \"Host\": \"algo-1\", \"Operation\": \"training\", \"Algorithm\": \"Linear Learner\", \"epoch\": 7}, \"StartTime\": 1565532605.977966}\n",
      "\u001b[0m\n",
      "\u001b[31m#metrics {\"Metrics\": {\"train_binary_classification_weighted_cross_entropy_objective\": {\"count\": 1, \"max\": 1.3656586227416991, \"sum\": 1.3656586227416991, \"min\": 1.3656586227416991}}, \"EndTime\": 1565532605.978043, \"Dimensions\": {\"model\": 19, \"Host\": \"algo-1\", \"Operation\": \"training\", \"Algorithm\": \"Linear Learner\", \"epoch\": 7}, \"StartTime\": 1565532605.978027}\n",
      "\u001b[0m\n",
      "\u001b[31m#metrics {\"Metrics\": {\"train_binary_classification_weighted_cross_entropy_objective\": {\"count\": 1, \"max\": 1.39047562789917, \"sum\": 1.39047562789917, \"min\": 1.39047562789917}}, \"EndTime\": 1565532605.978101, \"Dimensions\": {\"model\": 20, \"Host\": \"algo-1\", \"Operation\": \"training\", \"Algorithm\": \"Linear Learner\", \"epoch\": 7}, \"StartTime\": 1565532605.978085}\n",
      "\u001b[0m\n",
      "\u001b[31m#metrics {\"Metrics\": {\"train_binary_classification_weighted_cross_entropy_objective\": {\"count\": 1, \"max\": 1.4037722816467286, \"sum\": 1.4037722816467286, \"min\": 1.4037722816467286}}, \"EndTime\": 1565532605.978161, \"Dimensions\": {\"model\": 21, \"Host\": \"algo-1\", \"Operation\": \"training\", \"Algorithm\": \"Linear Learner\", \"epoch\": 7}, \"StartTime\": 1565532605.978144}\n",
      "\u001b[0m\n",
      "\u001b[31m#metrics {\"Metrics\": {\"train_binary_classification_weighted_cross_entropy_objective\": {\"count\": 1, \"max\": 1.3904840564727783, \"sum\": 1.3904840564727783, \"min\": 1.3904840564727783}}, \"EndTime\": 1565532605.978221, \"Dimensions\": {\"model\": 22, \"Host\": \"algo-1\", \"Operation\": \"training\", \"Algorithm\": \"Linear Learner\", \"epoch\": 7}, \"StartTime\": 1565532605.978204}\n",
      "\u001b[0m\n",
      "\u001b[31m#metrics {\"Metrics\": {\"train_binary_classification_weighted_cross_entropy_objective\": {\"count\": 1, \"max\": 1.4037070426940919, \"sum\": 1.4037070426940919, \"min\": 1.4037070426940919}}, \"EndTime\": 1565532605.97828, \"Dimensions\": {\"model\": 23, \"Host\": \"algo-1\", \"Operation\": \"training\", \"Algorithm\": \"Linear Learner\", \"epoch\": 7}, \"StartTime\": 1565532605.978264}\n",
      "\u001b[0m\n",
      "\u001b[31m#metrics {\"Metrics\": {\"train_binary_classification_weighted_cross_entropy_objective\": {\"count\": 1, \"max\": 1.3994599571228028, \"sum\": 1.3994599571228028, \"min\": 1.3994599571228028}}, \"EndTime\": 1565532605.978339, \"Dimensions\": {\"model\": 24, \"Host\": \"algo-1\", \"Operation\": \"training\", \"Algorithm\": \"Linear Learner\", \"epoch\": 7}, \"StartTime\": 1565532605.978322}\n",
      "\u001b[0m\n",
      "\u001b[31m#metrics {\"Metrics\": {\"train_binary_classification_weighted_cross_entropy_objective\": {\"count\": 1, \"max\": 1.3998991260528564, \"sum\": 1.3998991260528564, \"min\": 1.3998991260528564}}, \"EndTime\": 1565532605.978397, \"Dimensions\": {\"model\": 25, \"Host\": \"algo-1\", \"Operation\": \"training\", \"Algorithm\": \"Linear Learner\", \"epoch\": 7}, \"StartTime\": 1565532605.97838}\n",
      "\u001b[0m\n",
      "\u001b[31m#metrics {\"Metrics\": {\"train_binary_classification_weighted_cross_entropy_objective\": {\"count\": 1, \"max\": 1.3993086986541747, \"sum\": 1.3993086986541747, \"min\": 1.3993086986541747}}, \"EndTime\": 1565532605.978463, \"Dimensions\": {\"model\": 26, \"Host\": \"algo-1\", \"Operation\": \"training\", \"Algorithm\": \"Linear Learner\", \"epoch\": 7}, \"StartTime\": 1565532605.978445}\n",
      "\u001b[0m\n",
      "\u001b[31m#metrics {\"Metrics\": {\"train_binary_classification_weighted_cross_entropy_objective\": {\"count\": 1, \"max\": 1.3998966064453124, \"sum\": 1.3998966064453124, \"min\": 1.3998966064453124}}, \"EndTime\": 1565532605.978524, \"Dimensions\": {\"model\": 27, \"Host\": \"algo-1\", \"Operation\": \"training\", \"Algorithm\": \"Linear Learner\", \"epoch\": 7}, \"StartTime\": 1565532605.978508}\n",
      "\u001b[0m\n",
      "\u001b[31m#metrics {\"Metrics\": {\"train_binary_classification_weighted_cross_entropy_objective\": {\"count\": 1, \"max\": 1.408583812713623, \"sum\": 1.408583812713623, \"min\": 1.408583812713623}}, \"EndTime\": 1565532605.978581, \"Dimensions\": {\"model\": 28, \"Host\": \"algo-1\", \"Operation\": \"training\", \"Algorithm\": \"Linear Learner\", \"epoch\": 7}, \"StartTime\": 1565532605.978564}\n",
      "\u001b[0m\n",
      "\u001b[31m#metrics {\"Metrics\": {\"train_binary_classification_weighted_cross_entropy_objective\": {\"count\": 1, \"max\": 1.4128489227294923, \"sum\": 1.4128489227294923, \"min\": 1.4128489227294923}}, \"EndTime\": 1565532605.978642, \"Dimensions\": {\"model\": 29, \"Host\": \"algo-1\", \"Operation\": \"training\", \"Algorithm\": \"Linear Learner\", \"epoch\": 7}, \"StartTime\": 1565532605.978625}\n",
      "\u001b[0m\n",
      "\u001b[31m#metrics {\"Metrics\": {\"train_binary_classification_weighted_cross_entropy_objective\": {\"count\": 1, \"max\": 1.4082604866027832, \"sum\": 1.4082604866027832, \"min\": 1.4082604866027832}}, \"EndTime\": 1565532605.978705, \"Dimensions\": {\"model\": 30, \"Host\": \"algo-1\", \"Operation\": \"training\", \"Algorithm\": \"Linear Learner\", \"epoch\": 7}, \"StartTime\": 1565532605.978687}\n",
      "\u001b[0m\n",
      "\u001b[31m#metrics {\"Metrics\": {\"train_binary_classification_weighted_cross_entropy_objective\": {\"count\": 1, \"max\": 1.4122128448486329, \"sum\": 1.4122128448486329, \"min\": 1.4122128448486329}}, \"EndTime\": 1565532605.978774, \"Dimensions\": {\"model\": 31, \"Host\": \"algo-1\", \"Operation\": \"training\", \"Algorithm\": \"Linear Learner\", \"epoch\": 7}, \"StartTime\": 1565532605.978756}\n",
      "\u001b[0m\n",
      "\u001b[31m[08/11/2019 14:10:05 INFO 140680134403904] #quality_metric: host=algo-1, epoch=7, train binary_classification_weighted_cross_entropy_objective <loss>=1.32968427086\u001b[0m\n",
      "\u001b[31m[08/11/2019 14:10:05 INFO 140680134403904] #early_stopping_criteria_metric: host=algo-1, epoch=7, criteria=binary_classification_weighted_cross_entropy_objective, value=1.32954920578\u001b[0m\n",
      "\u001b[31m[08/11/2019 14:10:05 INFO 140680134403904] #progress_metric: host=algo-1, completed 40 % of epochs\u001b[0m\n",
      "\u001b[31m#metrics {\"Metrics\": {\"Max Batches Seen Between Resets\": {\"count\": 1, \"max\": 33, \"sum\": 33.0, \"min\": 33}, \"Number of Batches Since Last Reset\": {\"count\": 1, \"max\": 33, \"sum\": 33.0, \"min\": 33}, \"Number of Records Since Last Reset\": {\"count\": 1, \"max\": 32221, \"sum\": 32221.0, \"min\": 32221}, \"Total Batches Seen\": {\"count\": 1, \"max\": 276, \"sum\": 276.0, \"min\": 276}, \"Total Records Seen\": {\"count\": 1, \"max\": 269768, \"sum\": 269768.0, \"min\": 269768}, \"Max Records Seen Between Resets\": {\"count\": 1, \"max\": 32221, \"sum\": 32221.0, \"min\": 32221}, \"Reset Count\": {\"count\": 1, \"max\": 10, \"sum\": 10.0, \"min\": 10}}, \"EndTime\": 1565532605.980758, \"Dimensions\": {\"Host\": \"algo-1\", \"Meta\": \"training_data_iter\", \"Operation\": \"training\", \"Algorithm\": \"Linear Learner\", \"epoch\": 7}, \"StartTime\": 1565532604.8074}\n",
      "\u001b[0m\n",
      "\u001b[31m[08/11/2019 14:10:05 INFO 140680134403904] #throughput_metric: host=algo-1, train throughput=27458.3494725 records/second\u001b[0m\n",
      "\u001b[31m[2019-08-11 14:10:06.930] [tensorio] [info] epoch_stats={\"data_pipeline\": \"/opt/ml/input/data/train\", \"epoch\": 19, \"duration\": 949, \"num_examples\": 33, \"num_bytes\": 3479868}\u001b[0m\n",
      "\u001b[31m#metrics {\"Metrics\": {\"train_binary_classification_weighted_cross_entropy_objective\": {\"count\": 1, \"max\": 1.3291791343688966, \"sum\": 1.3291791343688966, \"min\": 1.3291791343688966}}, \"EndTime\": 1565532606.930558, \"Dimensions\": {\"model\": 0, \"Host\": \"algo-1\", \"Operation\": \"training\", \"Algorithm\": \"Linear Learner\", \"epoch\": 8}, \"StartTime\": 1565532606.930466}\n",
      "\u001b[0m\n",
      "\u001b[31m#metrics {\"Metrics\": {\"train_binary_classification_weighted_cross_entropy_objective\": {\"count\": 1, \"max\": 1.3298798236846925, \"sum\": 1.3298798236846925, \"min\": 1.3298798236846925}}, \"EndTime\": 1565532606.930662, \"Dimensions\": {\"model\": 1, \"Host\": \"algo-1\", \"Operation\": \"training\", \"Algorithm\": \"Linear Learner\", \"epoch\": 8}, \"StartTime\": 1565532606.930639}\n",
      "\u001b[0m\n",
      "\u001b[31m#metrics {\"Metrics\": {\"train_binary_classification_weighted_cross_entropy_objective\": {\"count\": 1, \"max\": 1.3290565910339356, \"sum\": 1.3290565910339356, \"min\": 1.3290565910339356}}, \"EndTime\": 1565532606.930726, \"Dimensions\": {\"model\": 2, \"Host\": \"algo-1\", \"Operation\": \"training\", \"Algorithm\": \"Linear Learner\", \"epoch\": 8}, \"StartTime\": 1565532606.930708}\n",
      "\u001b[0m\n",
      "\u001b[31m#metrics {\"Metrics\": {\"train_binary_classification_weighted_cross_entropy_objective\": {\"count\": 1, \"max\": 1.3299668731689454, \"sum\": 1.3299668731689454, \"min\": 1.3299668731689454}}, \"EndTime\": 1565532606.930791, \"Dimensions\": {\"model\": 3, \"Host\": \"algo-1\", \"Operation\": \"training\", \"Algorithm\": \"Linear Learner\", \"epoch\": 8}, \"StartTime\": 1565532606.930773}\n",
      "\u001b[0m\n",
      "\u001b[31m#metrics {\"Metrics\": {\"train_binary_classification_weighted_cross_entropy_objective\": {\"count\": 1, \"max\": 1.3846227397918702, \"sum\": 1.3846227397918702, \"min\": 1.3846227397918702}}, \"EndTime\": 1565532606.930855, \"Dimensions\": {\"model\": 4, \"Host\": \"algo-1\", \"Operation\": \"training\", \"Algorithm\": \"Linear Learner\", \"epoch\": 8}, \"StartTime\": 1565532606.930837}\n",
      "\u001b[0m\n",
      "\u001b[31m#metrics {\"Metrics\": {\"train_binary_classification_weighted_cross_entropy_objective\": {\"count\": 1, \"max\": 1.4016504440307618, \"sum\": 1.4016504440307618, \"min\": 1.4016504440307618}}, \"EndTime\": 1565532606.93092, \"Dimensions\": {\"model\": 5, \"Host\": \"algo-1\", \"Operation\": \"training\", \"Algorithm\": \"Linear Learner\", \"epoch\": 8}, \"StartTime\": 1565532606.930903}\n",
      "\u001b[0m\n",
      "\u001b[31m#metrics {\"Metrics\": {\"train_binary_classification_weighted_cross_entropy_objective\": {\"count\": 1, \"max\": 1.3846872673034667, \"sum\": 1.3846872673034667, \"min\": 1.3846872673034667}}, \"EndTime\": 1565532606.930985, \"Dimensions\": {\"model\": 6, \"Host\": \"algo-1\", \"Operation\": \"training\", \"Algorithm\": \"Linear Learner\", \"epoch\": 8}, \"StartTime\": 1565532606.930967}\n",
      "\u001b[0m\n",
      "\u001b[31m#metrics {\"Metrics\": {\"train_binary_classification_weighted_cross_entropy_objective\": {\"count\": 1, \"max\": 1.4016885929107665, \"sum\": 1.4016885929107665, \"min\": 1.4016885929107665}}, \"EndTime\": 1565532606.931046, \"Dimensions\": {\"model\": 7, \"Host\": \"algo-1\", \"Operation\": \"training\", \"Algorithm\": \"Linear Learner\", \"epoch\": 8}, \"StartTime\": 1565532606.931029}\n",
      "\u001b[0m\n",
      "\u001b[31m#metrics {\"Metrics\": {\"train_binary_classification_weighted_cross_entropy_objective\": {\"count\": 1, \"max\": 1.3296690769195556, \"sum\": 1.3296690769195556, \"min\": 1.3296690769195556}}, \"EndTime\": 1565532606.931113, \"Dimensions\": {\"model\": 8, \"Host\": \"algo-1\", \"Operation\": \"training\", \"Algorithm\": \"Linear Learner\", \"epoch\": 8}, \"StartTime\": 1565532606.931095}\n",
      "\u001b[0m\n",
      "\u001b[31m#metrics {\"Metrics\": {\"train_binary_classification_weighted_cross_entropy_objective\": {\"count\": 1, \"max\": 1.3298474140167236, \"sum\": 1.3298474140167236, \"min\": 1.3298474140167236}}, \"EndTime\": 1565532606.931174, \"Dimensions\": {\"model\": 9, \"Host\": \"algo-1\", \"Operation\": \"training\", \"Algorithm\": \"Linear Learner\", \"epoch\": 8}, \"StartTime\": 1565532606.931158}\n",
      "\u001b[0m\n",
      "\u001b[31m#metrics {\"Metrics\": {\"train_binary_classification_weighted_cross_entropy_objective\": {\"count\": 1, \"max\": 1.3295130577087402, \"sum\": 1.3295130577087402, \"min\": 1.3295130577087402}}, \"EndTime\": 1565532606.931234, \"Dimensions\": {\"model\": 10, \"Host\": \"algo-1\", \"Operation\": \"training\", \"Algorithm\": \"Linear Learner\", \"epoch\": 8}, \"StartTime\": 1565532606.931217}\n",
      "\u001b[0m\n",
      "\u001b[31m#metrics {\"Metrics\": {\"train_binary_classification_weighted_cross_entropy_objective\": {\"count\": 1, \"max\": 1.3300308418273925, \"sum\": 1.3300308418273925, \"min\": 1.3300308418273925}}, \"EndTime\": 1565532606.931304, \"Dimensions\": {\"model\": 11, \"Host\": \"algo-1\", \"Operation\": \"training\", \"Algorithm\": \"Linear Learner\", \"epoch\": 8}, \"StartTime\": 1565532606.931288}\n",
      "\u001b[0m\n",
      "\u001b[31m#metrics {\"Metrics\": {\"train_binary_classification_weighted_cross_entropy_objective\": {\"count\": 1, \"max\": 1.38391841506958, \"sum\": 1.38391841506958, \"min\": 1.38391841506958}}, \"EndTime\": 1565532606.931365, \"Dimensions\": {\"model\": 12, \"Host\": \"algo-1\", \"Operation\": \"training\", \"Algorithm\": \"Linear Learner\", \"epoch\": 8}, \"StartTime\": 1565532606.931348}\n",
      "\u001b[0m\n",
      "\u001b[31m#metrics {\"Metrics\": {\"train_binary_classification_weighted_cross_entropy_objective\": {\"count\": 1, \"max\": 1.400999994277954, \"sum\": 1.400999994277954, \"min\": 1.400999994277954}}, \"EndTime\": 1565532606.931424, \"Dimensions\": {\"model\": 13, \"Host\": \"algo-1\", \"Operation\": \"training\", \"Algorithm\": \"Linear Learner\", \"epoch\": 8}, \"StartTime\": 1565532606.931407}\n",
      "\u001b[0m\n",
      "\u001b[31m#metrics {\"Metrics\": {\"train_binary_classification_weighted_cross_entropy_objective\": {\"count\": 1, \"max\": 1.3841178150177003, \"sum\": 1.3841178150177003, \"min\": 1.3841178150177003}}, \"EndTime\": 1565532606.931486, \"Dimensions\": {\"model\": 14, \"Host\": \"algo-1\", \"Operation\": \"training\", \"Algorithm\": \"Linear Learner\", \"epoch\": 8}, \"StartTime\": 1565532606.931469}\n",
      "\u001b[0m\n",
      "\u001b[31m#metrics {\"Metrics\": {\"train_binary_classification_weighted_cross_entropy_objective\": {\"count\": 1, \"max\": 1.4011042385101318, \"sum\": 1.4011042385101318, \"min\": 1.4011042385101318}}, \"EndTime\": 1565532606.931545, \"Dimensions\": {\"model\": 15, \"Host\": \"algo-1\", \"Operation\": \"training\", \"Algorithm\": \"Linear Learner\", \"epoch\": 8}, \"StartTime\": 1565532606.93153}\n",
      "\u001b[0m\n",
      "\u001b[31m#metrics {\"Metrics\": {\"train_binary_classification_weighted_cross_entropy_objective\": {\"count\": 1, \"max\": 1.364499837875366, \"sum\": 1.364499837875366, \"min\": 1.364499837875366}}, \"EndTime\": 1565532606.931604, \"Dimensions\": {\"model\": 16, \"Host\": \"algo-1\", \"Operation\": \"training\", \"Algorithm\": \"Linear Learner\", \"epoch\": 8}, \"StartTime\": 1565532606.931588}\n",
      "\u001b[0m\n",
      "\u001b[31m#metrics {\"Metrics\": {\"train_binary_classification_weighted_cross_entropy_objective\": {\"count\": 1, \"max\": 1.365666862487793, \"sum\": 1.365666862487793, \"min\": 1.365666862487793}}, \"EndTime\": 1565532606.931663, \"Dimensions\": {\"model\": 17, \"Host\": \"algo-1\", \"Operation\": \"training\", \"Algorithm\": \"Linear Learner\", \"epoch\": 8}, \"StartTime\": 1565532606.931647}\n",
      "\u001b[0m\n",
      "\u001b[31m#metrics {\"Metrics\": {\"train_binary_classification_weighted_cross_entropy_objective\": {\"count\": 1, \"max\": 1.3644946842193604, \"sum\": 1.3644946842193604, \"min\": 1.3644946842193604}}, \"EndTime\": 1565532606.931719, \"Dimensions\": {\"model\": 18, \"Host\": \"algo-1\", \"Operation\": \"training\", \"Algorithm\": \"Linear Learner\", \"epoch\": 8}, \"StartTime\": 1565532606.931703}\n",
      "\u001b[0m\n",
      "\u001b[31m#metrics {\"Metrics\": {\"train_binary_classification_weighted_cross_entropy_objective\": {\"count\": 1, \"max\": 1.3656644916534424, \"sum\": 1.3656644916534424, \"min\": 1.3656644916534424}}, \"EndTime\": 1565532606.931778, \"Dimensions\": {\"model\": 19, \"Host\": \"algo-1\", \"Operation\": \"training\", \"Algorithm\": \"Linear Learner\", \"epoch\": 8}, \"StartTime\": 1565532606.931762}\n",
      "\u001b[0m\n",
      "\u001b[31m#metrics {\"Metrics\": {\"train_binary_classification_weighted_cross_entropy_objective\": {\"count\": 1, \"max\": 1.3894172153472901, \"sum\": 1.3894172153472901, \"min\": 1.3894172153472901}}, \"EndTime\": 1565532606.931838, \"Dimensions\": {\"model\": 20, \"Host\": \"algo-1\", \"Operation\": \"training\", \"Algorithm\": \"Linear Learner\", \"epoch\": 8}, \"StartTime\": 1565532606.931821}\n",
      "\u001b[0m\n",
      "\u001b[31m#metrics {\"Metrics\": {\"train_binary_classification_weighted_cross_entropy_objective\": {\"count\": 1, \"max\": 1.4040520343780518, \"sum\": 1.4040520343780518, \"min\": 1.4040520343780518}}, \"EndTime\": 1565532606.931898, \"Dimensions\": {\"model\": 21, \"Host\": \"algo-1\", \"Operation\": \"training\", \"Algorithm\": \"Linear Learner\", \"epoch\": 8}, \"StartTime\": 1565532606.931881}\n",
      "\u001b[0m\n",
      "\u001b[31m#metrics {\"Metrics\": {\"train_binary_classification_weighted_cross_entropy_objective\": {\"count\": 1, \"max\": 1.3894282245635987, \"sum\": 1.3894282245635987, \"min\": 1.3894282245635987}}, \"EndTime\": 1565532606.931958, \"Dimensions\": {\"model\": 22, \"Host\": \"algo-1\", \"Operation\": \"training\", \"Algorithm\": \"Linear Learner\", \"epoch\": 8}, \"StartTime\": 1565532606.931942}\n",
      "\u001b[0m\n",
      "\u001b[31m#metrics {\"Metrics\": {\"train_binary_classification_weighted_cross_entropy_objective\": {\"count\": 1, \"max\": 1.4040012893676759, \"sum\": 1.4040012893676759, \"min\": 1.4040012893676759}}, \"EndTime\": 1565532606.932021, \"Dimensions\": {\"model\": 23, \"Host\": \"algo-1\", \"Operation\": \"training\", \"Algorithm\": \"Linear Learner\", \"epoch\": 8}, \"StartTime\": 1565532606.932004}\n",
      "\u001b[0m\n",
      "\u001b[31m#metrics {\"Metrics\": {\"train_binary_classification_weighted_cross_entropy_objective\": {\"count\": 1, \"max\": 1.3993895797729492, \"sum\": 1.3993895797729492, \"min\": 1.3993895797729492}}, \"EndTime\": 1565532606.932089, \"Dimensions\": {\"model\": 24, \"Host\": \"algo-1\", \"Operation\": \"training\", \"Algorithm\": \"Linear Learner\", \"epoch\": 8}, \"StartTime\": 1565532606.932071}\n",
      "\u001b[0m\n",
      "\u001b[31m#metrics {\"Metrics\": {\"train_binary_classification_weighted_cross_entropy_objective\": {\"count\": 1, \"max\": 1.399892141342163, \"sum\": 1.399892141342163, \"min\": 1.399892141342163}}, \"EndTime\": 1565532606.932152, \"Dimensions\": {\"model\": 25, \"Host\": \"algo-1\", \"Operation\": \"training\", \"Algorithm\": \"Linear Learner\", \"epoch\": 8}, \"StartTime\": 1565532606.932135}\n",
      "\u001b[0m\n",
      "\u001b[31m#metrics {\"Metrics\": {\"train_binary_classification_weighted_cross_entropy_objective\": {\"count\": 1, \"max\": 1.3992355766296387, \"sum\": 1.3992355766296387, \"min\": 1.3992355766296387}}, \"EndTime\": 1565532606.93221, \"Dimensions\": {\"model\": 26, \"Host\": \"algo-1\", \"Operation\": \"training\", \"Algorithm\": \"Linear Learner\", \"epoch\": 8}, \"StartTime\": 1565532606.932194}\n",
      "\u001b[0m\n",
      "\u001b[31m#metrics {\"Metrics\": {\"train_binary_classification_weighted_cross_entropy_objective\": {\"count\": 1, \"max\": 1.3999169273376464, \"sum\": 1.3999169273376464, \"min\": 1.3999169273376464}}, \"EndTime\": 1565532606.932269, \"Dimensions\": {\"model\": 27, \"Host\": \"algo-1\", \"Operation\": \"training\", \"Algorithm\": \"Linear Learner\", \"epoch\": 8}, \"StartTime\": 1565532606.932252}\n",
      "\u001b[0m\n",
      "\u001b[31m#metrics {\"Metrics\": {\"train_binary_classification_weighted_cross_entropy_objective\": {\"count\": 1, \"max\": 1.4087053546905517, \"sum\": 1.4087053546905517, \"min\": 1.4087053546905517}}, \"EndTime\": 1565532606.932341, \"Dimensions\": {\"model\": 28, \"Host\": \"algo-1\", \"Operation\": \"training\", \"Algorithm\": \"Linear Learner\", \"epoch\": 8}, \"StartTime\": 1565532606.932311}\n",
      "\u001b[0m\n",
      "\u001b[31m#metrics {\"Metrics\": {\"train_binary_classification_weighted_cross_entropy_objective\": {\"count\": 1, \"max\": 1.4129405307769776, \"sum\": 1.4129405307769776, \"min\": 1.4129405307769776}}, \"EndTime\": 1565532606.932426, \"Dimensions\": {\"model\": 29, \"Host\": \"algo-1\", \"Operation\": \"training\", \"Algorithm\": \"Linear Learner\", \"epoch\": 8}, \"StartTime\": 1565532606.932408}\n",
      "\u001b[0m\n",
      "\u001b[31m#metrics {\"Metrics\": {\"train_binary_classification_weighted_cross_entropy_objective\": {\"count\": 1, \"max\": 1.408360984802246, \"sum\": 1.408360984802246, \"min\": 1.408360984802246}}, \"EndTime\": 1565532606.932495, \"Dimensions\": {\"model\": 30, \"Host\": \"algo-1\", \"Operation\": \"training\", \"Algorithm\": \"Linear Learner\", \"epoch\": 8}, \"StartTime\": 1565532606.932477}\n",
      "\u001b[0m\n",
      "\u001b[31m#metrics {\"Metrics\": {\"train_binary_classification_weighted_cross_entropy_objective\": {\"count\": 1, \"max\": 1.4124772357940674, \"sum\": 1.4124772357940674, \"min\": 1.4124772357940674}}, \"EndTime\": 1565532606.932562, \"Dimensions\": {\"model\": 31, \"Host\": \"algo-1\", \"Operation\": \"training\", \"Algorithm\": \"Linear Learner\", \"epoch\": 8}, \"StartTime\": 1565532606.932544}\n",
      "\u001b[0m\n",
      "\u001b[31m[08/11/2019 14:10:06 INFO 140680134403904] #quality_metric: host=algo-1, epoch=8, train binary_classification_weighted_cross_entropy_objective <loss>=1.32917913437\u001b[0m\n",
      "\u001b[31m[08/11/2019 14:10:06 INFO 140680134403904] #early_stopping_criteria_metric: host=algo-1, epoch=8, criteria=binary_classification_weighted_cross_entropy_objective, value=1.32905659103\u001b[0m\n",
      "\u001b[31m[08/11/2019 14:10:06 INFO 140680134403904] Early stop condition met. Stopping training.\u001b[0m\n",
      "\u001b[31m[08/11/2019 14:10:06 INFO 140680134403904] #progress_metric: host=algo-1, completed 100 % epochs\u001b[0m\n",
      "\u001b[31m#metrics {\"Metrics\": {\"Max Batches Seen Between Resets\": {\"count\": 1, \"max\": 33, \"sum\": 33.0, \"min\": 33}, \"Number of Batches Since Last Reset\": {\"count\": 1, \"max\": 33, \"sum\": 33.0, \"min\": 33}, \"Number of Records Since Last Reset\": {\"count\": 1, \"max\": 32221, \"sum\": 32221.0, \"min\": 32221}, \"Total Batches Seen\": {\"count\": 1, \"max\": 309, \"sum\": 309.0, \"min\": 309}, \"Total Records Seen\": {\"count\": 1, \"max\": 301989, \"sum\": 301989.0, \"min\": 301989}, \"Max Records Seen Between Resets\": {\"count\": 1, \"max\": 32221, \"sum\": 32221.0, \"min\": 32221}, \"Reset Count\": {\"count\": 1, \"max\": 11, \"sum\": 11.0, \"min\": 11}}, \"EndTime\": 1565532606.934621, \"Dimensions\": {\"Host\": \"algo-1\", \"Meta\": \"training_data_iter\", \"Operation\": \"training\", \"Algorithm\": \"Linear Learner\", \"epoch\": 8}, \"StartTime\": 1565532605.981149}\n",
      "\u001b[0m\n",
      "\u001b[31m[08/11/2019 14:10:06 INFO 140680134403904] #throughput_metric: host=algo-1, train throughput=33789.1914286 records/second\u001b[0m\n",
      "\u001b[31m[08/11/2019 14:10:06 WARNING 140680134403904] wait_for_all_workers will not sync workers since the kv store is not running distributed\u001b[0m\n",
      "\u001b[31m[08/11/2019 14:10:06 WARNING 140680134403904] wait_for_all_workers will not sync workers since the kv store is not running distributed\u001b[0m\n",
      "\u001b[31m[2019-08-11 14:10:06.939] [tensorio] [info] epoch_stats={\"data_pipeline\": \"/opt/ml/input/data/train\", \"epoch\": 21, \"duration\": 4, \"num_examples\": 1, \"num_bytes\": 108000}\u001b[0m\n",
      "\u001b[31m[2019-08-11 14:10:07.098] [tensorio] [info] epoch_stats={\"data_pipeline\": \"/opt/ml/input/data/train\", \"epoch\": 24, \"duration\": 155, \"num_examples\": 33, \"num_bytes\": 3479868}\u001b[0m\n",
      "\u001b[31m[2019-08-11 14:10:07.212] [tensorio] [info] epoch_stats={\"data_pipeline\": \"/opt/ml/input/data/train\", \"epoch\": 26, \"duration\": 92, \"num_examples\": 33, \"num_bytes\": 3479868}\u001b[0m\n",
      "\u001b[31m[08/11/2019 14:10:07 INFO 140680134403904] #train_score (algo-1) : ('binary_classification_weighted_cross_entropy_objective', 1.3243050035242447)\u001b[0m\n",
      "\u001b[31m[08/11/2019 14:10:07 INFO 140680134403904] #train_score (algo-1) : ('binary_classification_accuracy', 0.40526364793147324)\u001b[0m\n",
      "\u001b[31m[08/11/2019 14:10:07 INFO 140680134403904] #train_score (algo-1) : ('binary_f_1.000', 0.033099550935970536)\u001b[0m\n",
      "\u001b[31m[08/11/2019 14:10:07 INFO 140680134403904] #train_score (algo-1) : ('precision', 0.016883718536058065)\u001b[0m\n",
      "\u001b[31m[08/11/2019 14:10:07 INFO 140680134403904] #train_score (algo-1) : ('recall', 0.8367346938775511)\u001b[0m\n",
      "\u001b[31m[08/11/2019 14:10:07 INFO 140680134403904] #quality_metric: host=algo-1, train binary_classification_weighted_cross_entropy_objective <loss>=1.32430500352\u001b[0m\n",
      "\u001b[31m[08/11/2019 14:10:07 INFO 140680134403904] #quality_metric: host=algo-1, train binary_classification_accuracy <score>=0.405263647931\u001b[0m\n",
      "\u001b[31m[08/11/2019 14:10:07 INFO 140680134403904] #quality_metric: host=algo-1, train binary_f_1.000 <score>=0.033099550936\u001b[0m\n",
      "\u001b[31m[08/11/2019 14:10:07 INFO 140680134403904] #quality_metric: host=algo-1, train precision <score>=0.0168837185361\u001b[0m\n",
      "\u001b[31m[08/11/2019 14:10:07 INFO 140680134403904] #quality_metric: host=algo-1, train recall <score>=0.836734693878\u001b[0m\n",
      "\u001b[31m[08/11/2019 14:10:07 INFO 140680134403904] Best model found for hyperparameters: {\"lr_scheduler_step\": 100, \"wd\": 0.01, \"optimizer\": \"adam\", \"lr_scheduler_factor\": 0.99, \"l1\": 0.0, \"learning_rate\": 0.005, \"lr_scheduler_minimum_lr\": 1e-05}\u001b[0m\n",
      "\u001b[31m[08/11/2019 14:10:07 INFO 140680134403904] Saved checkpoint to \"/tmp/tmpAAz6f0/mx-mod-0000.params\"\u001b[0m\n",
      "\u001b[31m[08/11/2019 14:10:07 INFO 140680134403904] Test data is not provided.\u001b[0m\n",
      "\u001b[31m#metrics {\"Metrics\": {\"totaltime\": {\"count\": 1, \"max\": 10420.555114746094, \"sum\": 10420.555114746094, \"min\": 10420.555114746094}, \"finalize.time\": {\"count\": 1, \"max\": 278.7439823150635, \"sum\": 278.7439823150635, \"min\": 278.7439823150635}, \"initialize.time\": {\"count\": 1, \"max\": 221.59814834594727, \"sum\": 221.59814834594727, \"min\": 221.59814834594727}, \"check_early_stopping.time\": {\"count\": 9, \"max\": 0.9210109710693359, \"sum\": 4.955053329467773, \"min\": 0.18405914306640625}, \"setuptime\": {\"count\": 1, \"max\": 23.092031478881836, \"sum\": 23.092031478881836, \"min\": 23.092031478881836}, \"update.time\": {\"count\": 9, \"max\": 1289.5400524139404, \"sum\": 9818.651914596558, \"min\": 953.2170295715332}, \"epochs\": {\"count\": 1, \"max\": 20, \"sum\": 20.0, \"min\": 20}}, \"EndTime\": 1565532607.225308, \"Dimensions\": {\"Host\": \"algo-1\", \"Operation\": \"training\", \"Algorithm\": \"Linear Learner\"}, \"StartTime\": 1565532596.88608}\n",
      "\u001b[0m\n"
     ]
    },
    {
     "name": "stdout",
     "output_type": "stream",
     "text": [
      "\n",
      "2019-08-11 14:10:16 Completed - Training job completed\n",
      "Billable seconds: 77\n"
     ]
    }
   ],
   "source": [
    "linear.fit(formatted_train_data)"
   ]
  },
  {
   "cell_type": "code",
   "execution_count": 16,
   "metadata": {},
   "outputs": [
    {
     "name": "stdout",
     "output_type": "stream",
     "text": [
      "---------------------------------------------------------------------------------------------------------------------------!"
     ]
    }
   ],
   "source": [
    "# deploy and create a predictor\n",
    "linear_predictor = linear.deploy(initial_instance_count=1, instance_type='ml.t2.medium')"
   ]
  },
  {
   "cell_type": "markdown",
   "metadata": {},
   "source": [
    "##### VII. Evaluating Model"
   ]
  },
  {
   "cell_type": "markdown",
   "metadata": {},
   "source": [
    "In this part we will create a function capable of evaluating out predictor created in last section. This function will first calculate tp, fp, tn and fn. Then using these values `Accuracy`, `Precision`, `Recall` and `f1` are calculated."
   ]
  },
  {
   "cell_type": "code",
   "execution_count": 17,
   "metadata": {},
   "outputs": [
    {
     "data": {
      "text/plain": [
       "array([-1.1721809 ,  0.93151766,  0.25406912, -0.02219727,  0.33041495,\n",
       "       -0.39785215,  0.43600228,  0.35751784, -0.2445548 , -0.1657527 ,\n",
       "        0.11939578, -0.21016099, -0.2651045 ,  0.27220383,  0.35134873,\n",
       "        0.00938801], dtype=float32)"
      ]
     },
     "execution_count": 17,
     "metadata": {},
     "output_type": "execute_result"
    }
   ],
   "source": [
    "# Converting test data to numpy array\n",
    "test_x_np = X_test.values.astype('float32')\n",
    "test_y_np = y_test.values.squeeze().astype('float32')\n",
    "test_x_np[0]"
   ]
  },
  {
   "cell_type": "code",
   "execution_count": 18,
   "metadata": {},
   "outputs": [
    {
     "name": "stdout",
     "output_type": "stream",
     "text": [
      "[label {\n",
      "  key: \"predicted_label\"\n",
      "  value {\n",
      "    float32_tensor {\n",
      "      values: 1.0\n",
      "    }\n",
      "  }\n",
      "}\n",
      "label {\n",
      "  key: \"score\"\n",
      "  value {\n",
      "    float32_tensor {\n",
      "      values: 0.628894567489624\n",
      "    }\n",
      "  }\n",
      "}\n",
      "]\n"
     ]
    }
   ],
   "source": [
    "# Comparing labeled value with predicted value\n",
    "result = linear_predictor.predict(test_x_np[12])\n",
    "\n",
    "print(result)"
   ]
  },
  {
   "cell_type": "code",
   "execution_count": 19,
   "metadata": {},
   "outputs": [],
   "source": [
    "# function to evaluate the endpoint on test data\n",
    "# Returns a variety of model metrics\n",
    "def evaluate(predictor, test_features, test_labels, verbose=True):\n",
    "    \"\"\"\n",
    "    Evaluate a model on a test set given the prediction endpoint.  \n",
    "    Return binary classification metrics.\n",
    "    :param predictor: A prediction endpoint\n",
    "    :param test_features: Test features\n",
    "    :param test_labels: Class labels for test data\n",
    "    :param verbose: If True, prints a table of all performance metrics\n",
    "    :return: A dictionary of performance metrics.\n",
    "    \"\"\"\n",
    "    \n",
    "    # We have a lot of test data, so we'll split it into batches of 100\n",
    "    # split the test data set into batches and evaluate using prediction endpoint    \n",
    "    prediction_batches = [predictor.predict(batch) for batch in test_features]\n",
    "    \n",
    "    # LinearLearner produces a `predicted_label` for each data point in a batch\n",
    "    # get the 'predicted_label' for every point in a batch\n",
    "    test_preds = np.concatenate([np.array([x.label['predicted_label'].float32_tensor.values[0] for x in batch]) \n",
    "                                 for batch in prediction_batches])\n",
    "    \n",
    "    # calculate true positives, false positives, true negatives, false negatives\n",
    "    tp = np.logical_and(test_labels, test_preds).sum()\n",
    "    fp = np.logical_and(1-test_labels, test_preds).sum()\n",
    "    tn = np.logical_and(1-test_labels, 1-test_preds).sum()\n",
    "    fn = np.logical_and(test_labels, 1-test_preds).sum()\n",
    "    \n",
    "    # calculate binary classification metrics\n",
    "    recall = tp / (tp + fn)\n",
    "    precision = tp / (tp + fp)\n",
    "    accuracy = (tp + tn) / (tp + fp + tn + fn)\n",
    "    f1_score = 2*(recall * precision)/(recall + precision)\n",
    "    # printing a table of metrics\n",
    "    if verbose:\n",
    "        print(pd.crosstab(test_labels, test_preds, rownames=['actual (row)'], colnames=['prediction (col)']))\n",
    "        print(\"\\n{:<11} {:.3f}\".format('Recall:', recall))\n",
    "        print(\"{:<11} {:.3f}\".format('Precision:', precision))\n",
    "        print(\"{:<11} {:.3f}\".format('Accuracy:', accuracy))\n",
    "        print(\"{:<11} {:.3f}\".format('f1_score:', f1_score))\n",
    "        \n",
    "        print()\n",
    "        \n",
    "    return {'TP': tp, 'FP': fp, 'FN': fn, 'TN': tn, \n",
    "            'Precision': precision, 'Recall': recall, 'Accuracy': accuracy, 'f1_score':f1_score}"
   ]
  },
  {
   "cell_type": "code",
   "execution_count": 20,
   "metadata": {},
   "outputs": [
    {
     "name": "stdout",
     "output_type": "stream",
     "text": [
      "prediction (col)   0.0   1.0\n",
      "actual (row)                \n",
      "0.0               4247  6354\n",
      "1.0                 23   117\n",
      "\n",
      "Recall:     0.836\n",
      "Precision:  0.018\n",
      "Accuracy:   0.406\n",
      "f1_score:   0.035\n",
      "\n"
     ]
    }
   ],
   "source": [
    "metrics = evaluate(linear_predictor, test_x_np, test_y_np, True)"
   ]
  },
  {
   "cell_type": "markdown",
   "metadata": {},
   "source": [
    "##### VIII. Clean up Resources"
   ]
  },
  {
   "cell_type": "markdown",
   "metadata": {},
   "source": [
    "\n",
    "After we're done evaluating the model, **delete the model endpoint**. We can do this with a call to `.delete_endpoint()`. In the same way we delete all resources from `S3` bucket."
   ]
  },
  {
   "cell_type": "code",
   "execution_count": 22,
   "metadata": {},
   "outputs": [
    {
     "name": "stdout",
     "output_type": "stream",
     "text": [
      "Deleted linear-learner-2019-08-11-14-06-41-463\n"
     ]
    }
   ],
   "source": [
    "# Deletes a precictor.endpoint\n",
    "def delete_endpoint(predictor):\n",
    "        try:\n",
    "            boto3.client('sagemaker').delete_endpoint(EndpointName=linear_predictor.endpoint)\n",
    "            print('Deleted {}'.format(linear_predictor.endpoint))\n",
    "        except:\n",
    "            print('Already deleted: {}'.format(linear_predictor.endpoint))\n",
    "            \n",
    "delete_endpoint(linear_predictor)"
   ]
  },
  {
   "cell_type": "code",
   "execution_count": 77,
   "metadata": {
    "collapsed": true
   },
   "outputs": [
    {
     "data": {
      "text/plain": [
       "[{'ResponseMetadata': {'RequestId': 'C12A98E1254A6F89',\n",
       "   'HostId': '2XFhPZgmJJG73uWDU6vjEJJZ8e6/nuc9rU5crUYY8dMaQTQmKR4dpcbLxs6okKwkE7Y1VUZvgmw=',\n",
       "   'HTTPStatusCode': 200,\n",
       "   'HTTPHeaders': {'x-amz-id-2': '2XFhPZgmJJG73uWDU6vjEJJZ8e6/nuc9rU5crUYY8dMaQTQmKR4dpcbLxs6okKwkE7Y1VUZvgmw=',\n",
       "    'x-amz-request-id': 'C12A98E1254A6F89',\n",
       "    'date': 'Sat, 29 Jun 2019 08:23:19 GMT',\n",
       "    'connection': 'close',\n",
       "    'content-type': 'application/xml',\n",
       "    'transfer-encoding': 'chunked',\n",
       "    'server': 'AmazonS3'},\n",
       "   'RetryAttempts': 0},\n",
       "  'Deleted': [{'Key': 'sagemaker-record-sets/LinearLearner-2019-06-29-07-17-58-199/matrix_0.pbr'},\n",
       "   {'Key': 'plagiarism_out/linear-learner-2019-06-29-07-18-09-093/output/model.tar.gz'},\n",
       "   {'Key': 'sagemaker-pytorch-2019-06-29-07-42-21-012/source/sourcedir.tar.gz'},\n",
       "   {'Key': 'aws-ml-sagemaker-plagiarism/test.csv'},\n",
       "   {'Key': 'aws-ml-sagemaker-plagiarism/train.csv'},\n",
       "   {'Key': 'sagemaker-pytorch-2019-06-29-07-51-35-970/sourcedir.tar.gz'},\n",
       "   {'Key': 'plagiarism_out/sagemaker-pytorch-2019-06-29-07-42-21-012/output/model.tar.gz'},\n",
       "   {'Key': 'aws-ml-sagemaker-plagiarism_pytorch/test.csv'},\n",
       "   {'Key': 'sagemaker-record-sets/LinearLearner-2019-06-29-07-17-58-199/.amazon.manifest'},\n",
       "   {'Key': 'aws-ml-sagemaker-plagiarism_pytorch/train.csv'}]}]"
      ]
     },
     "execution_count": 77,
     "metadata": {},
     "output_type": "execute_result"
    }
   ],
   "source": [
    "# deleting bucket, uncomment lines below\n",
    "\n",
    "bucket_to_delete = boto3.resource('s3').Bucket(bucket)\n",
    "bucket_to_delete.objects.all().delete()"
   ]
  },
  {
   "cell_type": "markdown",
   "metadata": {},
   "source": [
    "## 4- Benchmark Model"
   ]
  },
  {
   "cell_type": "markdown",
   "metadata": {},
   "source": [
    "Once our unsupervised model is implemented and its performance is measured,now it's time to create our benchmark model. The goal is to train a supervised model and comapre its metrics to our K-means model previously tested. In this project we choosed [Logisitc Regression](https://scikit-learn.org/stable/modules/generated/sklearn.linear_model.LogisticRegression.html) provided by Scikitlearn. In the following code we train, predict, test, measure and compare our model to finally provide a reliable conclusion to this project.  "
   ]
  },
  {
   "cell_type": "markdown",
   "metadata": {},
   "source": [
    "###### I. Preparing the data"
   ]
  },
  {
   "cell_type": "code",
   "execution_count": 2,
   "metadata": {},
   "outputs": [
    {
     "name": "stderr",
     "output_type": "stream",
     "text": [
      "/opt/conda/lib/python3.6/site-packages/IPython/core/interactiveshell.py:2785: DtypeWarning: Columns (18,19) have mixed types. Specify dtype option on import or set low_memory=False.\n",
      "  interactivity=interactivity, compiler=compiler, result=result)\n"
     ]
    }
   ],
   "source": [
    "mailout_train = pd.read_csv('../../data/Term2/capstone/arvato_data/Udacity_MAILOUT_052018_TRAIN.csv', sep=';')\n",
    "mailout_test = pd.read_csv('../../data/Term2/capstone/arvato_data/Udacity_MAILOUT_052018_TEST.csv', sep=';')\n",
    "\n",
    "# Sort datas according to LNR column\n",
    "mailout_train_raw2 = mailout_train.sort_values('LNR')\n",
    "mailout_test_raw2 = mailout_test.sort_values('LNR')\n",
    "# Set LNR columns as index\n",
    "mailout_train_raw2 = mailout_train_raw2.set_index('LNR')\n",
    "mailout_test_raw2 = mailout_test_raw2.set_index('LNR')\n",
    "\n",
    "reduced_mailout_train = pd.read_pickle('reduced_mailout_train.pkl')\n",
    "reduced_mailout_test = pd.read_pickle('reduced_mailout_test.pkl')"
   ]
  },
  {
   "cell_type": "code",
   "execution_count": null,
   "metadata": {},
   "outputs": [],
   "source": [
    "X = reduced_mailout_train.reset_index(drop=True)\n",
    "y = mailout_train_raw2[['RESPONSE']].reset_index(drop=True)"
   ]
  },
  {
   "cell_type": "markdown",
   "metadata": {},
   "source": [
    "##### II. Model Development and Prediction"
   ]
  },
  {
   "cell_type": "markdown",
   "metadata": {},
   "source": [
    "First let's define our features (X) and labels (y). Then we will divide the dataset into a training set and a test set by using **train_test_split()** function. We have to pass three parameters features, labels, and test_size. Additionally, we set random_state to make our model reproducible."
   ]
  },
  {
   "cell_type": "code",
   "execution_count": 41,
   "metadata": {},
   "outputs": [],
   "source": [
    "from sklearn.linear_model import LogisticRegression\n",
    "from sklearn.model_selection import train_test_split"
   ]
  },
  {
   "cell_type": "code",
   "execution_count": 42,
   "metadata": {},
   "outputs": [],
   "source": []
  },
  {
   "cell_type": "code",
   "execution_count": 43,
   "metadata": {},
   "outputs": [],
   "source": [
    "X_train, X_test, y_train, y_test = train_test_split(X, y, test_size=0.25, random_state=42)"
   ]
  },
  {
   "cell_type": "markdown",
   "metadata": {},
   "source": [
    "Here, the Dataset is broken into two parts in a ratio of 75:25. It means 75% data will be used for model training and 33% for model testing. Now, we fit our model on the train set using fit() and perform prediction on the test set using predict()."
   ]
  },
  {
   "cell_type": "code",
   "execution_count": 44,
   "metadata": {},
   "outputs": [],
   "source": [
    "ln = LogisticRegression()"
   ]
  },
  {
   "cell_type": "code",
   "execution_count": 45,
   "metadata": {},
   "outputs": [
    {
     "name": "stderr",
     "output_type": "stream",
     "text": [
      "/opt/conda/lib/python3.6/site-packages/sklearn/utils/validation.py:578: DataConversionWarning: A column-vector y was passed when a 1d array was expected. Please change the shape of y to (n_samples, ), for example using ravel().\n",
      "  y = column_or_1d(y, warn=True)\n"
     ]
    }
   ],
   "source": [
    "model = ln.fit(X_train, y_train)"
   ]
  },
  {
   "cell_type": "code",
   "execution_count": 46,
   "metadata": {},
   "outputs": [
    {
     "data": {
      "text/plain": [
       "LogisticRegression(C=1.0, class_weight=None, dual=False, fit_intercept=True,\n",
       "          intercept_scaling=1, max_iter=100, multi_class='ovr', n_jobs=1,\n",
       "          penalty='l2', random_state=None, solver='liblinear', tol=0.0001,\n",
       "          verbose=0, warm_start=False)"
      ]
     },
     "execution_count": 46,
     "metadata": {},
     "output_type": "execute_result"
    }
   ],
   "source": [
    "ln"
   ]
  },
  {
   "cell_type": "markdown",
   "metadata": {},
   "source": [
    "Predicting the test set results and calculating the accuracy"
   ]
  },
  {
   "cell_type": "code",
   "execution_count": 47,
   "metadata": {},
   "outputs": [
    {
     "name": "stdout",
     "output_type": "stream",
     "text": [
      "Accuracy of logistic regression classifier on test set: 0.99\n"
     ]
    }
   ],
   "source": [
    "y_pred = ln.predict(X_test)\n",
    "print('Accuracy of logistic regression classifier on test set: {:.2f}'.format(ln.score(X_test, y_test)))"
   ]
  },
  {
   "cell_type": "markdown",
   "metadata": {},
   "source": [
    "At first sight, we are thinking that our model is performing well with 99% accuracy. However Let's look at more metrics like Recall, Precision and Confusion Matrix to understand how our model is really performing"
   ]
  },
  {
   "cell_type": "markdown",
   "metadata": {},
   "source": [
    "Previous to go further in metrcis let's look at the labels count and how it is distributed. In the histogram below we can observe how our classes are imbalanced, and the ratio of positive response to the mail campaign is 0.01. After visualiztion we let’s do some metrics measurement."
   ]
  },
  {
   "cell_type": "markdown",
   "metadata": {},
   "source": [
    "##### III. Metrics "
   ]
  },
  {
   "cell_type": "code",
   "execution_count": 92,
   "metadata": {},
   "outputs": [],
   "source": [
    "# Importing metrics from sklearn\n",
    "from sklearn.metrics import recall_score, precision_score, f1_score, accuracy_score"
   ]
  },
  {
   "cell_type": "code",
   "execution_count": 93,
   "metadata": {
    "scrolled": true
   },
   "outputs": [
    {
     "data": {
      "image/png": "[encoded data removed]",
      "text/plain": [
       "<matplotlib.figure.Figure at 0x7f86e304db38>"
      ]
     },
     "metadata": {
      "needs_background": "light"
     },
     "output_type": "display_data"
    }
   ],
   "source": [
    "# Reminder\n",
    "import matplotlib.image as mpimg\n",
    "\n",
    "img=mpimg.imread('recall.png')\n",
    "plt.figure(figsize=(50,10))\n",
    "imgplot = plt.imshow(img)"
   ]
  },
  {
   "cell_type": "code",
   "execution_count": 94,
   "metadata": {},
   "outputs": [
    {
     "name": "stdout",
     "output_type": "stream",
     "text": [
      "accuracy_score: 0.986965831859231\n",
      "f1_score: 0.0\n",
      "recall_score: 0.0\n",
      "precision_score: 0.0\n"
     ]
    },
    {
     "name": "stderr",
     "output_type": "stream",
     "text": [
      "/opt/conda/lib/python3.6/site-packages/sklearn/metrics/classification.py:1135: UndefinedMetricWarning: F-score is ill-defined and being set to 0.0 due to no predicted samples.\n",
      "  'precision', 'predicted', average, warn_for)\n",
      "/opt/conda/lib/python3.6/site-packages/sklearn/metrics/classification.py:1135: UndefinedMetricWarning: Precision is ill-defined and being set to 0.0 due to no predicted samples.\n",
      "  'precision', 'predicted', average, warn_for)\n"
     ]
    }
   ],
   "source": [
    "# Calculation of accuracy\n",
    "print ('accuracy_score: {}'.format(accuracy_score(y_test,y_pred )))\n",
    "# Calculation of f1 score\n",
    "print ('f1_score: {}'.format(f1_score(y_test, y_pred)))\n",
    "# Calculation of recall_score\n",
    "print ('recall_score: {}'.format(recall_score(y_test, y_pred)))\n",
    "# Calculation of precision_score\n",
    "print ('precision_score: {}'.format(precision_score(y_test, y_pred)))"
   ]
  },
  {
   "cell_type": "markdown",
   "metadata": {},
   "source": [
    "These scores are very bad. We can see that our model predict 0 number of the pesrons supposed to be in the mail list (labeled 1). we can improve our model with different techniques as follow:\n",
    "\n",
    "- Oversample minority class\n",
    "- Tuning the model"
   ]
  },
  {
   "cell_type": "code",
   "execution_count": 95,
   "metadata": {},
   "outputs": [
    {
     "data": {
      "text/plain": [
       "array([[10601,     0],\n",
       "       [  140,     0]])"
      ]
     },
     "execution_count": 95,
     "metadata": {},
     "output_type": "execute_result"
    }
   ],
   "source": [
    "# import the metrics class\n",
    "from sklearn import metrics\n",
    "cnf_matrix = metrics.confusion_matrix(y_test, y_pred)\n",
    "cnf_matrix"
   ]
  },
  {
   "cell_type": "code",
   "execution_count": 96,
   "metadata": {},
   "outputs": [
    {
     "name": "stdout",
     "output_type": "stream",
     "text": [
      "True Positive: 0\n",
      "True Negative: 10601\n",
      "False Positive: 140\n",
      "False Negative: 0\n"
     ]
    }
   ],
   "source": [
    "print ('True Positive: {}'.format(cnf_matrix[1][1]))\n",
    "print ('True Negative: {}'.format(cnf_matrix[0][0]))\n",
    "print ('False Positive: {}'.format(cnf_matrix[0][1]))\n",
    "print ('False Negative: {}'.format(cnf_matrix[1][0]))"
   ]
  },
  {
   "cell_type": "markdown",
   "metadata": {},
   "source": [
    "Here, in the confusion matrix we have diagonal values representing correct predictions (True Positive and True Negative), while non-diagonal elements are incorrect predictions (False Positive and False Negative). In the output, we have 10601 True negative and 140 False Positive (incorrect prediction of positive mail response).\n",
    "\n",
    "That means instead of 99% accuracy we failed to reach our goal which is to **predict individuals to put in mail order for marketing campaign**"
   ]
  },
  {
   "cell_type": "markdown",
   "metadata": {},
   "source": [
    "##### IV. Oversample minority class"
   ]
  },
  {
   "cell_type": "markdown",
   "metadata": {},
   "source": [
    "To compensate imbalance in data we need to resample our data. For this data we use oversampling which can be defined as adding more copies of the minority class. Oversampling can be a good choice when we don’t have enough data to work with. In this project we will use the resampling module from Scikit-Learn to randomly replicate samples from the minority class."
   ]
  },
  {
   "cell_type": "code",
   "execution_count": 97,
   "metadata": {},
   "outputs": [],
   "source": [
    "concat = pd.concat([X_train, y_train], axis=1)\n",
    "\n",
    "# separate minority and majority classes\n",
    "no_resp = concat[concat.RESPONSE==0]\n",
    "pos_resp = concat[concat.RESPONSE==1]"
   ]
  },
  {
   "cell_type": "code",
   "execution_count": 98,
   "metadata": {},
   "outputs": [],
   "source": [
    "from sklearn.utils import resample\n",
    "# Upsample minority\n",
    "pos_resp_upsampled = resample(pos_resp,\n",
    "                          replace=True, # sample with replacement\n",
    "                          n_samples=len(no_resp), # match number in majority class\n",
    "                          random_state=27) # reproducible results\n",
    "\n",
    "# combine majority and upsampled minority\n",
    "upsampled = pd.concat([no_resp, pos_resp_upsampled])"
   ]
  },
  {
   "cell_type": "code",
   "execution_count": 99,
   "metadata": {},
   "outputs": [
    {
     "data": {
      "text/plain": [
       "1    31829\n",
       "0    31829\n",
       "Name: RESPONSE, dtype: int64"
      ]
     },
     "execution_count": 99,
     "metadata": {},
     "output_type": "execute_result"
    }
   ],
   "source": [
    "# Check new class counts\n",
    "upsampled.RESPONSE.value_counts()"
   ]
  },
  {
   "cell_type": "code",
   "execution_count": 100,
   "metadata": {},
   "outputs": [
    {
     "name": "stdout",
     "output_type": "stream",
     "text": [
      "accuracy_score: 0.589051298761754\n",
      "f1_score: 0.040851803563667966\n",
      "recall_score: 0.6714285714285714\n",
      "precision_score: 0.0210667861945316\n"
     ]
    }
   ],
   "source": [
    "# trying logistic regression again with the balanced dataset\n",
    "y_train = upsampled.RESPONSE\n",
    "X_train = upsampled.drop('RESPONSE', axis=1)\n",
    "\n",
    "upsampled = ln.fit(X_train, y_train)\n",
    "\n",
    "upsampled_pred = upsampled.predict(X_test)\n",
    "\n",
    "# Checking accuracy\n",
    "print ('accuracy_score: {}'.format(accuracy_score(y_test, upsampled_pred)))\n",
    "# f1 score\n",
    "print ('f1_score: {}'.format(f1_score(y_test, upsampled_pred)))\n",
    "# recall_score\n",
    "print ('recall_score: {}'.format(recall_score(y_test, upsampled_pred)))\n",
    "# precision_score\n",
    "print ('precision_score: {}'.format(precision_score(y_test, upsampled_pred)))"
   ]
  },
  {
   "cell_type": "code",
   "execution_count": 101,
   "metadata": {},
   "outputs": [
    {
     "data": {
      "text/plain": [
       "array([[6233, 4368],\n",
       "       [  46,   94]])"
      ]
     },
     "execution_count": 101,
     "metadata": {},
     "output_type": "execute_result"
    }
   ],
   "source": [
    "# import the metrics class\n",
    "cnf_matrix = metrics.confusion_matrix(y_test, upsampled_pred)\n",
    "cnf_matrix"
   ]
  },
  {
   "cell_type": "code",
   "execution_count": 66,
   "metadata": {},
   "outputs": [
    {
     "name": "stdout",
     "output_type": "stream",
     "text": [
      "True Positive: 94\n",
      "True Negative: 6233\n",
      "False Positive: 46\n",
      "False Negative: 4368\n"
     ]
    }
   ],
   "source": [
    "print ('True Positive: {}'.format(cnf_matrix[1][1]))\n",
    "print ('True Negative: {}'.format(cnf_matrix[0][0]))\n",
    "print ('False Positive: {}'.format(cnf_matrix[0][1]))\n",
    "print ('False Negative: {}'.format(cnf_matrix[1][0]))"
   ]
  },
  {
   "cell_type": "markdown",
   "metadata": {},
   "source": [
    "##### V. Compare to our model"
   ]
  },
  {
   "cell_type": "code",
   "execution_count": null,
   "metadata": {},
   "outputs": [],
   "source": []
  },
  {
   "cell_type": "code",
   "execution_count": null,
   "metadata": {},
   "outputs": [],
   "source": []
  },
  {
   "cell_type": "code",
   "execution_count": null,
   "metadata": {},
   "outputs": [],
   "source": []
  },
  {
   "cell_type": "code",
   "execution_count": null,
   "metadata": {},
   "outputs": [],
   "source": []
  },
  {
   "cell_type": "code",
   "execution_count": null,
   "metadata": {},
   "outputs": [],
   "source": []
  },
  {
   "cell_type": "code",
   "execution_count": null,
   "metadata": {},
   "outputs": [],
   "source": []
  },
  {
   "cell_type": "markdown",
   "metadata": {},
   "source": [
    "## Part 3: Kaggle Competition\n",
    "\n",
    "Now that you've created a model to predict which individuals are most likely to respond to a mailout campaign, it's time to test that model in competition through Kaggle. If you click on the link [here](http://www.kaggle.com/t/21e6d45d4c574c7fa2d868f0e8c83140), you'll be taken to the competition page where, if you have a Kaggle account, you can enter. If you're one of the top performers, you may have the chance to be contacted by a hiring manager from Arvato or Bertelsmann for an interview!\n",
    "\n",
    "Your entry to the competition should be a CSV file with two columns. The first column should be a copy of \"LNR\", which acts as an ID number for each individual in the \"TEST\" partition. The second column, \"RESPONSE\", should be some measure of how likely each individual became a customer – this might not be a straightforward probability. As you should have found in Part 2, there is a large output class imbalance, where most individuals did not respond to the mailout. Thus, predicting individual classes and using accuracy does not seem to be an appropriate performance evaluation method. Instead, the competition will be using AUC to evaluate performance. The exact values of the \"RESPONSE\" column do not matter as much: only that the higher values try to capture as many of the actual customers as possible, early in the ROC curve sweep."
   ]
  }
 ],
 "metadata": {
  "kernelspec": {
   "display_name": "Python 3",
   "language": "python",
   "name": "python3"
  },
  "language_info": {
   "codemirror_mode": {
    "name": "ipython",
    "version": 3
   },
   "file_extension": ".py",
   "mimetype": "text/x-python",
   "name": "python",
   "nbconvert_exporter": "python",
   "pygments_lexer": "ipython3",
   "version": "3.6.3"
  }
 },
 "nbformat": 4,
 "nbformat_minor": 2
}
